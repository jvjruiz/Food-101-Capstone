{
 "cells": [
  {
   "cell_type": "markdown",
   "metadata": {},
   "source": [
    "#### Building a K-NN Classifier for the images\n",
    "As a preliminary model to build a baseline for a classifier that utilizes a simple algorithm, I will utlize the K-NN algorithm.\n"
   ]
  },
  {
   "cell_type": "code",
   "execution_count": 1,
   "metadata": {
    "scrolled": true
   },
   "outputs": [],
   "source": [
    "# import the necessary packages\n",
    "from sklearn.neighbors import KNeighborsClassifier\n",
    "from sklearn.model_selection import train_test_split\n",
    "from imutils import paths\n",
    "import numpy as np\n",
    "import argparse\n",
    "import imutils\n",
    "import cv2\n",
    "import os\n",
    "import pandas as pd"
   ]
  },
  {
   "cell_type": "code",
   "execution_count": 2,
   "metadata": {},
   "outputs": [
    {
     "name": "stdout",
     "output_type": "stream",
     "text": [
      "<class 'pandas.core.frame.DataFrame'>\n",
      "RangeIndex: 35350 entries, 0 to 35349\n",
      "Data columns (total 5 columns):\n",
      "food_class        35350 non-null object\n",
      "label             35350 non-null object\n",
      "id                35350 non-null int64\n",
      "path              35350 non-null object\n",
      "training_image    35350 non-null object\n",
      "dtypes: int64(1), object(4)\n",
      "memory usage: 1.3+ MB\n"
     ]
    }
   ],
   "source": [
    "data = pd.read_csv(\"data/meta/working_df_subset.csv\")\n",
    "data.info()"
   ]
  },
  {
   "cell_type": "code",
   "execution_count": 3,
   "metadata": {},
   "outputs": [],
   "source": [
    "def image_to_feature_vector(image, size=(32,32)):\n",
    "    #resize an image to a fixed size, then flatten image\n",
    "    # int a list of raw pixel intesities\n",
    "    # this is necessary to ensure that the images are a standard data\n",
    "    # format for our classifier\n",
    "    return cv2.resize(image, size).flatten()"
   ]
  },
  {
   "cell_type": "code",
   "execution_count": 4,
   "metadata": {},
   "outputs": [],
   "source": [
    "def extract_color_histogram(image, bins=(8,8,8)):\n",
    "    # extract a 3D color histogram from the HSV color space\n",
    "    # using the supplied number of 'bins' per channel\n",
    "    hsv = cv2.cvtColor(image, cv2.COLOR_BGR2HSV)\n",
    "    hist = cv2.calcHist([hsv], [0,1,2], None, bins, \n",
    "           [0,180,0,256,0,256])\n",
    "    \n",
    "    # handle normalizing the histogram if we are using OPenCV 2.4.X\n",
    "    if imutils.is_cv2():\n",
    "        hist = cv2.normalize(hist)\n",
    "        \n",
    "    # otherwise, perform 'in place' normalization in OpenCV3\n",
    "    else:\n",
    "        cv2.normalize(hist,hist)\n",
    "        \n",
    "    # return the flattened histogram as the feature vector\n",
    "    return hist.flatten()"
   ]
  },
  {
   "cell_type": "code",
   "execution_count": 5,
   "metadata": {},
   "outputs": [
    {
     "data": {
      "text/plain": [
       "_StoreAction(option_strings=['-j', '--jobs'], dest='jobs', nargs=None, const=None, default=-1, type=<class 'int'>, choices=None, help='# of jobs for k-NN distance (-1 uses all available cores)', metavar=None)"
      ]
     },
     "execution_count": 5,
     "metadata": {},
     "output_type": "execute_result"
    }
   ],
   "source": [
    "# construct arguments\n",
    "ap = argparse.ArgumentParser()\n",
    "ap.add_argument(\"-k\", \"--neighbors\", default=1, \n",
    "                help=\"# of nearest neighbors\")\n",
    "ap.add_argument(\"-j\", \"--jobs\", type=int, default=-1,\n",
    "               help=\"# of jobs for k-NN distance (-1 uses all available cores)\")\n",
    "# args = vars(ap.parse_args())\n"
   ]
  },
  {
   "cell_type": "code",
   "execution_count": 6,
   "metadata": {
    "scrolled": true
   },
   "outputs": [
    {
     "name": "stdout",
     "output_type": "stream",
     "text": [
      "[INFO] processed 1000/35350\n",
      "[INFO] processed 2000/35350\n",
      "[INFO] processed 3000/35350\n",
      "[INFO] processed 4000/35350\n",
      "[INFO] processed 5000/35350\n",
      "[INFO] processed 6000/35350\n",
      "[INFO] processed 7000/35350\n",
      "[INFO] processed 8000/35350\n",
      "[INFO] processed 9000/35350\n",
      "[INFO] processed 10000/35350\n",
      "[INFO] processed 11000/35350\n",
      "[INFO] processed 12000/35350\n",
      "[INFO] processed 13000/35350\n",
      "[INFO] processed 14000/35350\n",
      "[INFO] processed 15000/35350\n",
      "[INFO] processed 16000/35350\n",
      "[INFO] processed 17000/35350\n",
      "[INFO] processed 18000/35350\n",
      "[INFO] processed 19000/35350\n",
      "[INFO] processed 20000/35350\n",
      "[INFO] processed 21000/35350\n",
      "[INFO] processed 22000/35350\n",
      "[INFO] processed 23000/35350\n",
      "[INFO] processed 24000/35350\n",
      "[INFO] processed 25000/35350\n",
      "[INFO] processed 26000/35350\n",
      "[INFO] processed 27000/35350\n",
      "[INFO] processed 28000/35350\n",
      "[INFO] processed 29000/35350\n",
      "[INFO] processed 30000/35350\n",
      "[INFO] processed 31000/35350\n",
      "[INFO] processed 32000/35350\n",
      "[INFO] processed 33000/35350\n",
      "[INFO] processed 34000/35350\n",
      "[INFO] processed 35000/35350\n",
      "[INFO] pixels matrix: 106.05MB\n",
      "[INFO] features matrix: 70.70MB\n"
     ]
    }
   ],
   "source": [
    "# initiate pixel intensity, features, and labels matrixes\n",
    "rawImages = []\n",
    "features = []\n",
    "labels = []\n",
    "\n",
    "imagePaths = data['path'].tolist()\n",
    "labels = data['label'].tolist()\n",
    "\n",
    "for (i, imagePath) in enumerate(imagePaths):\n",
    "    image = cv2.imread(imagePath + \".jpg\")\n",
    "    pixels = image_to_feature_vector(image)\n",
    "    hist = extract_color_histogram(image)\n",
    "    \n",
    "    # update the raw images, features, and label matricies,\n",
    "    # respectively\n",
    "    rawImages.append(pixels)\n",
    "    features.append(hist)\n",
    "    # show an update every 1,000 images\n",
    "    if i > 0 and i % 1000 == 0:\n",
    "        print(\"[INFO] processed {}/{}\".format(i, len(imagePaths)))\n",
    "    \n",
    "rawImages = np.array(rawImages)\n",
    "features = np.array(features)\n",
    "labels = np.array(labels)\n",
    "\n",
    "print(\"[INFO] pixels matrix: {:.2f}MB\".format(\n",
    "\trawImages.nbytes / (1024 * 1000.0)))\n",
    "print(\"[INFO] features matrix: {:.2f}MB\".format(\n",
    "\tfeatures.nbytes / (1024 * 1000.0)))"
   ]
  },
  {
   "cell_type": "code",
   "execution_count": null,
   "metadata": {},
   "outputs": [],
   "source": [
    "np.savetxt('pixels.csv', rawImages, delimiter=',')\n",
    "np.savetxt('features.csv',features,delimiter=',')"
   ]
  },
  {
   "cell_type": "code",
   "execution_count": null,
   "metadata": {},
   "outputs": [],
   "source": [
    "len(labels)"
   ]
  },
  {
   "cell_type": "code",
   "execution_count": 27,
   "metadata": {},
   "outputs": [],
   "source": [
    "# partition the data into training and testing splits, using 75%\n",
    "# of the data for training and the remaining 25% for testing\n",
    "(trainRI, testRI, trainRL, testRL) = train_test_split(\n",
    "    rawImages, labels, test_size=0.2, random_state=42)\n",
    "(trainFeat, testFeat, trainLabels, testLabels) = train_test_split(\n",
    "    features, labels, test_size=0.2, random_state=42)"
   ]
  },
  {
   "cell_type": "code",
   "execution_count": 28,
   "metadata": {},
   "outputs": [
    {
     "name": "stdout",
     "output_type": "stream",
     "text": [
      "[INFO] evaluating raw pixel accuracy...\n",
      "[INFO] raw pixel accuracy: 2.19%\n"
     ]
    }
   ],
   "source": [
    "# train and evaluate a k-NN classifer on the raw pixel intensities\n",
    "print(\"[INFO] evaluating raw pixel accuracy...\")\n",
    "model = KNeighborsClassifier(n_neighbors=10,\n",
    "\tn_jobs=-1)\n",
    "model.fit(trainRI, trainRL)\n",
    "acc = model.score(testRI, testRL)\n",
    "print(\"[INFO] raw pixel accuracy: {:.2f}%\".format(acc * 100))"
   ]
  },
  {
   "cell_type": "code",
   "execution_count": 29,
   "metadata": {},
   "outputs": [
    {
     "name": "stdout",
     "output_type": "stream",
     "text": [
      "[INFO] evaluating histogram accuracy...\n",
      "[INFO] histogram accuracy: 3.17%\n"
     ]
    }
   ],
   "source": [
    "# train and evaluate a k-NN classifer on the histogram\n",
    "# representations\n",
    "print(\"[INFO] evaluating histogram accuracy...\")\n",
    "model = KNeighborsClassifier(n_neighbors=2,\n",
    "    n_jobs=-1)\n",
    "model.fit(trainFeat, trainLabels)\n",
    "acc = model.score(testFeat, testLabels)\n",
    "print(\"[INFO] histogram accuracy: {:.2f}%\".format(acc * 100))"
   ]
  }
 ],
 "metadata": {
  "kernelspec": {
   "display_name": "Python 3",
   "language": "python",
   "name": "python3"
  },
  "language_info": {
   "codemirror_mode": {
    "name": "ipython",
    "version": 3
   },
   "file_extension": ".py",
   "mimetype": "text/x-python",
   "name": "python",
   "nbconvert_exporter": "python",
   "pygments_lexer": "ipython3",
   "version": "3.7.3"
  }
 },
 "nbformat": 4,
 "nbformat_minor": 2
}
