{
 "cells": [
  {
   "cell_type": "markdown",
   "metadata": {},
   "source": [
    "### Load the necessary packages"
   ]
  },
  {
   "cell_type": "code",
   "execution_count": 1,
   "metadata": {},
   "outputs": [
    {
     "name": "stderr",
     "output_type": "stream",
     "text": [
      "C:\\ProgramData\\Anaconda3\\lib\\site-packages\\tqdm\\autonotebook\\__init__.py:14: TqdmExperimentalWarning: Using `tqdm.autonotebook.tqdm` in notebook mode. Use `tqdm.tqdm` instead to force console mode (e.g. in jupyter console)\n",
      "  \" (e.g. in jupyter console)\", TqdmExperimentalWarning)\n",
      "WARNING:torch_lr_finder.lr_finder:To enable mixed precision training, please install `apex`. Or you can re-install this package by the following command:\n",
      "  pip install torch-lr-finder -v --global-option=\"amp\"\n"
     ]
    }
   ],
   "source": [
    "from IPython.core.interactiveshell import InteractiveShell\n",
    "import seaborn as sns\n",
    "# PyTorch\n",
    "from torchvision import transforms, datasets, models\n",
    "import torch\n",
    "from torch import optim, cuda\n",
    "from torch.utils.data import DataLoader, sampler\n",
    "import torch.nn as nn\n",
    "\n",
    "from torch_lr_finder import LRFinder\n",
    "\n",
    "import warnings\n",
    "warnings.filterwarnings('ignore', category=FutureWarning)\n",
    "\n",
    "# Data science tools\n",
    "import numpy as np\n",
    "import pandas as pd\n",
    "import os\n",
    "\n",
    "# Image manipulations\n",
    "from PIL import Image\n",
    "# Useful for examining network\n",
    "from torchsummary import summary\n",
    "# Timing utility\n",
    "from timeit import default_timer as timer\n",
    "\n",
    "# Visualizations\n",
    "import matplotlib.pyplot as plt\n",
    "%matplotlib inline\n",
    "plt.rcParams['font.size'] = 14\n",
    "\n",
    "# Printing out all outputs\n",
    "InteractiveShell.ast_node_interactivity = 'all'\n",
    "\n",
    "import warnings\n",
    "warnings.filterwarnings('ignore')"
   ]
  },
  {
   "cell_type": "markdown",
   "metadata": {},
   "source": [
    "### Initalize parameters"
   ]
  },
  {
   "cell_type": "code",
   "execution_count": 44,
   "metadata": {},
   "outputs": [
    {
     "name": "stdout",
     "output_type": "stream",
     "text": [
      "Train on gpu: True\n",
      "1 gpus detected.\n"
     ]
    }
   ],
   "source": [
    "# Location of data\n",
    "data_dir = '../data/'\n",
    "train_dir = data_dir + 'train/'\n",
    "valid_dir = data_dir + 'valid/'\n",
    "test_dir = data_dir + 'test/'\n",
    "\n",
    "save_file_name = 'resnet50-transfer10.pt'\n",
    "checkpoint_file_name = 'resnet50-transfer10.pth'\n",
    "\n",
    "# Change to fit hardware\n",
    "batch_size = 32\n",
    "\n",
    "image_size = 224\n",
    "\n",
    "# Whether to train on a gpu\n",
    "train_on_gpu = cuda.is_available()\n",
    "print(f'Train on gpu: {train_on_gpu}')\n",
    "\n",
    "# Number of gpus\n",
    "if train_on_gpu:\n",
    "    gpu_count = cuda.device_count()\n",
    "    print(f'{gpu_count} gpus detected.')\n",
    "    if gpu_count > 1:\n",
    "        multi_gpu = True\n",
    "    else:\n",
    "        multi_gpu = False"
   ]
  },
  {
   "cell_type": "code",
   "execution_count": 3,
   "metadata": {},
   "outputs": [
    {
     "data": {
      "text/plain": [
       "<torch._C.Generator at 0x28ed595afd0>"
      ]
     },
     "execution_count": 3,
     "metadata": {},
     "output_type": "execute_result"
    }
   ],
   "source": [
    "# set random seeds\n",
    "torch.manual_seed(42)\n",
    "torch.backends.cudnn.deterministic = True\n",
    "torch.backends.cudnn.benchmark = False\n",
    "np.random.seed(42)"
   ]
  },
  {
   "cell_type": "markdown",
   "metadata": {},
   "source": [
    "### Image Augmentation"
   ]
  },
  {
   "cell_type": "code",
   "execution_count": 35,
   "metadata": {},
   "outputs": [],
   "source": [
    "image_transforms = {\n",
    "    # Train uses data augmentation\n",
    "    'train':\n",
    "    transforms.Compose([\n",
    "        transforms.RandomResizedCrop(size=image_size),\n",
    "        transforms.RandomRotation(degrees=45),\n",
    "        transforms.RandomHorizontalFlip(),\n",
    "        transforms.RandomVerticalFlip(),\n",
    "        transforms.RandomAffine(45),\n",
    "        transforms.ColorJitter(),\n",
    "        transforms.ToTensor(),\n",
    "        transforms.Normalize([0.485, 0.456, 0.406],\n",
    "                             [0.229, 0.224, 0.225])  # Imagenet standards\n",
    "    ]),\n",
    "    # Validation does not use augmentation\n",
    "    'val':\n",
    "    transforms.Compose([\n",
    "        transforms.CenterCrop(size=image_size),\n",
    "        transforms.ToTensor(),\n",
    "        transforms.Normalize([0.485, 0.456, 0.406], [0.229, 0.224, 0.225])\n",
    "    ]),\n",
    "    # Test does not use augmentation\n",
    "    'test':\n",
    "    transforms.Compose([\n",
    "        transforms.CenterCrop(size=image_size),\n",
    "        transforms.ToTensor(),\n",
    "        transforms.Normalize([0.485, 0.456, 0.406], [0.229, 0.224, 0.225])\n",
    "    ]),\n",
    "}"
   ]
  },
  {
   "cell_type": "markdown",
   "metadata": {},
   "source": [
    "### Data Iterators"
   ]
  },
  {
   "cell_type": "code",
   "execution_count": 36,
   "metadata": {},
   "outputs": [],
   "source": [
    "# Datasets from each folder\n",
    "data = {\n",
    "    'train':\n",
    "    datasets.ImageFolder(root=train_dir, transform=image_transforms['train']),\n",
    "    'val':\n",
    "    datasets.ImageFolder(root=valid_dir, transform=image_transforms['val']),\n",
    "    'test':\n",
    "    datasets.ImageFolder(root=test_dir, transform=image_transforms['test'])\n",
    "}\n",
    "\n",
    "# Dataloader iterators\n",
    "dataloaders = {\n",
    "    'train': DataLoader(data['train'], batch_size=batch_size, shuffle=True),\n",
    "    'val': DataLoader(data['val'], batch_size=batch_size, shuffle=True),\n",
    "    'test': DataLoader(data['test'], batch_size=batch_size, shuffle=True)\n",
    "}"
   ]
  },
  {
   "cell_type": "markdown",
   "metadata": {},
   "source": [
    "### Model Setup\n",
    "#### Load Pre-trained ResNet50Model"
   ]
  },
  {
   "cell_type": "code",
   "execution_count": 6,
   "metadata": {
    "scrolled": true
   },
   "outputs": [
    {
     "data": {
      "text/plain": [
       "ResNet(\n",
       "  (conv1): Conv2d(3, 64, kernel_size=(7, 7), stride=(2, 2), padding=(3, 3), bias=False)\n",
       "  (bn1): BatchNorm2d(64, eps=1e-05, momentum=0.1, affine=True, track_running_stats=True)\n",
       "  (relu): ReLU(inplace=True)\n",
       "  (maxpool): MaxPool2d(kernel_size=3, stride=2, padding=1, dilation=1, ceil_mode=False)\n",
       "  (layer1): Sequential(\n",
       "    (0): Bottleneck(\n",
       "      (conv1): Conv2d(64, 64, kernel_size=(1, 1), stride=(1, 1), bias=False)\n",
       "      (bn1): BatchNorm2d(64, eps=1e-05, momentum=0.1, affine=True, track_running_stats=True)\n",
       "      (conv2): Conv2d(64, 64, kernel_size=(3, 3), stride=(1, 1), padding=(1, 1), bias=False)\n",
       "      (bn2): BatchNorm2d(64, eps=1e-05, momentum=0.1, affine=True, track_running_stats=True)\n",
       "      (conv3): Conv2d(64, 256, kernel_size=(1, 1), stride=(1, 1), bias=False)\n",
       "      (bn3): BatchNorm2d(256, eps=1e-05, momentum=0.1, affine=True, track_running_stats=True)\n",
       "      (relu): ReLU(inplace=True)\n",
       "      (downsample): Sequential(\n",
       "        (0): Conv2d(64, 256, kernel_size=(1, 1), stride=(1, 1), bias=False)\n",
       "        (1): BatchNorm2d(256, eps=1e-05, momentum=0.1, affine=True, track_running_stats=True)\n",
       "      )\n",
       "    )\n",
       "    (1): Bottleneck(\n",
       "      (conv1): Conv2d(256, 64, kernel_size=(1, 1), stride=(1, 1), bias=False)\n",
       "      (bn1): BatchNorm2d(64, eps=1e-05, momentum=0.1, affine=True, track_running_stats=True)\n",
       "      (conv2): Conv2d(64, 64, kernel_size=(3, 3), stride=(1, 1), padding=(1, 1), bias=False)\n",
       "      (bn2): BatchNorm2d(64, eps=1e-05, momentum=0.1, affine=True, track_running_stats=True)\n",
       "      (conv3): Conv2d(64, 256, kernel_size=(1, 1), stride=(1, 1), bias=False)\n",
       "      (bn3): BatchNorm2d(256, eps=1e-05, momentum=0.1, affine=True, track_running_stats=True)\n",
       "      (relu): ReLU(inplace=True)\n",
       "    )\n",
       "    (2): Bottleneck(\n",
       "      (conv1): Conv2d(256, 64, kernel_size=(1, 1), stride=(1, 1), bias=False)\n",
       "      (bn1): BatchNorm2d(64, eps=1e-05, momentum=0.1, affine=True, track_running_stats=True)\n",
       "      (conv2): Conv2d(64, 64, kernel_size=(3, 3), stride=(1, 1), padding=(1, 1), bias=False)\n",
       "      (bn2): BatchNorm2d(64, eps=1e-05, momentum=0.1, affine=True, track_running_stats=True)\n",
       "      (conv3): Conv2d(64, 256, kernel_size=(1, 1), stride=(1, 1), bias=False)\n",
       "      (bn3): BatchNorm2d(256, eps=1e-05, momentum=0.1, affine=True, track_running_stats=True)\n",
       "      (relu): ReLU(inplace=True)\n",
       "    )\n",
       "  )\n",
       "  (layer2): Sequential(\n",
       "    (0): Bottleneck(\n",
       "      (conv1): Conv2d(256, 128, kernel_size=(1, 1), stride=(1, 1), bias=False)\n",
       "      (bn1): BatchNorm2d(128, eps=1e-05, momentum=0.1, affine=True, track_running_stats=True)\n",
       "      (conv2): Conv2d(128, 128, kernel_size=(3, 3), stride=(2, 2), padding=(1, 1), bias=False)\n",
       "      (bn2): BatchNorm2d(128, eps=1e-05, momentum=0.1, affine=True, track_running_stats=True)\n",
       "      (conv3): Conv2d(128, 512, kernel_size=(1, 1), stride=(1, 1), bias=False)\n",
       "      (bn3): BatchNorm2d(512, eps=1e-05, momentum=0.1, affine=True, track_running_stats=True)\n",
       "      (relu): ReLU(inplace=True)\n",
       "      (downsample): Sequential(\n",
       "        (0): Conv2d(256, 512, kernel_size=(1, 1), stride=(2, 2), bias=False)\n",
       "        (1): BatchNorm2d(512, eps=1e-05, momentum=0.1, affine=True, track_running_stats=True)\n",
       "      )\n",
       "    )\n",
       "    (1): Bottleneck(\n",
       "      (conv1): Conv2d(512, 128, kernel_size=(1, 1), stride=(1, 1), bias=False)\n",
       "      (bn1): BatchNorm2d(128, eps=1e-05, momentum=0.1, affine=True, track_running_stats=True)\n",
       "      (conv2): Conv2d(128, 128, kernel_size=(3, 3), stride=(1, 1), padding=(1, 1), bias=False)\n",
       "      (bn2): BatchNorm2d(128, eps=1e-05, momentum=0.1, affine=True, track_running_stats=True)\n",
       "      (conv3): Conv2d(128, 512, kernel_size=(1, 1), stride=(1, 1), bias=False)\n",
       "      (bn3): BatchNorm2d(512, eps=1e-05, momentum=0.1, affine=True, track_running_stats=True)\n",
       "      (relu): ReLU(inplace=True)\n",
       "    )\n",
       "    (2): Bottleneck(\n",
       "      (conv1): Conv2d(512, 128, kernel_size=(1, 1), stride=(1, 1), bias=False)\n",
       "      (bn1): BatchNorm2d(128, eps=1e-05, momentum=0.1, affine=True, track_running_stats=True)\n",
       "      (conv2): Conv2d(128, 128, kernel_size=(3, 3), stride=(1, 1), padding=(1, 1), bias=False)\n",
       "      (bn2): BatchNorm2d(128, eps=1e-05, momentum=0.1, affine=True, track_running_stats=True)\n",
       "      (conv3): Conv2d(128, 512, kernel_size=(1, 1), stride=(1, 1), bias=False)\n",
       "      (bn3): BatchNorm2d(512, eps=1e-05, momentum=0.1, affine=True, track_running_stats=True)\n",
       "      (relu): ReLU(inplace=True)\n",
       "    )\n",
       "    (3): Bottleneck(\n",
       "      (conv1): Conv2d(512, 128, kernel_size=(1, 1), stride=(1, 1), bias=False)\n",
       "      (bn1): BatchNorm2d(128, eps=1e-05, momentum=0.1, affine=True, track_running_stats=True)\n",
       "      (conv2): Conv2d(128, 128, kernel_size=(3, 3), stride=(1, 1), padding=(1, 1), bias=False)\n",
       "      (bn2): BatchNorm2d(128, eps=1e-05, momentum=0.1, affine=True, track_running_stats=True)\n",
       "      (conv3): Conv2d(128, 512, kernel_size=(1, 1), stride=(1, 1), bias=False)\n",
       "      (bn3): BatchNorm2d(512, eps=1e-05, momentum=0.1, affine=True, track_running_stats=True)\n",
       "      (relu): ReLU(inplace=True)\n",
       "    )\n",
       "  )\n",
       "  (layer3): Sequential(\n",
       "    (0): Bottleneck(\n",
       "      (conv1): Conv2d(512, 256, kernel_size=(1, 1), stride=(1, 1), bias=False)\n",
       "      (bn1): BatchNorm2d(256, eps=1e-05, momentum=0.1, affine=True, track_running_stats=True)\n",
       "      (conv2): Conv2d(256, 256, kernel_size=(3, 3), stride=(2, 2), padding=(1, 1), bias=False)\n",
       "      (bn2): BatchNorm2d(256, eps=1e-05, momentum=0.1, affine=True, track_running_stats=True)\n",
       "      (conv3): Conv2d(256, 1024, kernel_size=(1, 1), stride=(1, 1), bias=False)\n",
       "      (bn3): BatchNorm2d(1024, eps=1e-05, momentum=0.1, affine=True, track_running_stats=True)\n",
       "      (relu): ReLU(inplace=True)\n",
       "      (downsample): Sequential(\n",
       "        (0): Conv2d(512, 1024, kernel_size=(1, 1), stride=(2, 2), bias=False)\n",
       "        (1): BatchNorm2d(1024, eps=1e-05, momentum=0.1, affine=True, track_running_stats=True)\n",
       "      )\n",
       "    )\n",
       "    (1): Bottleneck(\n",
       "      (conv1): Conv2d(1024, 256, kernel_size=(1, 1), stride=(1, 1), bias=False)\n",
       "      (bn1): BatchNorm2d(256, eps=1e-05, momentum=0.1, affine=True, track_running_stats=True)\n",
       "      (conv2): Conv2d(256, 256, kernel_size=(3, 3), stride=(1, 1), padding=(1, 1), bias=False)\n",
       "      (bn2): BatchNorm2d(256, eps=1e-05, momentum=0.1, affine=True, track_running_stats=True)\n",
       "      (conv3): Conv2d(256, 1024, kernel_size=(1, 1), stride=(1, 1), bias=False)\n",
       "      (bn3): BatchNorm2d(1024, eps=1e-05, momentum=0.1, affine=True, track_running_stats=True)\n",
       "      (relu): ReLU(inplace=True)\n",
       "    )\n",
       "    (2): Bottleneck(\n",
       "      (conv1): Conv2d(1024, 256, kernel_size=(1, 1), stride=(1, 1), bias=False)\n",
       "      (bn1): BatchNorm2d(256, eps=1e-05, momentum=0.1, affine=True, track_running_stats=True)\n",
       "      (conv2): Conv2d(256, 256, kernel_size=(3, 3), stride=(1, 1), padding=(1, 1), bias=False)\n",
       "      (bn2): BatchNorm2d(256, eps=1e-05, momentum=0.1, affine=True, track_running_stats=True)\n",
       "      (conv3): Conv2d(256, 1024, kernel_size=(1, 1), stride=(1, 1), bias=False)\n",
       "      (bn3): BatchNorm2d(1024, eps=1e-05, momentum=0.1, affine=True, track_running_stats=True)\n",
       "      (relu): ReLU(inplace=True)\n",
       "    )\n",
       "    (3): Bottleneck(\n",
       "      (conv1): Conv2d(1024, 256, kernel_size=(1, 1), stride=(1, 1), bias=False)\n",
       "      (bn1): BatchNorm2d(256, eps=1e-05, momentum=0.1, affine=True, track_running_stats=True)\n",
       "      (conv2): Conv2d(256, 256, kernel_size=(3, 3), stride=(1, 1), padding=(1, 1), bias=False)\n",
       "      (bn2): BatchNorm2d(256, eps=1e-05, momentum=0.1, affine=True, track_running_stats=True)\n",
       "      (conv3): Conv2d(256, 1024, kernel_size=(1, 1), stride=(1, 1), bias=False)\n",
       "      (bn3): BatchNorm2d(1024, eps=1e-05, momentum=0.1, affine=True, track_running_stats=True)\n",
       "      (relu): ReLU(inplace=True)\n",
       "    )\n",
       "    (4): Bottleneck(\n",
       "      (conv1): Conv2d(1024, 256, kernel_size=(1, 1), stride=(1, 1), bias=False)\n",
       "      (bn1): BatchNorm2d(256, eps=1e-05, momentum=0.1, affine=True, track_running_stats=True)\n",
       "      (conv2): Conv2d(256, 256, kernel_size=(3, 3), stride=(1, 1), padding=(1, 1), bias=False)\n",
       "      (bn2): BatchNorm2d(256, eps=1e-05, momentum=0.1, affine=True, track_running_stats=True)\n",
       "      (conv3): Conv2d(256, 1024, kernel_size=(1, 1), stride=(1, 1), bias=False)\n",
       "      (bn3): BatchNorm2d(1024, eps=1e-05, momentum=0.1, affine=True, track_running_stats=True)\n",
       "      (relu): ReLU(inplace=True)\n",
       "    )\n",
       "    (5): Bottleneck(\n",
       "      (conv1): Conv2d(1024, 256, kernel_size=(1, 1), stride=(1, 1), bias=False)\n",
       "      (bn1): BatchNorm2d(256, eps=1e-05, momentum=0.1, affine=True, track_running_stats=True)\n",
       "      (conv2): Conv2d(256, 256, kernel_size=(3, 3), stride=(1, 1), padding=(1, 1), bias=False)\n",
       "      (bn2): BatchNorm2d(256, eps=1e-05, momentum=0.1, affine=True, track_running_stats=True)\n",
       "      (conv3): Conv2d(256, 1024, kernel_size=(1, 1), stride=(1, 1), bias=False)\n",
       "      (bn3): BatchNorm2d(1024, eps=1e-05, momentum=0.1, affine=True, track_running_stats=True)\n",
       "      (relu): ReLU(inplace=True)\n",
       "    )\n",
       "  )\n",
       "  (layer4): Sequential(\n",
       "    (0): Bottleneck(\n",
       "      (conv1): Conv2d(1024, 512, kernel_size=(1, 1), stride=(1, 1), bias=False)\n",
       "      (bn1): BatchNorm2d(512, eps=1e-05, momentum=0.1, affine=True, track_running_stats=True)\n",
       "      (conv2): Conv2d(512, 512, kernel_size=(3, 3), stride=(2, 2), padding=(1, 1), bias=False)\n",
       "      (bn2): BatchNorm2d(512, eps=1e-05, momentum=0.1, affine=True, track_running_stats=True)\n",
       "      (conv3): Conv2d(512, 2048, kernel_size=(1, 1), stride=(1, 1), bias=False)\n",
       "      (bn3): BatchNorm2d(2048, eps=1e-05, momentum=0.1, affine=True, track_running_stats=True)\n",
       "      (relu): ReLU(inplace=True)\n",
       "      (downsample): Sequential(\n",
       "        (0): Conv2d(1024, 2048, kernel_size=(1, 1), stride=(2, 2), bias=False)\n",
       "        (1): BatchNorm2d(2048, eps=1e-05, momentum=0.1, affine=True, track_running_stats=True)\n",
       "      )\n",
       "    )\n",
       "    (1): Bottleneck(\n",
       "      (conv1): Conv2d(2048, 512, kernel_size=(1, 1), stride=(1, 1), bias=False)\n",
       "      (bn1): BatchNorm2d(512, eps=1e-05, momentum=0.1, affine=True, track_running_stats=True)\n",
       "      (conv2): Conv2d(512, 512, kernel_size=(3, 3), stride=(1, 1), padding=(1, 1), bias=False)\n",
       "      (bn2): BatchNorm2d(512, eps=1e-05, momentum=0.1, affine=True, track_running_stats=True)\n",
       "      (conv3): Conv2d(512, 2048, kernel_size=(1, 1), stride=(1, 1), bias=False)\n",
       "      (bn3): BatchNorm2d(2048, eps=1e-05, momentum=0.1, affine=True, track_running_stats=True)\n",
       "      (relu): ReLU(inplace=True)\n",
       "    )\n",
       "    (2): Bottleneck(\n",
       "      (conv1): Conv2d(2048, 512, kernel_size=(1, 1), stride=(1, 1), bias=False)\n",
       "      (bn1): BatchNorm2d(512, eps=1e-05, momentum=0.1, affine=True, track_running_stats=True)\n",
       "      (conv2): Conv2d(512, 512, kernel_size=(3, 3), stride=(1, 1), padding=(1, 1), bias=False)\n",
       "      (bn2): BatchNorm2d(512, eps=1e-05, momentum=0.1, affine=True, track_running_stats=True)\n",
       "      (conv3): Conv2d(512, 2048, kernel_size=(1, 1), stride=(1, 1), bias=False)\n",
       "      (bn3): BatchNorm2d(2048, eps=1e-05, momentum=0.1, affine=True, track_running_stats=True)\n",
       "      (relu): ReLU(inplace=True)\n",
       "    )\n",
       "  )\n",
       "  (avgpool): AdaptiveAvgPool2d(output_size=(1, 1))\n",
       "  (fc): Linear(in_features=2048, out_features=1000, bias=True)\n",
       ")"
      ]
     },
     "execution_count": 6,
     "metadata": {},
     "output_type": "execute_result"
    }
   ],
   "source": [
    "model = models.resnet50(pretrained=True)\n",
    "model"
   ]
  },
  {
   "cell_type": "markdown",
   "metadata": {},
   "source": [
    "#### Freeze weights of early layers of the VGG16 Model"
   ]
  },
  {
   "cell_type": "code",
   "execution_count": 7,
   "metadata": {},
   "outputs": [],
   "source": [
    "for param in model.parameters():\n",
    "    param.requires_grad = False"
   ]
  },
  {
   "cell_type": "markdown",
   "metadata": {},
   "source": [
    "#### Replace Last layer with fully connected layer configured for the task at hand"
   ]
  },
  {
   "cell_type": "code",
   "execution_count": 8,
   "metadata": {},
   "outputs": [
    {
     "data": {
      "text/plain": [
       "ResNet(\n",
       "  (conv1): Conv2d(3, 64, kernel_size=(7, 7), stride=(2, 2), padding=(3, 3), bias=False)\n",
       "  (bn1): BatchNorm2d(64, eps=1e-05, momentum=0.1, affine=True, track_running_stats=True)\n",
       "  (relu): ReLU(inplace=True)\n",
       "  (maxpool): MaxPool2d(kernel_size=3, stride=2, padding=1, dilation=1, ceil_mode=False)\n",
       "  (layer1): Sequential(\n",
       "    (0): Bottleneck(\n",
       "      (conv1): Conv2d(64, 64, kernel_size=(1, 1), stride=(1, 1), bias=False)\n",
       "      (bn1): BatchNorm2d(64, eps=1e-05, momentum=0.1, affine=True, track_running_stats=True)\n",
       "      (conv2): Conv2d(64, 64, kernel_size=(3, 3), stride=(1, 1), padding=(1, 1), bias=False)\n",
       "      (bn2): BatchNorm2d(64, eps=1e-05, momentum=0.1, affine=True, track_running_stats=True)\n",
       "      (conv3): Conv2d(64, 256, kernel_size=(1, 1), stride=(1, 1), bias=False)\n",
       "      (bn3): BatchNorm2d(256, eps=1e-05, momentum=0.1, affine=True, track_running_stats=True)\n",
       "      (relu): ReLU(inplace=True)\n",
       "      (downsample): Sequential(\n",
       "        (0): Conv2d(64, 256, kernel_size=(1, 1), stride=(1, 1), bias=False)\n",
       "        (1): BatchNorm2d(256, eps=1e-05, momentum=0.1, affine=True, track_running_stats=True)\n",
       "      )\n",
       "    )\n",
       "    (1): Bottleneck(\n",
       "      (conv1): Conv2d(256, 64, kernel_size=(1, 1), stride=(1, 1), bias=False)\n",
       "      (bn1): BatchNorm2d(64, eps=1e-05, momentum=0.1, affine=True, track_running_stats=True)\n",
       "      (conv2): Conv2d(64, 64, kernel_size=(3, 3), stride=(1, 1), padding=(1, 1), bias=False)\n",
       "      (bn2): BatchNorm2d(64, eps=1e-05, momentum=0.1, affine=True, track_running_stats=True)\n",
       "      (conv3): Conv2d(64, 256, kernel_size=(1, 1), stride=(1, 1), bias=False)\n",
       "      (bn3): BatchNorm2d(256, eps=1e-05, momentum=0.1, affine=True, track_running_stats=True)\n",
       "      (relu): ReLU(inplace=True)\n",
       "    )\n",
       "    (2): Bottleneck(\n",
       "      (conv1): Conv2d(256, 64, kernel_size=(1, 1), stride=(1, 1), bias=False)\n",
       "      (bn1): BatchNorm2d(64, eps=1e-05, momentum=0.1, affine=True, track_running_stats=True)\n",
       "      (conv2): Conv2d(64, 64, kernel_size=(3, 3), stride=(1, 1), padding=(1, 1), bias=False)\n",
       "      (bn2): BatchNorm2d(64, eps=1e-05, momentum=0.1, affine=True, track_running_stats=True)\n",
       "      (conv3): Conv2d(64, 256, kernel_size=(1, 1), stride=(1, 1), bias=False)\n",
       "      (bn3): BatchNorm2d(256, eps=1e-05, momentum=0.1, affine=True, track_running_stats=True)\n",
       "      (relu): ReLU(inplace=True)\n",
       "    )\n",
       "  )\n",
       "  (layer2): Sequential(\n",
       "    (0): Bottleneck(\n",
       "      (conv1): Conv2d(256, 128, kernel_size=(1, 1), stride=(1, 1), bias=False)\n",
       "      (bn1): BatchNorm2d(128, eps=1e-05, momentum=0.1, affine=True, track_running_stats=True)\n",
       "      (conv2): Conv2d(128, 128, kernel_size=(3, 3), stride=(2, 2), padding=(1, 1), bias=False)\n",
       "      (bn2): BatchNorm2d(128, eps=1e-05, momentum=0.1, affine=True, track_running_stats=True)\n",
       "      (conv3): Conv2d(128, 512, kernel_size=(1, 1), stride=(1, 1), bias=False)\n",
       "      (bn3): BatchNorm2d(512, eps=1e-05, momentum=0.1, affine=True, track_running_stats=True)\n",
       "      (relu): ReLU(inplace=True)\n",
       "      (downsample): Sequential(\n",
       "        (0): Conv2d(256, 512, kernel_size=(1, 1), stride=(2, 2), bias=False)\n",
       "        (1): BatchNorm2d(512, eps=1e-05, momentum=0.1, affine=True, track_running_stats=True)\n",
       "      )\n",
       "    )\n",
       "    (1): Bottleneck(\n",
       "      (conv1): Conv2d(512, 128, kernel_size=(1, 1), stride=(1, 1), bias=False)\n",
       "      (bn1): BatchNorm2d(128, eps=1e-05, momentum=0.1, affine=True, track_running_stats=True)\n",
       "      (conv2): Conv2d(128, 128, kernel_size=(3, 3), stride=(1, 1), padding=(1, 1), bias=False)\n",
       "      (bn2): BatchNorm2d(128, eps=1e-05, momentum=0.1, affine=True, track_running_stats=True)\n",
       "      (conv3): Conv2d(128, 512, kernel_size=(1, 1), stride=(1, 1), bias=False)\n",
       "      (bn3): BatchNorm2d(512, eps=1e-05, momentum=0.1, affine=True, track_running_stats=True)\n",
       "      (relu): ReLU(inplace=True)\n",
       "    )\n",
       "    (2): Bottleneck(\n",
       "      (conv1): Conv2d(512, 128, kernel_size=(1, 1), stride=(1, 1), bias=False)\n",
       "      (bn1): BatchNorm2d(128, eps=1e-05, momentum=0.1, affine=True, track_running_stats=True)\n",
       "      (conv2): Conv2d(128, 128, kernel_size=(3, 3), stride=(1, 1), padding=(1, 1), bias=False)\n",
       "      (bn2): BatchNorm2d(128, eps=1e-05, momentum=0.1, affine=True, track_running_stats=True)\n",
       "      (conv3): Conv2d(128, 512, kernel_size=(1, 1), stride=(1, 1), bias=False)\n",
       "      (bn3): BatchNorm2d(512, eps=1e-05, momentum=0.1, affine=True, track_running_stats=True)\n",
       "      (relu): ReLU(inplace=True)\n",
       "    )\n",
       "    (3): Bottleneck(\n",
       "      (conv1): Conv2d(512, 128, kernel_size=(1, 1), stride=(1, 1), bias=False)\n",
       "      (bn1): BatchNorm2d(128, eps=1e-05, momentum=0.1, affine=True, track_running_stats=True)\n",
       "      (conv2): Conv2d(128, 128, kernel_size=(3, 3), stride=(1, 1), padding=(1, 1), bias=False)\n",
       "      (bn2): BatchNorm2d(128, eps=1e-05, momentum=0.1, affine=True, track_running_stats=True)\n",
       "      (conv3): Conv2d(128, 512, kernel_size=(1, 1), stride=(1, 1), bias=False)\n",
       "      (bn3): BatchNorm2d(512, eps=1e-05, momentum=0.1, affine=True, track_running_stats=True)\n",
       "      (relu): ReLU(inplace=True)\n",
       "    )\n",
       "  )\n",
       "  (layer3): Sequential(\n",
       "    (0): Bottleneck(\n",
       "      (conv1): Conv2d(512, 256, kernel_size=(1, 1), stride=(1, 1), bias=False)\n",
       "      (bn1): BatchNorm2d(256, eps=1e-05, momentum=0.1, affine=True, track_running_stats=True)\n",
       "      (conv2): Conv2d(256, 256, kernel_size=(3, 3), stride=(2, 2), padding=(1, 1), bias=False)\n",
       "      (bn2): BatchNorm2d(256, eps=1e-05, momentum=0.1, affine=True, track_running_stats=True)\n",
       "      (conv3): Conv2d(256, 1024, kernel_size=(1, 1), stride=(1, 1), bias=False)\n",
       "      (bn3): BatchNorm2d(1024, eps=1e-05, momentum=0.1, affine=True, track_running_stats=True)\n",
       "      (relu): ReLU(inplace=True)\n",
       "      (downsample): Sequential(\n",
       "        (0): Conv2d(512, 1024, kernel_size=(1, 1), stride=(2, 2), bias=False)\n",
       "        (1): BatchNorm2d(1024, eps=1e-05, momentum=0.1, affine=True, track_running_stats=True)\n",
       "      )\n",
       "    )\n",
       "    (1): Bottleneck(\n",
       "      (conv1): Conv2d(1024, 256, kernel_size=(1, 1), stride=(1, 1), bias=False)\n",
       "      (bn1): BatchNorm2d(256, eps=1e-05, momentum=0.1, affine=True, track_running_stats=True)\n",
       "      (conv2): Conv2d(256, 256, kernel_size=(3, 3), stride=(1, 1), padding=(1, 1), bias=False)\n",
       "      (bn2): BatchNorm2d(256, eps=1e-05, momentum=0.1, affine=True, track_running_stats=True)\n",
       "      (conv3): Conv2d(256, 1024, kernel_size=(1, 1), stride=(1, 1), bias=False)\n",
       "      (bn3): BatchNorm2d(1024, eps=1e-05, momentum=0.1, affine=True, track_running_stats=True)\n",
       "      (relu): ReLU(inplace=True)\n",
       "    )\n",
       "    (2): Bottleneck(\n",
       "      (conv1): Conv2d(1024, 256, kernel_size=(1, 1), stride=(1, 1), bias=False)\n",
       "      (bn1): BatchNorm2d(256, eps=1e-05, momentum=0.1, affine=True, track_running_stats=True)\n",
       "      (conv2): Conv2d(256, 256, kernel_size=(3, 3), stride=(1, 1), padding=(1, 1), bias=False)\n",
       "      (bn2): BatchNorm2d(256, eps=1e-05, momentum=0.1, affine=True, track_running_stats=True)\n",
       "      (conv3): Conv2d(256, 1024, kernel_size=(1, 1), stride=(1, 1), bias=False)\n",
       "      (bn3): BatchNorm2d(1024, eps=1e-05, momentum=0.1, affine=True, track_running_stats=True)\n",
       "      (relu): ReLU(inplace=True)\n",
       "    )\n",
       "    (3): Bottleneck(\n",
       "      (conv1): Conv2d(1024, 256, kernel_size=(1, 1), stride=(1, 1), bias=False)\n",
       "      (bn1): BatchNorm2d(256, eps=1e-05, momentum=0.1, affine=True, track_running_stats=True)\n",
       "      (conv2): Conv2d(256, 256, kernel_size=(3, 3), stride=(1, 1), padding=(1, 1), bias=False)\n",
       "      (bn2): BatchNorm2d(256, eps=1e-05, momentum=0.1, affine=True, track_running_stats=True)\n",
       "      (conv3): Conv2d(256, 1024, kernel_size=(1, 1), stride=(1, 1), bias=False)\n",
       "      (bn3): BatchNorm2d(1024, eps=1e-05, momentum=0.1, affine=True, track_running_stats=True)\n",
       "      (relu): ReLU(inplace=True)\n",
       "    )\n",
       "    (4): Bottleneck(\n",
       "      (conv1): Conv2d(1024, 256, kernel_size=(1, 1), stride=(1, 1), bias=False)\n",
       "      (bn1): BatchNorm2d(256, eps=1e-05, momentum=0.1, affine=True, track_running_stats=True)\n",
       "      (conv2): Conv2d(256, 256, kernel_size=(3, 3), stride=(1, 1), padding=(1, 1), bias=False)\n",
       "      (bn2): BatchNorm2d(256, eps=1e-05, momentum=0.1, affine=True, track_running_stats=True)\n",
       "      (conv3): Conv2d(256, 1024, kernel_size=(1, 1), stride=(1, 1), bias=False)\n",
       "      (bn3): BatchNorm2d(1024, eps=1e-05, momentum=0.1, affine=True, track_running_stats=True)\n",
       "      (relu): ReLU(inplace=True)\n",
       "    )\n",
       "    (5): Bottleneck(\n",
       "      (conv1): Conv2d(1024, 256, kernel_size=(1, 1), stride=(1, 1), bias=False)\n",
       "      (bn1): BatchNorm2d(256, eps=1e-05, momentum=0.1, affine=True, track_running_stats=True)\n",
       "      (conv2): Conv2d(256, 256, kernel_size=(3, 3), stride=(1, 1), padding=(1, 1), bias=False)\n",
       "      (bn2): BatchNorm2d(256, eps=1e-05, momentum=0.1, affine=True, track_running_stats=True)\n",
       "      (conv3): Conv2d(256, 1024, kernel_size=(1, 1), stride=(1, 1), bias=False)\n",
       "      (bn3): BatchNorm2d(1024, eps=1e-05, momentum=0.1, affine=True, track_running_stats=True)\n",
       "      (relu): ReLU(inplace=True)\n",
       "    )\n",
       "  )\n",
       "  (layer4): Sequential(\n",
       "    (0): Bottleneck(\n",
       "      (conv1): Conv2d(1024, 512, kernel_size=(1, 1), stride=(1, 1), bias=False)\n",
       "      (bn1): BatchNorm2d(512, eps=1e-05, momentum=0.1, affine=True, track_running_stats=True)\n",
       "      (conv2): Conv2d(512, 512, kernel_size=(3, 3), stride=(2, 2), padding=(1, 1), bias=False)\n",
       "      (bn2): BatchNorm2d(512, eps=1e-05, momentum=0.1, affine=True, track_running_stats=True)\n",
       "      (conv3): Conv2d(512, 2048, kernel_size=(1, 1), stride=(1, 1), bias=False)\n",
       "      (bn3): BatchNorm2d(2048, eps=1e-05, momentum=0.1, affine=True, track_running_stats=True)\n",
       "      (relu): ReLU(inplace=True)\n",
       "      (downsample): Sequential(\n",
       "        (0): Conv2d(1024, 2048, kernel_size=(1, 1), stride=(2, 2), bias=False)\n",
       "        (1): BatchNorm2d(2048, eps=1e-05, momentum=0.1, affine=True, track_running_stats=True)\n",
       "      )\n",
       "    )\n",
       "    (1): Bottleneck(\n",
       "      (conv1): Conv2d(2048, 512, kernel_size=(1, 1), stride=(1, 1), bias=False)\n",
       "      (bn1): BatchNorm2d(512, eps=1e-05, momentum=0.1, affine=True, track_running_stats=True)\n",
       "      (conv2): Conv2d(512, 512, kernel_size=(3, 3), stride=(1, 1), padding=(1, 1), bias=False)\n",
       "      (bn2): BatchNorm2d(512, eps=1e-05, momentum=0.1, affine=True, track_running_stats=True)\n",
       "      (conv3): Conv2d(512, 2048, kernel_size=(1, 1), stride=(1, 1), bias=False)\n",
       "      (bn3): BatchNorm2d(2048, eps=1e-05, momentum=0.1, affine=True, track_running_stats=True)\n",
       "      (relu): ReLU(inplace=True)\n",
       "    )\n",
       "    (2): Bottleneck(\n",
       "      (conv1): Conv2d(2048, 512, kernel_size=(1, 1), stride=(1, 1), bias=False)\n",
       "      (bn1): BatchNorm2d(512, eps=1e-05, momentum=0.1, affine=True, track_running_stats=True)\n",
       "      (conv2): Conv2d(512, 512, kernel_size=(3, 3), stride=(1, 1), padding=(1, 1), bias=False)\n",
       "      (bn2): BatchNorm2d(512, eps=1e-05, momentum=0.1, affine=True, track_running_stats=True)\n",
       "      (conv3): Conv2d(512, 2048, kernel_size=(1, 1), stride=(1, 1), bias=False)\n",
       "      (bn3): BatchNorm2d(2048, eps=1e-05, momentum=0.1, affine=True, track_running_stats=True)\n",
       "      (relu): ReLU(inplace=True)\n",
       "    )\n",
       "  )\n",
       "  (avgpool): AdaptiveAvgPool2d(output_size=(1, 1))\n",
       "  (fc): Sequential(\n",
       "    (0): Linear(in_features=2048, out_features=224, bias=True)\n",
       "    (1): LeakyReLU(negative_slope=0.01)\n",
       "    (2): Linear(in_features=224, out_features=101, bias=True)\n",
       "  )\n",
       ")"
      ]
     },
     "execution_count": 8,
     "metadata": {},
     "output_type": "execute_result"
    }
   ],
   "source": [
    "n_classes = 101\n",
    "\n",
    "n_inputs = model.fc.in_features\n",
    "\n",
    "classifier = nn.Sequential(\n",
    "    nn.Linear(n_inputs,image_size),\n",
    "    nn.LeakyReLU(),\n",
    "    nn.Linear(image_size,n_classes)\n",
    "    )\n",
    "\n",
    "model.fc = classifier\n",
    "model"
   ]
  },
  {
   "cell_type": "markdown",
   "metadata": {},
   "source": [
    "#### Move model to GPU"
   ]
  },
  {
   "cell_type": "code",
   "execution_count": 9,
   "metadata": {},
   "outputs": [],
   "source": [
    "if train_on_gpu:\n",
    "    model = model.to('cuda')\n",
    "\n",
    "if multi_gpu:\n",
    "    model = nn.DataParallel(model)"
   ]
  },
  {
   "cell_type": "markdown",
   "metadata": {},
   "source": [
    "#### Mapping of food labels to indexes"
   ]
  },
  {
   "cell_type": "code",
   "execution_count": 10,
   "metadata": {},
   "outputs": [
    {
     "data": {
      "text/plain": [
       "[(0, 'apple_pie'),\n",
       " (1, 'baby_back_ribs'),\n",
       " (2, 'baklava'),\n",
       " (3, 'beef_carpaccio'),\n",
       " (4, 'beef_tartare'),\n",
       " (5, 'beet_salad'),\n",
       " (6, 'beignets'),\n",
       " (7, 'bibimbap'),\n",
       " (8, 'bread_pudding'),\n",
       " (9, 'breakfast_burrito')]"
      ]
     },
     "execution_count": 10,
     "metadata": {},
     "output_type": "execute_result"
    }
   ],
   "source": [
    "model.class_to_idx = data['train'].class_to_idx\n",
    "model.idx_to_class = {\n",
    "    idx: class_\n",
    "    for class_, idx in model.class_to_idx.items()\n",
    "}\n",
    "\n",
    "list(model.idx_to_class.items())[:10]"
   ]
  },
  {
   "cell_type": "markdown",
   "metadata": {},
   "source": [
    "### Finding the Right Learning Rate"
   ]
  },
  {
   "cell_type": "markdown",
   "metadata": {},
   "source": [
    "In order to use a Cyclic Learning Rate scheduler efficiently, you must first find the bounds between the upper and lower limit learning rates."
   ]
  },
  {
   "cell_type": "code",
   "execution_count": 11,
   "metadata": {
    "scrolled": true
   },
   "outputs": [],
   "source": [
    "# # we will be using negative log likelihood as the loss function\n",
    "# criterion = nn.CrossEntropyLoss()\n",
    "# # we will be using the SGD optimizer as our optimizer\n",
    "# optimizer = optim.SGD(model.fc.parameters(), lr=1e-4)\n",
    "# lr_finder = LRFinder(model, optimizer, criterion, device='cuda')\n",
    "# lr_finder.range_test(dataloaders['train'], end_lr=1, num_iter=2500)\n",
    "# lr_finder.plot()\n",
    "# lr_finder.reset()"
   ]
  },
  {
   "cell_type": "code",
   "execution_count": 12,
   "metadata": {},
   "outputs": [],
   "source": [
    "# # we will be using negative log likelihood as the loss function\n",
    "# criterion = nn.CrossEntropyLoss()\n",
    "# # we will be using the SGD optimizer as our optimizer\n",
    "# optimizer = optim.SGD(model.parameters(), lr=1e-4)\n",
    "# lr_finder = LRFinder(model, optimizer, criterion, device='cuda')\n",
    "# lr_finder.range_test(dataloaders['train'], end_lr=1, num_iter=2500)\n",
    "# lr_finder.plot()\n",
    "# lr_finder.reset()"
   ]
  },
  {
   "cell_type": "markdown",
   "metadata": {},
   "source": [
    "### Training Loss and Optimizer"
   ]
  },
  {
   "cell_type": "code",
   "execution_count": 13,
   "metadata": {},
   "outputs": [],
   "source": [
    "# we will be using negative log likelihood as the loss function\n",
    "criterion = nn.CrossEntropyLoss()\n",
    "# we will be using the Adam optimizer as our optimizer\n",
    "optimizer = optim.SGD(model.fc.parameters(), lr=1e-1, momentum=0.9)\n",
    "\n",
    "# secify learning rate scheduler (if there is no further decrease in loss for next 5 epochs \n",
    "# then lower the learning rate by 0.1)\n",
    "scheduler = torch.optim.lr_scheduler.CyclicLR(optimizer, max_lr=1e-1, base_lr=1e-3, mode='triangular')"
   ]
  },
  {
   "cell_type": "code",
   "execution_count": null,
   "metadata": {},
   "outputs": [],
   "source": [
    "def train_model(model,\n",
    "                criterion,\n",
    "                optimizer,\n",
    "                scheduler,\n",
    "                train_loader,\n",
    "                valid_loader,\n",
    "                save_file_name,\n",
    "                checkpoint_file_name,\n",
    "                early_stopping_patience=100,\n",
    "                overfit_patience=15,\n",
    "                n_epochs=25,\n",
    "                print_every=2,\n",
    "                valid_every=2\n",
    "               ):\n",
    "    \"\"\"Train a PyTorch Model\n",
    "\n",
    "    Params\n",
    "    --------\n",
    "        model (PyTorch model): cnn to train\n",
    "        criterion (PyTorch loss): objective to minimize\n",
    "        optimizer (PyTorch optimizier): optimizer to compute gradients of model parameters\n",
    "        train_loader (PyTorch dataloader): training dataloader to iterate through\n",
    "        valid_loader (PyTorch dataloader): validation dataloader used for early stopping\n",
    "        save_file_name (str ending in '.pt'): file path to save the model state dict\n",
    "        max_epochs_stop (int): maximum number of epochs with no improvement in validation loss for early stopping\n",
    "        n_epochs (int): maximum number of training epochs\n",
    "        print_every (int): frequency of epochs to print training stats\n",
    "\n",
    "    Returns\n",
    "    --------\n",
    "        model (PyTorch model): trained cnn with best weights\n",
    "        history (DataFrame): history of train and validation loss and accuracy\n",
    "    \"\"\"\n",
    "    # early stopping initializaiton\n",
    "    epochs_no_improve = 0\n",
    "    epochs_overfit = 0\n",
    "    valid_loss_min = np.Inf\n",
    "    \n",
    "    valid_max_acc = 0\n",
    "    history = []\n",
    "    \n",
    "    # number of epochs already trained (if using loaded in model weights)\n",
    "    try:\n",
    "        print(\"Model has been trained for: {} epochs.\\n\".format(model.epochs))\n",
    "    except:\n",
    "        model.epochs = 0\n",
    "        print(\"Starting training from scratch.\\n\")\n",
    "        \n",
    "    overall_start = timer()\n",
    "    \n",
    "    #Main loop\n",
    "    for epoch in range(n_epochs):\n",
    "        \n",
    "        #keep track of training and validation loss of each epoch\n",
    "        train_loss = 0.0\n",
    "        valid_loss = 0.0\n",
    "        \n",
    "        train_acc = 0\n",
    "        valid_acc = 0\n",
    "        \n",
    "        #set to training\n",
    "        model.train()\n",
    "        start = timer()\n",
    "        \n",
    "        # training loop\n",
    "        for ii, (data, target) in enumerate(train_loader):\n",
    "            #tensors to gpu\n",
    "            if train_on_gpu:\n",
    "                data, target = data.cuda(), target.cuda()\n",
    "                \n",
    "            # clear gradients\n",
    "            optimizer.zero_grad()\n",
    "            #predicted outpouts are log probabilities\n",
    "            output = model(data)\n",
    "            \n",
    "            # loss and backpropagation of gradients\n",
    "            loss = criterion(output, target)\n",
    "            loss.backward()\n",
    "            \n",
    "            # update the parameters\n",
    "            optimizer.step()\n",
    "            \n",
    "            # track train loss by multiplying average loss by number of examples in batch\n",
    "            train_loss += loss.item() * data.size(0)\n",
    "            \n",
    "            # calculate accuracy by finding max log probability\n",
    "            _, pred = torch.max(output, dim=1)\n",
    "            correct_tensor = pred.eq(target.data.view_as(pred))\n",
    "            # need to convert correct tensor from int to float to average\n",
    "            accuracy = torch.mean(correct_tensor.type(torch.FloatTensor))\n",
    "            # multiply average accuracy times the number of examples in batch\n",
    "            train_acc += accuracy.item() * data.size(0)\n",
    "            \n",
    "            # Track training progress\n",
    "            print(\n",
    "                f'Epoch: {epoch}\\t{100 * (ii + 1) / len(train_loader):.2f}% complete. {timer() - start:.2f} seconds elapsed in epoch.',\n",
    "                end='\\r')\n",
    "        # after training loop ends\n",
    "        else:\n",
    "            model.epochs += 1\n",
    "            \n",
    "            if model.epochs > 1 and (model.epochs % valid_every == 0): \n",
    "                # don't need to keep track of gradients\n",
    "                with torch.no_grad():\n",
    "                    # set to evaluation mode\n",
    "                    model.eval()\n",
    "\n",
    "                    #validation loop\n",
    "                    for data, target in valid_loader:\n",
    "                        #tensors to gpu\n",
    "                        if train_on_gpu:\n",
    "                            data, target = data.cuda(), target.cuda()\n",
    "\n",
    "                        # Forward pass\n",
    "                        output = model(data)\n",
    "\n",
    "                        # validation loss \n",
    "                        loss = criterion(output, target)\n",
    "                        # multiply average loss times the number of examples in batch\n",
    "                        valid_loss += loss.item() * data.size(0)\n",
    "\n",
    "                        # calculate validation accuracy\n",
    "                        _, pred = torch.max(output, dim=1)\n",
    "                        correct_tensor = pred.eq(target.data.view_as(pred))\n",
    "                        accuracy = torch.mean(\n",
    "                            correct_tensor.type(torch.FloatTensor))\n",
    "                        # multiply average accuracy times the number of examples\n",
    "                        valid_acc += accuracy.item() * data.size(0)\n",
    "\n",
    "                    # calculate average losses\n",
    "                    train_loss = train_loss / (len(train_loader.dataset))\n",
    "                    valid_loss = valid_loss / (len(valid_loader.dataset))\n",
    "\n",
    "                    # calculate average accuracy\n",
    "                    train_acc = train_acc / (len(train_loader.dataset))\n",
    "                    valid_acc = valid_acc / (len(valid_loader.dataset))\n",
    "\n",
    "                    # learning rate scheduler step\n",
    "                    scheduler.step(valid_loss)\n",
    "\n",
    "                    history.append([train_loss, valid_loss, train_acc, valid_acc, model.epochs])\n",
    "\n",
    "                    # Print training and validation results\n",
    "                    if (model.epochs + 1) % valid_every == 0:\n",
    "                        print(\n",
    "                            f'\\nEpoch: {epoch} \\tTraining Loss: {train_loss:.4f} \\tValidation Loss: {valid_loss:.4f}'\n",
    "                        )\n",
    "                        print(\n",
    "                            f'\\t\\tTraining Accuracy: {100 * train_acc:.2f}%\\t Validation Accuracy: {100 * valid_acc:.2f}%'\n",
    "                        )\n",
    "\n",
    "                    # save the model if validation loss decreases\n",
    "                    if valid_loss < valid_loss_min:\n",
    "                        print(\"Valid loss decreased ({:.6f} --> {:.6f}). Saving model...\".format(valid_loss_min, valid_loss))\n",
    "\n",
    "                        # save model\n",
    "                        torch.save(model.state_dict(), save_file_name)\n",
    "\n",
    "                        checkpoint = {\n",
    "                            \"model\": model,\n",
    "                            \"criterion\": criterion,\n",
    "                            \"epochs\": model.epochs,\n",
    "                            \"optimizer_state\": optimizer.state_dict(),\n",
    "                            \"model_state\": model.state_dict(),\n",
    "                            \"valid_loss_min\": valid_loss\n",
    "                        }\n",
    "                        torch.save(checkpoint, checkpoint_file_name)\n",
    "\n",
    "                        # track improvements\n",
    "                        epochs_no_improve = 0\n",
    "                        epochs_overfit = 0\n",
    "                        valid_loss_min = valid_loss\n",
    "                        valid_best_acc = valid_acc\n",
    "                        best_epoch = epoch\n",
    "\n",
    "                    # otherwise increment count of epochs with no improvement\n",
    "                    elif train_loss < valid_loss:\n",
    "                        epochs_overfit += 1\n",
    "                        if epochs_overfit >= overfit_patience:\n",
    "                            print(f'\\n Valid loss has increased larger than training loss for {epochs_overfit} epochs')\n",
    "                            print(\n",
    "                            f'\\nEarly Stopping! Total epochs: {epoch}. Best epoch: {best_epoch} with loss: {valid_loss_min:.2f} and acc: {100 * valid_acc:.2f}%'\n",
    "                            )\n",
    "                            # load the best state dict\n",
    "                            model.load_state_dict(torch.load(save_file_name))\n",
    "                            # attach the optimizer\n",
    "                            model.optimizer = optimizer\n",
    "\n",
    "                            # format history\n",
    "                            history = pd.DataFrame(\n",
    "                                    history,\n",
    "                                    columns=[\n",
    "                                        'train_loss', 'valid_loss', 'train_acc',\n",
    "                                        'valid_acc', 'epochs'\n",
    "                                    ])\n",
    "                            return model, history\n",
    "\n",
    "                    else:\n",
    "                        epochs_no_improve += 1\n",
    "                        #trigger early stopping\n",
    "                        # this should be not going bad\n",
    "                        if (epochs_no_improve >= early_stopping_patience):\n",
    "                            print(\n",
    "                                f'\\nEarly Stopping! Total epochs: {epoch}. Best epoch: {best_epoch} with loss: {valid_loss_min:.2f} and acc: {100 * valid_acc:.2f}%'\n",
    "                            )\n",
    "                            total_time = timer() - overall_start\n",
    "                            print(\n",
    "                                f'{total_time:.2f} total seconds elapsed. {total_time / (epoch+1):.2f} seconds per epoch.'\n",
    "                            )\n",
    "\n",
    "                            # load the best state dict\n",
    "                            model.load_state_dict(torch.load(save_file_name))\n",
    "                            # attach the optimizer\n",
    "                            model.optimizer = optimizer\n",
    "\n",
    "                            # format history\n",
    "                            history = pd.DataFrame(\n",
    "                                    history,\n",
    "                                    columns=[\n",
    "                                        'train_loss', 'valid_loss', 'train_acc',\n",
    "                                        'valid_acc', 'epochs'\n",
    "                                    ])\n",
    "                            return model, history\n",
    "                        \n",
    "    model.optimizer = optimizer\n",
    "    total_time = timer() - overall_start\n",
    "    print(\n",
    "        f'\\nBest epoch: {best_epoch} with loss: {valid_loss_min:.2f} and acc: {100 * valid_acc:.2f}%'\n",
    "    )\n",
    "    print(\n",
    "        f'{total_time:.2f} total seconds elapsed. {total_time / (model.epochs):.2f} seconds per epoch.'\n",
    "    )\n",
    "    # Format history\n",
    "    history = pd.DataFrame(\n",
    "        history,\n",
    "        columns=['train_loss', 'valid_loss', 'train_acc', 'valid_acc'])\n",
    "    return model, history"
   ]
  },
  {
   "cell_type": "code",
   "execution_count": 15,
   "metadata": {
    "scrolled": false
   },
   "outputs": [
    {
     "name": "stdout",
     "output_type": "stream",
     "text": [
      "Starting training from scratch.\n",
      "\n",
      "Epoch: 1\t100.00% complete. 708.11 seconds elapsed in epoch.\n",
      "Epoch: 1 \tTraining Loss: 3.7033 \tValidation Loss: 3.2606\n",
      "\t\tTraining Accuracy: 21.49%\t Validation Accuracy: 26.83%\n",
      "Valid loss decreased (inf --> 3.260641). Saving model...\n",
      "Epoch: 3\t100.00% complete. 713.82 seconds elapsed in epoch.\n",
      "Epoch: 3 \tTraining Loss: 2.9746 \tValidation Loss: 2.6674\n",
      "\t\tTraining Accuracy: 30.42%\t Validation Accuracy: 35.74%\n",
      "Valid loss decreased (3.260641 --> 2.667352). Saving model...\n",
      "Epoch: 5\t100.00% complete. 710.21 seconds elapsed in epoch.\n",
      "Epoch: 5 \tTraining Loss: 2.7804 \tValidation Loss: 2.5093\n",
      "\t\tTraining Accuracy: 34.15%\t Validation Accuracy: 38.37%\n",
      "Valid loss decreased (2.667352 --> 2.509253). Saving model...\n",
      "Epoch: 7\t100.00% complete. 710.25 seconds elapsed in epoch.\n",
      "Epoch: 7 \tTraining Loss: 2.6872 \tValidation Loss: 2.4001\n",
      "\t\tTraining Accuracy: 35.74%\t Validation Accuracy: 40.36%\n",
      "Valid loss decreased (2.509253 --> 2.400139). Saving model...\n",
      "Epoch: 9\t100.00% complete. 709.89 seconds elapsed in epoch.\n",
      "Epoch: 9 \tTraining Loss: 2.6347 \tValidation Loss: 2.3463\n",
      "\t\tTraining Accuracy: 37.17%\t Validation Accuracy: 41.49%\n",
      "Valid loss decreased (2.400139 --> 2.346322). Saving model...\n",
      "Epoch: 11\t100.00% complete. 710.96 seconds elapsed in epoch.\n",
      "Epoch: 11 \tTraining Loss: 2.5878 \tValidation Loss: 2.3114\n",
      "\t\tTraining Accuracy: 38.03%\t Validation Accuracy: 42.04%\n",
      "Valid loss decreased (2.346322 --> 2.311423). Saving model...\n",
      "Epoch: 13\t100.00% complete. 710.15 seconds elapsed in epoch.\n",
      "Epoch: 13 \tTraining Loss: 2.5625 \tValidation Loss: 2.2906\n",
      "\t\tTraining Accuracy: 38.43%\t Validation Accuracy: 42.27%\n",
      "Valid loss decreased (2.311423 --> 2.290553). Saving model...\n",
      "Epoch: 15\t100.00% complete. 710.31 seconds elapsed in epoch.\n",
      "Epoch: 15 \tTraining Loss: 2.5359 \tValidation Loss: 2.2386\n",
      "\t\tTraining Accuracy: 39.00%\t Validation Accuracy: 43.55%\n",
      "Valid loss decreased (2.290553 --> 2.238580). Saving model...\n",
      "Epoch: 17\t100.00% complete. 710.03 seconds elapsed in epoch.\n",
      "Epoch: 17 \tTraining Loss: 2.5025 \tValidation Loss: 2.1986\n",
      "\t\tTraining Accuracy: 39.80%\t Validation Accuracy: 44.59%\n",
      "Valid loss decreased (2.238580 --> 2.198632). Saving model...\n",
      "Epoch: 19\t100.00% complete. 710.89 seconds elapsed in epoch.\n",
      "Epoch: 19 \tTraining Loss: 2.4890 \tValidation Loss: 2.2204\n",
      "\t\tTraining Accuracy: 39.82%\t Validation Accuracy: 43.71%\n",
      "Epoch: 21\t100.00% complete. 710.44 seconds elapsed in epoch.\n",
      "Epoch: 21 \tTraining Loss: 2.4694 \tValidation Loss: 2.1879\n",
      "\t\tTraining Accuracy: 40.47%\t Validation Accuracy: 45.21%\n",
      "Valid loss decreased (2.198632 --> 2.187853). Saving model...\n",
      "Epoch: 23\t100.00% complete. 709.55 seconds elapsed in epoch.\n",
      "Epoch: 23 \tTraining Loss: 2.4477 \tValidation Loss: 2.1787\n",
      "\t\tTraining Accuracy: 40.79%\t Validation Accuracy: 45.05%\n",
      "Valid loss decreased (2.187853 --> 2.178714). Saving model...\n",
      "Epoch: 25\t100.00% complete. 709.23 seconds elapsed in epoch.\n",
      "Epoch: 25 \tTraining Loss: 2.4376 \tValidation Loss: 2.1301\n",
      "\t\tTraining Accuracy: 41.08%\t Validation Accuracy: 46.08%\n",
      "Valid loss decreased (2.178714 --> 2.130054). Saving model...\n",
      "Epoch: 27\t100.00% complete. 709.34 seconds elapsed in epoch.\n",
      "Epoch: 27 \tTraining Loss: 2.4281 \tValidation Loss: 2.1499\n",
      "\t\tTraining Accuracy: 41.29%\t Validation Accuracy: 45.74%\n",
      "Epoch: 29\t100.00% complete. 710.39 seconds elapsed in epoch.\n",
      "Epoch: 29 \tTraining Loss: 2.4128 \tValidation Loss: 2.1093\n",
      "\t\tTraining Accuracy: 41.61%\t Validation Accuracy: 46.56%\n",
      "Valid loss decreased (2.130054 --> 2.109339). Saving model...\n",
      "Epoch: 31\t100.00% complete. 709.72 seconds elapsed in epoch.\n",
      "Epoch: 31 \tTraining Loss: 2.4010 \tValidation Loss: 2.1132\n",
      "\t\tTraining Accuracy: 42.04%\t Validation Accuracy: 46.66%\n",
      "Epoch: 33\t100.00% complete. 709.83 seconds elapsed in epoch.\n",
      "Epoch: 33 \tTraining Loss: 2.3932 \tValidation Loss: 2.1170\n",
      "\t\tTraining Accuracy: 42.23%\t Validation Accuracy: 46.37%\n",
      "Epoch: 35\t100.00% complete. 710.15 seconds elapsed in epoch.\n",
      "Epoch: 35 \tTraining Loss: 2.3865 \tValidation Loss: 2.1239\n",
      "\t\tTraining Accuracy: 42.18%\t Validation Accuracy: 46.12%\n",
      "Epoch: 37\t100.00% complete. 709.35 seconds elapsed in epoch.\n",
      "Epoch: 37 \tTraining Loss: 2.3658 \tValidation Loss: 2.0875\n",
      "\t\tTraining Accuracy: 42.58%\t Validation Accuracy: 46.90%\n",
      "Valid loss decreased (2.109339 --> 2.087458). Saving model...\n",
      "Epoch: 39\t100.00% complete. 708.81 seconds elapsed in epoch.\n",
      "Epoch: 39 \tTraining Loss: 2.3670 \tValidation Loss: 2.0868\n",
      "\t\tTraining Accuracy: 42.71%\t Validation Accuracy: 46.97%\n",
      "Valid loss decreased (2.087458 --> 2.086835). Saving model...\n",
      "Epoch: 41\t100.00% complete. 709.36 seconds elapsed in epoch.\n",
      "Epoch: 41 \tTraining Loss: 2.3473 \tValidation Loss: 2.0769\n",
      "\t\tTraining Accuracy: 42.97%\t Validation Accuracy: 47.18%\n",
      "Valid loss decreased (2.086835 --> 2.076881). Saving model...\n",
      "Epoch: 43\t100.00% complete. 710.68 seconds elapsed in epoch.\n",
      "Epoch: 43 \tTraining Loss: 2.3449 \tValidation Loss: 2.0916\n",
      "\t\tTraining Accuracy: 43.00%\t Validation Accuracy: 46.68%\n",
      "Epoch: 45\t100.00% complete. 708.92 seconds elapsed in epoch.\n",
      "Epoch: 45 \tTraining Loss: 2.3332 \tValidation Loss: 2.0605\n",
      "\t\tTraining Accuracy: 43.25%\t Validation Accuracy: 47.72%\n",
      "Valid loss decreased (2.076881 --> 2.060538). Saving model...\n",
      "Epoch: 47\t100.00% complete. 709.04 seconds elapsed in epoch.\n",
      "Epoch: 47 \tTraining Loss: 2.3333 \tValidation Loss: 2.0636\n",
      "\t\tTraining Accuracy: 43.18%\t Validation Accuracy: 47.76%\n",
      "Epoch: 49\t100.00% complete. 712.33 seconds elapsed in epoch.\n",
      "Epoch: 49 \tTraining Loss: 2.3193 \tValidation Loss: 2.0600\n",
      "\t\tTraining Accuracy: 43.64%\t Validation Accuracy: 47.76%\n",
      "Valid loss decreased (2.060538 --> 2.060038). Saving model...\n",
      "Epoch: 51\t100.00% complete. 708.49 seconds elapsed in epoch.\n",
      "Epoch: 51 \tTraining Loss: 2.3151 \tValidation Loss: 2.0453\n",
      "\t\tTraining Accuracy: 43.88%\t Validation Accuracy: 48.04%\n",
      "Valid loss decreased (2.060038 --> 2.045310). Saving model...\n",
      "Epoch: 53\t100.00% complete. 709.13 seconds elapsed in epoch.\n",
      "Epoch: 53 \tTraining Loss: 2.3111 \tValidation Loss: 2.0612\n",
      "\t\tTraining Accuracy: 43.59%\t Validation Accuracy: 47.69%\n",
      "Epoch: 55\t100.00% complete. 709.55 seconds elapsed in epoch.\n",
      "Epoch: 55 \tTraining Loss: 2.3112 \tValidation Loss: 2.0299\n",
      "\t\tTraining Accuracy: 43.74%\t Validation Accuracy: 48.69%\n",
      "Valid loss decreased (2.045310 --> 2.029940). Saving model...\n",
      "Epoch: 57\t100.00% complete. 713.00 seconds elapsed in epoch.\n",
      "Epoch: 57 \tTraining Loss: 2.2897 \tValidation Loss: 2.0237\n",
      "\t\tTraining Accuracy: 44.26%\t Validation Accuracy: 48.43%\n",
      "Valid loss decreased (2.029940 --> 2.023681). Saving model...\n",
      "Epoch: 59\t100.00% complete. 713.45 seconds elapsed in epoch.\n",
      "Epoch: 59 \tTraining Loss: 2.2832 \tValidation Loss: 2.0195\n",
      "\t\tTraining Accuracy: 44.23%\t Validation Accuracy: 48.69%\n",
      "Valid loss decreased (2.023681 --> 2.019537). Saving model...\n",
      "Epoch: 61\t100.00% complete. 712.58 seconds elapsed in epoch.\n",
      "Epoch: 61 \tTraining Loss: 2.2814 \tValidation Loss: 2.0216\n",
      "\t\tTraining Accuracy: 44.36%\t Validation Accuracy: 48.79%\n",
      "Epoch: 63\t100.00% complete. 710.70 seconds elapsed in epoch.\n",
      "Epoch: 63 \tTraining Loss: 2.2773 \tValidation Loss: 2.0376\n",
      "\t\tTraining Accuracy: 44.35%\t Validation Accuracy: 48.13%\n",
      "Epoch: 65\t100.00% complete. 712.46 seconds elapsed in epoch.\n",
      "Epoch: 65 \tTraining Loss: 2.2744 \tValidation Loss: 1.9763\n",
      "\t\tTraining Accuracy: 44.50%\t Validation Accuracy: 49.66%\n",
      "Valid loss decreased (2.019537 --> 1.976253). Saving model...\n",
      "Epoch: 67\t100.00% complete. 710.20 seconds elapsed in epoch.\n",
      "Epoch: 67 \tTraining Loss: 2.2682 \tValidation Loss: 2.0489\n",
      "\t\tTraining Accuracy: 44.56%\t Validation Accuracy: 47.97%\n",
      "Epoch: 69\t100.00% complete. 709.29 seconds elapsed in epoch.\n",
      "Epoch: 69 \tTraining Loss: 2.2524 \tValidation Loss: 2.0093\n",
      "\t\tTraining Accuracy: 44.94%\t Validation Accuracy: 49.04%\n",
      "Epoch: 71\t100.00% complete. 709.66 seconds elapsed in epoch.\n",
      "Epoch: 71 \tTraining Loss: 2.2557 \tValidation Loss: 1.9962\n",
      "\t\tTraining Accuracy: 44.87%\t Validation Accuracy: 48.94%\n",
      "Epoch: 73\t100.00% complete. 708.92 seconds elapsed in epoch.\n",
      "Epoch: 73 \tTraining Loss: 2.2453 \tValidation Loss: 1.9969\n",
      "\t\tTraining Accuracy: 44.93%\t Validation Accuracy: 49.30%\n",
      "Epoch: 75\t100.00% complete. 709.82 seconds elapsed in epoch.\n",
      "Epoch: 75 \tTraining Loss: 2.2460 \tValidation Loss: 2.0252\n",
      "\t\tTraining Accuracy: 45.09%\t Validation Accuracy: 48.51%\n"
     ]
    },
    {
     "name": "stdout",
     "output_type": "stream",
     "text": [
      "Epoch: 77\t100.00% complete. 709.82 seconds elapsed in epoch.\n",
      "Epoch: 77 \tTraining Loss: 2.2384 \tValidation Loss: 1.9885\n",
      "\t\tTraining Accuracy: 45.23%\t Validation Accuracy: 49.35%\n",
      "Epoch: 79\t100.00% complete. 709.18 seconds elapsed in epoch.\n",
      "Epoch: 79 \tTraining Loss: 2.2320 \tValidation Loss: 2.0272\n",
      "\t\tTraining Accuracy: 45.20%\t Validation Accuracy: 48.68%\n",
      "Epoch: 81\t100.00% complete. 708.44 seconds elapsed in epoch.\n",
      "Epoch: 81 \tTraining Loss: 2.2267 \tValidation Loss: 1.9621\n",
      "\t\tTraining Accuracy: 45.53%\t Validation Accuracy: 49.93%\n",
      "Valid loss decreased (1.976253 --> 1.962081). Saving model...\n",
      "Epoch: 83\t100.00% complete. 709.50 seconds elapsed in epoch.\n",
      "Epoch: 83 \tTraining Loss: 2.2320 \tValidation Loss: 1.9945\n",
      "\t\tTraining Accuracy: 45.39%\t Validation Accuracy: 49.33%\n",
      "Epoch: 85\t100.00% complete. 707.23 seconds elapsed in epoch.\n",
      "Epoch: 85 \tTraining Loss: 2.2220 \tValidation Loss: 1.9673\n",
      "\t\tTraining Accuracy: 45.46%\t Validation Accuracy: 49.86%\n",
      "Epoch: 87\t100.00% complete. 708.93 seconds elapsed in epoch.\n",
      "Epoch: 87 \tTraining Loss: 2.2096 \tValidation Loss: 1.9651\n",
      "\t\tTraining Accuracy: 45.91%\t Validation Accuracy: 50.19%\n",
      "Epoch: 89\t100.00% complete. 708.74 seconds elapsed in epoch.\n",
      "Epoch: 89 \tTraining Loss: 2.2054 \tValidation Loss: 1.9846\n",
      "\t\tTraining Accuracy: 45.92%\t Validation Accuracy: 49.56%\n",
      "Epoch: 91\t100.00% complete. 707.75 seconds elapsed in epoch.\n",
      "Epoch: 91 \tTraining Loss: 2.2077 \tValidation Loss: 1.9573\n",
      "\t\tTraining Accuracy: 45.56%\t Validation Accuracy: 50.24%\n",
      "Valid loss decreased (1.962081 --> 1.957348). Saving model...\n",
      "Epoch: 93\t100.00% complete. 708.48 seconds elapsed in epoch.\n",
      "Epoch: 93 \tTraining Loss: 2.2021 \tValidation Loss: 1.9495\n",
      "\t\tTraining Accuracy: 45.97%\t Validation Accuracy: 50.55%\n",
      "Valid loss decreased (1.957348 --> 1.949461). Saving model...\n",
      "Epoch: 95\t100.00% complete. 709.56 seconds elapsed in epoch.\n",
      "Epoch: 95 \tTraining Loss: 2.1992 \tValidation Loss: 1.9569\n",
      "\t\tTraining Accuracy: 46.13%\t Validation Accuracy: 50.19%\n",
      "Epoch: 97\t100.00% complete. 709.03 seconds elapsed in epoch.\n",
      "Epoch: 97 \tTraining Loss: 2.1928 \tValidation Loss: 1.9553\n",
      "\t\tTraining Accuracy: 46.08%\t Validation Accuracy: 50.69%\n",
      "Epoch: 99\t100.00% complete. 708.38 seconds elapsed in epoch.\n",
      "Epoch: 99 \tTraining Loss: 2.1926 \tValidation Loss: 1.9613\n",
      "\t\tTraining Accuracy: 46.25%\t Validation Accuracy: 50.34%\n",
      "Epoch: 101\t100.00% complete. 708.04 seconds elapsed in epoch.\n",
      "Epoch: 101 \tTraining Loss: 2.1873 \tValidation Loss: 1.9575\n",
      "\t\tTraining Accuracy: 46.10%\t Validation Accuracy: 50.11%\n",
      "Epoch: 103\t100.00% complete. 711.26 seconds elapsed in epoch.\n",
      "Epoch: 103 \tTraining Loss: 2.1806 \tValidation Loss: 1.9374\n",
      "\t\tTraining Accuracy: 46.42%\t Validation Accuracy: 50.63%\n",
      "Valid loss decreased (1.949461 --> 1.937394). Saving model...\n",
      "Epoch: 105\t100.00% complete. 710.03 seconds elapsed in epoch.\n",
      "Epoch: 105 \tTraining Loss: 2.1799 \tValidation Loss: 1.9772\n",
      "\t\tTraining Accuracy: 46.31%\t Validation Accuracy: 50.00%\n",
      "Epoch: 107\t100.00% complete. 709.12 seconds elapsed in epoch.\n",
      "Epoch: 107 \tTraining Loss: 2.1733 \tValidation Loss: 1.9422\n",
      "\t\tTraining Accuracy: 46.62%\t Validation Accuracy: 50.61%\n",
      "Epoch: 109\t100.00% complete. 708.14 seconds elapsed in epoch.\n",
      "Epoch: 109 \tTraining Loss: 2.1699 \tValidation Loss: 1.9235\n",
      "\t\tTraining Accuracy: 46.69%\t Validation Accuracy: 51.35%\n",
      "Valid loss decreased (1.937394 --> 1.923496). Saving model...\n",
      "Epoch: 111\t100.00% complete. 699.33 seconds elapsed in epoch.\n",
      "Epoch: 111 \tTraining Loss: 2.1728 \tValidation Loss: 1.9574\n",
      "\t\tTraining Accuracy: 46.58%\t Validation Accuracy: 50.27%\n",
      "Epoch: 113\t100.00% complete. 709.52 seconds elapsed in epoch.\n",
      "Epoch: 113 \tTraining Loss: 2.1656 \tValidation Loss: 1.9639\n",
      "\t\tTraining Accuracy: 46.82%\t Validation Accuracy: 50.13%\n",
      "Epoch: 115\t100.00% complete. 718.09 seconds elapsed in epoch.\n",
      "Epoch: 115 \tTraining Loss: 2.1628 \tValidation Loss: 1.9221\n",
      "\t\tTraining Accuracy: 46.71%\t Validation Accuracy: 51.32%\n",
      "Valid loss decreased (1.923496 --> 1.922068). Saving model...\n",
      "Epoch: 117\t100.00% complete. 712.80 seconds elapsed in epoch.\n",
      "Epoch: 117 \tTraining Loss: 2.1499 \tValidation Loss: 1.9537\n",
      "\t\tTraining Accuracy: 46.95%\t Validation Accuracy: 50.59%\n",
      "Epoch: 119\t100.00% complete. 712.54 seconds elapsed in epoch.\n",
      "Epoch: 119 \tTraining Loss: 2.1572 \tValidation Loss: 1.9306\n",
      "\t\tTraining Accuracy: 46.80%\t Validation Accuracy: 50.88%\n",
      "Epoch: 121\t100.00% complete. 711.27 seconds elapsed in epoch.\n",
      "Epoch: 121 \tTraining Loss: 2.1591 \tValidation Loss: 1.9037\n",
      "\t\tTraining Accuracy: 46.78%\t Validation Accuracy: 51.56%\n",
      "Valid loss decreased (1.922068 --> 1.903712). Saving model...\n",
      "Epoch: 123\t100.00% complete. 707.73 seconds elapsed in epoch.\n",
      "Epoch: 123 \tTraining Loss: 2.1520 \tValidation Loss: 1.9353\n",
      "\t\tTraining Accuracy: 46.95%\t Validation Accuracy: 50.72%\n",
      "Epoch: 125\t100.00% complete. 708.67 seconds elapsed in epoch.\n",
      "Epoch: 125 \tTraining Loss: 2.1427 \tValidation Loss: 1.9498\n",
      "\t\tTraining Accuracy: 47.00%\t Validation Accuracy: 50.30%\n",
      "Epoch: 127\t100.00% complete. 710.18 seconds elapsed in epoch.\n",
      "Epoch: 127 \tTraining Loss: 2.1421 \tValidation Loss: 1.9643\n",
      "\t\tTraining Accuracy: 47.27%\t Validation Accuracy: 50.00%\n",
      "Epoch: 129\t100.00% complete. 708.32 seconds elapsed in epoch.\n",
      "Epoch: 129 \tTraining Loss: 2.1374 \tValidation Loss: 1.9279\n",
      "\t\tTraining Accuracy: 47.34%\t Validation Accuracy: 51.03%\n",
      "Epoch: 131\t100.00% complete. 715.04 seconds elapsed in epoch.\n",
      "Epoch: 131 \tTraining Loss: 2.1344 \tValidation Loss: 1.9608\n",
      "\t\tTraining Accuracy: 47.45%\t Validation Accuracy: 50.38%\n",
      "Epoch: 133\t100.00% complete. 714.51 seconds elapsed in epoch.\n",
      "Epoch: 133 \tTraining Loss: 2.1356 \tValidation Loss: 1.9106\n",
      "\t\tTraining Accuracy: 47.34%\t Validation Accuracy: 51.41%\n",
      "Epoch: 135\t100.00% complete. 708.71 seconds elapsed in epoch.\n",
      "Epoch: 135 \tTraining Loss: 2.1360 \tValidation Loss: 1.9235\n",
      "\t\tTraining Accuracy: 47.37%\t Validation Accuracy: 51.07%\n",
      "Epoch: 137\t100.00% complete. 709.06 seconds elapsed in epoch.\n",
      "Epoch: 137 \tTraining Loss: 2.1267 \tValidation Loss: 1.9285\n",
      "\t\tTraining Accuracy: 47.48%\t Validation Accuracy: 50.86%\n",
      "Epoch: 139\t100.00% complete. 708.77 seconds elapsed in epoch.\n",
      "Epoch: 139 \tTraining Loss: 2.1345 \tValidation Loss: 1.8915\n",
      "\t\tTraining Accuracy: 47.37%\t Validation Accuracy: 51.88%\n",
      "Valid loss decreased (1.903712 --> 1.891523). Saving model...\n",
      "Epoch: 141\t100.00% complete. 709.32 seconds elapsed in epoch.\n",
      "Epoch: 141 \tTraining Loss: 2.1278 \tValidation Loss: 1.9360\n",
      "\t\tTraining Accuracy: 47.49%\t Validation Accuracy: 50.72%\n",
      "Epoch: 143\t100.00% complete. 708.13 seconds elapsed in epoch.\n",
      "Epoch: 143 \tTraining Loss: 2.1253 \tValidation Loss: 1.9399\n",
      "\t\tTraining Accuracy: 47.19%\t Validation Accuracy: 50.70%\n",
      "Epoch: 145\t100.00% complete. 708.13 seconds elapsed in epoch.\n",
      "Epoch: 145 \tTraining Loss: 2.1153 \tValidation Loss: 1.9418\n",
      "\t\tTraining Accuracy: 47.82%\t Validation Accuracy: 50.68%\n",
      "Epoch: 147\t100.00% complete. 708.69 seconds elapsed in epoch.\n",
      "Epoch: 147 \tTraining Loss: 2.1111 \tValidation Loss: 1.8950\n",
      "\t\tTraining Accuracy: 47.88%\t Validation Accuracy: 51.72%\n",
      "Epoch: 149\t100.00% complete. 708.68 seconds elapsed in epoch.\n",
      "Epoch: 149 \tTraining Loss: 2.1131 \tValidation Loss: 1.9260\n",
      "\t\tTraining Accuracy: 47.82%\t Validation Accuracy: 50.99%\n",
      "Epoch: 151\t100.00% complete. 708.05 seconds elapsed in epoch.\n",
      "Epoch: 151 \tTraining Loss: 2.1077 \tValidation Loss: 1.9001\n",
      "\t\tTraining Accuracy: 47.93%\t Validation Accuracy: 51.42%\n",
      "Epoch: 153\t100.00% complete. 709.15 seconds elapsed in epoch.\n",
      "Epoch: 153 \tTraining Loss: 2.1104 \tValidation Loss: 1.9017\n",
      "\t\tTraining Accuracy: 47.86%\t Validation Accuracy: 51.59%\n",
      "Epoch: 155\t100.00% complete. 710.56 seconds elapsed in epoch.\n",
      "Epoch: 155 \tTraining Loss: 2.1114 \tValidation Loss: 1.9411\n",
      "\t\tTraining Accuracy: 47.72%\t Validation Accuracy: 50.74%\n",
      "Epoch: 157\t100.00% complete. 714.14 seconds elapsed in epoch.\n",
      "Epoch: 157 \tTraining Loss: 2.1020 \tValidation Loss: 1.8999\n",
      "\t\tTraining Accuracy: 48.08%\t Validation Accuracy: 51.82%\n",
      "Epoch: 159\t100.00% complete. 708.85 seconds elapsed in epoch.\n",
      "Epoch: 159 \tTraining Loss: 2.1067 \tValidation Loss: 1.8914\n",
      "\t\tTraining Accuracy: 47.78%\t Validation Accuracy: 51.83%\n",
      "Valid loss decreased (1.891523 --> 1.891438). Saving model...\n",
      "Epoch: 161\t100.00% complete. 708.95 seconds elapsed in epoch.\n",
      "Epoch: 161 \tTraining Loss: 2.1045 \tValidation Loss: 1.8718\n",
      "\t\tTraining Accuracy: 47.86%\t Validation Accuracy: 52.02%\n"
     ]
    },
    {
     "name": "stdout",
     "output_type": "stream",
     "text": [
      "Valid loss decreased (1.891438 --> 1.871782). Saving model...\n",
      "Epoch: 163\t100.00% complete. 707.40 seconds elapsed in epoch.\n",
      "Epoch: 163 \tTraining Loss: 2.1052 \tValidation Loss: 1.8869\n",
      "\t\tTraining Accuracy: 47.97%\t Validation Accuracy: 51.90%\n",
      "Epoch: 165\t100.00% complete. 713.18 seconds elapsed in epoch.\n",
      "Epoch: 165 \tTraining Loss: 2.0978 \tValidation Loss: 1.9131\n",
      "\t\tTraining Accuracy: 48.13%\t Validation Accuracy: 51.42%\n",
      "Epoch: 167\t100.00% complete. 707.75 seconds elapsed in epoch.\n",
      "Epoch: 167 \tTraining Loss: 2.0963 \tValidation Loss: 1.9046\n",
      "\t\tTraining Accuracy: 48.00%\t Validation Accuracy: 51.74%\n",
      "Epoch: 169\t100.00% complete. 706.99 seconds elapsed in epoch.\n",
      "Epoch: 169 \tTraining Loss: 2.0974 \tValidation Loss: 1.9089\n",
      "\t\tTraining Accuracy: 47.91%\t Validation Accuracy: 51.86%\n",
      "Epoch: 171\t100.00% complete. 707.28 seconds elapsed in epoch.\n",
      "Epoch: 171 \tTraining Loss: 2.0900 \tValidation Loss: 1.9086\n",
      "\t\tTraining Accuracy: 48.15%\t Validation Accuracy: 51.99%\n",
      "Epoch: 173\t100.00% complete. 707.63 seconds elapsed in epoch.\n",
      "Epoch: 173 \tTraining Loss: 2.0846 \tValidation Loss: 1.8924\n",
      "\t\tTraining Accuracy: 48.19%\t Validation Accuracy: 52.32%\n",
      "Epoch: 175\t100.00% complete. 707.38 seconds elapsed in epoch.\n",
      "Epoch: 175 \tTraining Loss: 2.0948 \tValidation Loss: 1.8922\n",
      "\t\tTraining Accuracy: 48.26%\t Validation Accuracy: 52.10%\n",
      "Epoch: 177\t100.00% complete. 707.62 seconds elapsed in epoch.\n",
      "Epoch: 177 \tTraining Loss: 2.0925 \tValidation Loss: 1.8590\n",
      "\t\tTraining Accuracy: 48.19%\t Validation Accuracy: 52.67%\n",
      "Valid loss decreased (1.871782 --> 1.858966). Saving model...\n",
      "Epoch: 179\t100.00% complete. 707.44 seconds elapsed in epoch.\n",
      "Epoch: 179 \tTraining Loss: 2.0845 \tValidation Loss: 1.8722\n",
      "\t\tTraining Accuracy: 48.35%\t Validation Accuracy: 52.35%\n",
      "Epoch: 181\t100.00% complete. 711.00 seconds elapsed in epoch.\n",
      "Epoch: 181 \tTraining Loss: 2.0871 \tValidation Loss: 1.8927\n",
      "\t\tTraining Accuracy: 48.44%\t Validation Accuracy: 52.02%\n",
      "Epoch: 183\t100.00% complete. 711.70 seconds elapsed in epoch.\n",
      "Epoch: 183 \tTraining Loss: 2.0892 \tValidation Loss: 1.9562\n",
      "\t\tTraining Accuracy: 48.34%\t Validation Accuracy: 50.71%\n",
      "Epoch: 185\t100.00% complete. 712.02 seconds elapsed in epoch.\n",
      "Epoch: 185 \tTraining Loss: 2.0810 \tValidation Loss: 1.9169\n",
      "\t\tTraining Accuracy: 48.52%\t Validation Accuracy: 51.12%\n",
      "Epoch: 187\t100.00% complete. 707.64 seconds elapsed in epoch.\n",
      "Epoch: 187 \tTraining Loss: 2.0705 \tValidation Loss: 1.9167\n",
      "\t\tTraining Accuracy: 48.53%\t Validation Accuracy: 51.35%\n",
      "Epoch: 189\t100.00% complete. 707.33 seconds elapsed in epoch.\n",
      "Epoch: 189 \tTraining Loss: 2.0740 \tValidation Loss: 1.9028\n",
      "\t\tTraining Accuracy: 48.57%\t Validation Accuracy: 51.79%\n",
      "Epoch: 191\t100.00% complete. 708.24 seconds elapsed in epoch.\n",
      "Epoch: 191 \tTraining Loss: 2.0703 \tValidation Loss: 1.9349\n",
      "\t\tTraining Accuracy: 48.59%\t Validation Accuracy: 50.96%\n",
      "Epoch: 193\t100.00% complete. 707.92 seconds elapsed in epoch.\n",
      "Epoch: 193 \tTraining Loss: 2.0722 \tValidation Loss: 1.9026\n",
      "\t\tTraining Accuracy: 48.46%\t Validation Accuracy: 51.79%\n",
      "Epoch: 195\t100.00% complete. 708.57 seconds elapsed in epoch.\n",
      "Epoch: 195 \tTraining Loss: 2.0603 \tValidation Loss: 1.8898\n",
      "\t\tTraining Accuracy: 48.88%\t Validation Accuracy: 52.27%\n",
      "Epoch: 197\t100.00% complete. 707.96 seconds elapsed in epoch.\n",
      "Epoch: 197 \tTraining Loss: 2.0618 \tValidation Loss: 1.8954\n",
      "\t\tTraining Accuracy: 48.84%\t Validation Accuracy: 51.79%\n",
      "Epoch: 199\t100.00% complete. 708.67 seconds elapsed in epoch.\n",
      "Epoch: 199 \tTraining Loss: 2.0697 \tValidation Loss: 1.8930\n",
      "\t\tTraining Accuracy: 48.82%\t Validation Accuracy: 51.80%\n",
      "\n",
      "Best epoch: 177 with loss: 1.86 and acc: 51.80%\n",
      "152329.57 total seconds elapsed. 761.65 seconds per epoch.\n"
     ]
    }
   ],
   "source": [
    "model, history = train_model(\n",
    "    model,\n",
    "    criterion,\n",
    "    optimizer,\n",
    "    scheduler,\n",
    "    dataloaders['train'],\n",
    "    dataloaders['val'],\n",
    "    save_file_name=save_file_name,\n",
    "    checkpoint_file_name=checkpoint_file_name,\n",
    "    early_stopping_patience=50,\n",
    "    overfit_patience=10,\n",
    "    n_epochs=200,\n",
    "    print_every=1\n",
    "    )"
   ]
  },
  {
   "cell_type": "code",
   "execution_count": 29,
   "metadata": {},
   "outputs": [
    {
     "data": {
      "text/plain": [
       "[<matplotlib.lines.Line2D at 0x28e84c6add8>]"
      ]
     },
     "execution_count": 29,
     "metadata": {},
     "output_type": "execute_result"
    },
    {
     "data": {
      "text/plain": [
       "[<matplotlib.lines.Line2D at 0x28e88e934a8>]"
      ]
     },
     "execution_count": 29,
     "metadata": {},
     "output_type": "execute_result"
    },
    {
     "data": {
      "text/plain": [
       "Text(0.5, 1.0, 'model accuracy')"
      ]
     },
     "execution_count": 29,
     "metadata": {},
     "output_type": "execute_result"
    },
    {
     "data": {
      "text/plain": [
       "Text(0, 0.5, 'accuracy')"
      ]
     },
     "execution_count": 29,
     "metadata": {},
     "output_type": "execute_result"
    },
    {
     "data": {
      "text/plain": [
       "Text(0.5, 0, 'epoch')"
      ]
     },
     "execution_count": 29,
     "metadata": {},
     "output_type": "execute_result"
    },
    {
     "data": {
      "text/plain": [
       "<matplotlib.legend.Legend at 0x28eb0a8ac88>"
      ]
     },
     "execution_count": 29,
     "metadata": {},
     "output_type": "execute_result"
    },
    {
     "data": {
      "image/png": "[encoded data removed]",
      "text/plain": [
       "<Figure size 432x288 with 1 Axes>"
      ]
     },
     "metadata": {
      "needs_background": "light"
     },
     "output_type": "display_data"
    },
    {
     "data": {
      "text/plain": [
       "[<matplotlib.lines.Line2D at 0x28eb2c89780>]"
      ]
     },
     "execution_count": 29,
     "metadata": {},
     "output_type": "execute_result"
    },
    {
     "data": {
      "text/plain": [
       "[<matplotlib.lines.Line2D at 0x28eb0c1eeb8>]"
      ]
     },
     "execution_count": 29,
     "metadata": {},
     "output_type": "execute_result"
    },
    {
     "data": {
      "text/plain": [
       "Text(0.5, 1.0, 'model loss')"
      ]
     },
     "execution_count": 29,
     "metadata": {},
     "output_type": "execute_result"
    },
    {
     "data": {
      "text/plain": [
       "Text(0, 0.5, 'loss')"
      ]
     },
     "execution_count": 29,
     "metadata": {},
     "output_type": "execute_result"
    },
    {
     "data": {
      "text/plain": [
       "Text(0.5, 0, 'epoch')"
      ]
     },
     "execution_count": 29,
     "metadata": {},
     "output_type": "execute_result"
    },
    {
     "data": {
      "text/plain": [
       "<matplotlib.legend.Legend at 0x28eb0b079b0>"
      ]
     },
     "execution_count": 29,
     "metadata": {},
     "output_type": "execute_result"
    },
    {
     "data": {
      "image/png": "[encoded data removed]",
      "text/plain": [
       "<Figure size 432x288 with 1 Axes>"
      ]
     },
     "metadata": {
      "needs_background": "light"
     },
     "output_type": "display_data"
    }
   ],
   "source": [
    "\n",
    "# summarize history for accuracy\n",
    "plt.plot(history['train_acc'])\n",
    "plt.plot(history['valid_acc'])\n",
    "plt.title('model accuracy')\n",
    "plt.ylabel('accuracy')\n",
    "plt.xlabel('epoch')\n",
    "plt.legend(['train', 'valid'], loc='upper left')\n",
    "plt.savefig('train_valid_accuracy.png')\n",
    "plt.show()\n",
    "\n",
    "\n",
    "# summarize history for loss\n",
    "plt.plot(history['train_loss'])\n",
    "plt.plot(history['valid_loss'])\n",
    "plt.title('model loss')\n",
    "plt.ylabel('loss')\n",
    "plt.xlabel('epoch')\n",
    "plt.legend(['train', 'valid'], loc='upper left')\n",
    "plt.savefig('train_valid_loss.png')\n",
    "\n",
    "plt.show()\n"
   ]
  },
  {
   "cell_type": "code",
   "execution_count": 19,
   "metadata": {},
   "outputs": [],
   "source": [
    "# we will be using negative log likelihood as the loss function\n",
    "criterion = nn.CrossEntropyLoss()\n",
    "# we will be using the Adam optimizer as our optimizer\n",
    "optimizer = optim.SGD(model.parameters(), lr=1e-1, momentum=0.9)\n",
    "\n",
    "# secify learning rate scheduler (if there is no further decrease in loss for next 5 epochs \n",
    "# then lower the learning rate by 0.1)\n",
    "scheduler = torch.optim.lr_scheduler.CyclicLR(optimizer, max_lr=1e-1, base_lr=1e-3, mode='triangular')"
   ]
  },
  {
   "cell_type": "code",
   "execution_count": 31,
   "metadata": {},
   "outputs": [],
   "source": [
    "for param in model.parameters():\n",
    "    param.requires_grad = True"
   ]
  },
  {
   "cell_type": "code",
   "execution_count": 32,
   "metadata": {},
   "outputs": [],
   "source": [
    "torch.cuda.empty_cache()"
   ]
  },
  {
   "cell_type": "code",
   "execution_count": 41,
   "metadata": {
    "scrolled": false
   },
   "outputs": [
    {
     "name": "stdout",
     "output_type": "stream",
     "text": [
      "Model has been trained for: 224 epochs.\n",
      "\n",
      "Epoch: 1\t100.00% complete. 1355.44 seconds elapsed in epoch.\n",
      "Epoch: 1 \tTraining Loss: 0.8272 \tValidation Loss: 1.0429\n",
      "\t\tTraining Accuracy: 77.49%\t Validation Accuracy: 73.89%\n",
      "Valid loss decreased (inf --> 1.042851). Saving model...\n",
      "Epoch: 3\t100.00% complete. 1345.83 seconds elapsed in epoch.\n",
      "Epoch: 3 \tTraining Loss: 0.7998 \tValidation Loss: 1.0797\n",
      "\t\tTraining Accuracy: 78.09%\t Validation Accuracy: 73.20%\n",
      "Epoch: 5\t100.00% complete. 1342.95 seconds elapsed in epoch.\n",
      "Epoch: 5 \tTraining Loss: 0.7798 \tValidation Loss: 1.0316\n",
      "\t\tTraining Accuracy: 78.69%\t Validation Accuracy: 74.18%\n",
      "Valid loss decreased (1.042851 --> 1.031629). Saving model...\n",
      "Epoch: 7\t100.00% complete. 1336.51 seconds elapsed in epoch.\n",
      "Epoch: 7 \tTraining Loss: 0.7614 \tValidation Loss: 1.0605\n",
      "\t\tTraining Accuracy: 79.20%\t Validation Accuracy: 73.61%\n",
      "Epoch: 9\t100.00% complete. 1339.84 seconds elapsed in epoch.\n",
      "Epoch: 9 \tTraining Loss: 0.7289 \tValidation Loss: 1.0233\n",
      "\t\tTraining Accuracy: 79.99%\t Validation Accuracy: 75.03%\n",
      "Valid loss decreased (1.031629 --> 1.023258). Saving model...\n",
      "Epoch: 11\t100.00% complete. 1337.43 seconds elapsed in epoch.\n",
      "Epoch: 11 \tTraining Loss: 0.7125 \tValidation Loss: 1.0398\n",
      "\t\tTraining Accuracy: 80.46%\t Validation Accuracy: 74.49%\n",
      "Epoch: 13\t100.00% complete. 1338.98 seconds elapsed in epoch.\n",
      "Epoch: 13 \tTraining Loss: 0.6880 \tValidation Loss: 0.9766\n",
      "\t\tTraining Accuracy: 80.99%\t Validation Accuracy: 75.49%\n",
      "Valid loss decreased (1.023258 --> 0.976611). Saving model...\n",
      "Epoch: 15\t100.00% complete. 1335.04 seconds elapsed in epoch.\n",
      "Epoch: 15 \tTraining Loss: 0.6716 \tValidation Loss: 1.0092\n",
      "\t\tTraining Accuracy: 81.57%\t Validation Accuracy: 75.16%\n",
      "Epoch: 17\t100.00% complete. 1334.16 seconds elapsed in epoch.\n",
      "Epoch: 17 \tTraining Loss: 0.6597 \tValidation Loss: 1.0186\n",
      "\t\tTraining Accuracy: 81.81%\t Validation Accuracy: 75.89%\n",
      "Epoch: 19\t100.00% complete. 1327.58 seconds elapsed in epoch.\n",
      "Epoch: 19 \tTraining Loss: 0.6392 \tValidation Loss: 1.0587\n",
      "\t\tTraining Accuracy: 82.47%\t Validation Accuracy: 75.12%\n",
      "Epoch: 21\t100.00% complete. 1335.69 seconds elapsed in epoch.\n",
      "Epoch: 21 \tTraining Loss: 0.6161 \tValidation Loss: 1.0487\n",
      "\t\tTraining Accuracy: 82.96%\t Validation Accuracy: 74.73%\n",
      "Epoch: 23\t100.00% complete. 2108.95 seconds elapsed in epoch.\n",
      "Epoch: 23 \tTraining Loss: 0.6074 \tValidation Loss: 1.0558\n",
      "\t\tTraining Accuracy: 83.19%\t Validation Accuracy: 74.83%\n",
      "Epoch: 25\t100.00% complete. 1427.94 seconds elapsed in epoch.\n",
      "Epoch: 25 \tTraining Loss: 0.5976 \tValidation Loss: 1.1127\n",
      "\t\tTraining Accuracy: 83.51%\t Validation Accuracy: 73.94%\n",
      "Epoch: 27\t100.00% complete. 1349.59 seconds elapsed in epoch.\n",
      "Epoch: 27 \tTraining Loss: 0.5787 \tValidation Loss: 1.0665\n",
      "\t\tTraining Accuracy: 83.97%\t Validation Accuracy: 74.19%\n",
      "Epoch: 29\t100.00% complete. 1366.93 seconds elapsed in epoch.\n",
      "Epoch: 29 \tTraining Loss: 0.5556 \tValidation Loss: 1.0394\n",
      "\t\tTraining Accuracy: 84.71%\t Validation Accuracy: 75.23%\n",
      "Epoch: 31\t100.00% complete. 1352.83 seconds elapsed in epoch.\n",
      "Epoch: 31 \tTraining Loss: 0.5483 \tValidation Loss: 1.0975\n",
      "\t\tTraining Accuracy: 84.86%\t Validation Accuracy: 74.34%\n",
      "Epoch: 33\t100.00% complete. 1350.05 seconds elapsed in epoch.\n",
      "Epoch: 33 \tTraining Loss: 0.5469 \tValidation Loss: 1.0229\n",
      "\t\tTraining Accuracy: 84.91%\t Validation Accuracy: 75.70%\n",
      "\n",
      " Valid loss has increased larger than training loss for 10 epochs\n",
      "\n",
      "Early Stopping! Total epochs: 33. Best epoch: 13 with loss: 0.98 and acc: 75.70%\n"
     ]
    }
   ],
   "source": [
    "model, history = train_model(\n",
    "    model,\n",
    "    criterion,\n",
    "    optimizer,\n",
    "    scheduler,\n",
    "    dataloaders['train'],\n",
    "    dataloaders['val'],\n",
    "    save_file_name=save_file_name,\n",
    "    checkpoint_file_name=checkpoint_file_name,\n",
    "    early_stopping_patience=50,\n",
    "    overfit_patience=10,\n",
    "    n_epochs=200,\n",
    "    print_every=1\n",
    "    )"
   ]
  },
  {
   "cell_type": "code",
   "execution_count": 43,
   "metadata": {
    "scrolled": true
   },
   "outputs": [
    {
     "data": {
      "text/plain": [
       "[<matplotlib.lines.Line2D at 0x28eb097fd30>]"
      ]
     },
     "execution_count": 43,
     "metadata": {},
     "output_type": "execute_result"
    },
    {
     "data": {
      "text/plain": [
       "[<matplotlib.lines.Line2D at 0x28eb097f2e8>]"
      ]
     },
     "execution_count": 43,
     "metadata": {},
     "output_type": "execute_result"
    },
    {
     "data": {
      "text/plain": [
       "Text(0.5, 1.0, 'model accuracy')"
      ]
     },
     "execution_count": 43,
     "metadata": {},
     "output_type": "execute_result"
    },
    {
     "data": {
      "text/plain": [
       "Text(0, 0.5, 'accuracy')"
      ]
     },
     "execution_count": 43,
     "metadata": {},
     "output_type": "execute_result"
    },
    {
     "data": {
      "text/plain": [
       "Text(0.5, 0, 'epoch')"
      ]
     },
     "execution_count": 43,
     "metadata": {},
     "output_type": "execute_result"
    },
    {
     "data": {
      "text/plain": [
       "<matplotlib.legend.Legend at 0x28eb0ade860>"
      ]
     },
     "execution_count": 43,
     "metadata": {},
     "output_type": "execute_result"
    },
    {
     "data": {
      "image/png": "[encoded data removed]",
      "text/plain": [
       "<Figure size 432x288 with 1 Axes>"
      ]
     },
     "metadata": {
      "needs_background": "light"
     },
     "output_type": "display_data"
    },
    {
     "data": {
      "text/plain": [
       "[<matplotlib.lines.Line2D at 0x28eb0b49668>]"
      ]
     },
     "execution_count": 43,
     "metadata": {},
     "output_type": "execute_result"
    },
    {
     "data": {
      "text/plain": [
       "[<matplotlib.lines.Line2D at 0x28eb0b499b0>]"
      ]
     },
     "execution_count": 43,
     "metadata": {},
     "output_type": "execute_result"
    },
    {
     "data": {
      "text/plain": [
       "Text(0.5, 1.0, 'model loss')"
      ]
     },
     "execution_count": 43,
     "metadata": {},
     "output_type": "execute_result"
    },
    {
     "data": {
      "text/plain": [
       "Text(0, 0.5, 'loss')"
      ]
     },
     "execution_count": 43,
     "metadata": {},
     "output_type": "execute_result"
    },
    {
     "data": {
      "text/plain": [
       "Text(0.5, 0, 'epoch')"
      ]
     },
     "execution_count": 43,
     "metadata": {},
     "output_type": "execute_result"
    },
    {
     "data": {
      "text/plain": [
       "<matplotlib.legend.Legend at 0x28e9463f710>"
      ]
     },
     "execution_count": 43,
     "metadata": {},
     "output_type": "execute_result"
    },
    {
     "data": {
      "image/png": "[encoded data removed]",
      "text/plain": [
       "<Figure size 432x288 with 1 Axes>"
      ]
     },
     "metadata": {
      "needs_background": "light"
     },
     "output_type": "display_data"
    }
   ],
   "source": [
    "# summarize history for accuracy\n",
    "plt.plot(history['train_acc'])\n",
    "plt.plot(history['valid_acc'])\n",
    "plt.title('model accuracy')\n",
    "plt.ylabel('accuracy')\n",
    "plt.xlabel('epoch')\n",
    "plt.legend(['train', 'valid'], loc='upper left')\n",
    "plt.show()\n",
    "# summarize history for loss\n",
    "plt.plot(history['train_loss'])\n",
    "plt.plot(history['valid_loss'])\n",
    "plt.title('model loss')\n",
    "plt.ylabel('loss')\n",
    "plt.xlabel('epoch')\n",
    "plt.legend(['train', 'valid'], loc='upper left')\n",
    "plt.show()"
   ]
  },
  {
   "cell_type": "code",
   "execution_count": null,
   "metadata": {},
   "outputs": [],
   "source": []
  }
 ],
 "metadata": {
  "kernelspec": {
   "display_name": "Python 3",
   "language": "python",
   "name": "python3"
  },
  "language_info": {
   "codemirror_mode": {
    "name": "ipython",
    "version": 3
   },
   "file_extension": ".py",
   "mimetype": "text/x-python",
   "name": "python",
   "nbconvert_exporter": "python",
   "pygments_lexer": "ipython3",
   "version": "3.7.3"
  }
 },
 "nbformat": 4,
 "nbformat_minor": 2
}
