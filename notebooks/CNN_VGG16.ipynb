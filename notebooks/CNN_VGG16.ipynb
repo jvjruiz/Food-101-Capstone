{
 "cells": [
  {
   "cell_type": "markdown",
   "metadata": {},
   "source": [
    "### Food Image Classification With a CNN w/ Transfer Learning via VGG16"
   ]
  },
  {
   "cell_type": "code",
   "execution_count": 1,
   "metadata": {},
   "outputs": [],
   "source": [
    "# load the necessary packages\n",
    "import tensorflow as tf\n",
    "from tensorflow.keras.layers import Input, AveragePooling2D, Dense, Dropout, Flatten\n",
    "from tensorflow.keras.preprocessing.image import ImageDataGenerator\n",
    "from tensorflow.keras.applications import VGG16\n",
    "from tensorflow.keras.callbacks import EarlyStopping, ModelCheckpoint, CSVLogger\n",
    "from tensorflow.keras.models import Model\n",
    "import pandas as pd\n",
    "\n",
    "\n",
    "import os\n",
    "import numpy as np\n",
    "import matplotlib.pyplot as plt"
   ]
  },
  {
   "cell_type": "markdown",
   "metadata": {},
   "source": [
    "### Load and Preprocess Data for Model"
   ]
  },
  {
   "cell_type": "code",
   "execution_count": 2,
   "metadata": {
    "scrolled": true
   },
   "outputs": [
    {
     "name": "stdout",
     "output_type": "stream",
     "text": [
      "Model: \"vgg16\"\n",
      "_________________________________________________________________\n",
      "Layer (type)                 Output Shape              Param #   \n",
      "=================================================================\n",
      "input_1 (InputLayer)         [(None, 256, 256, 3)]     0         \n",
      "_________________________________________________________________\n",
      "block1_conv1 (Conv2D)        (None, 256, 256, 64)      1792      \n",
      "_________________________________________________________________\n",
      "block1_conv2 (Conv2D)        (None, 256, 256, 64)      36928     \n",
      "_________________________________________________________________\n",
      "block1_pool (MaxPooling2D)   (None, 128, 128, 64)      0         \n",
      "_________________________________________________________________\n",
      "block2_conv1 (Conv2D)        (None, 128, 128, 128)     73856     \n",
      "_________________________________________________________________\n",
      "block2_conv2 (Conv2D)        (None, 128, 128, 128)     147584    \n",
      "_________________________________________________________________\n",
      "block2_pool (MaxPooling2D)   (None, 64, 64, 128)       0         \n",
      "_________________________________________________________________\n",
      "block3_conv1 (Conv2D)        (None, 64, 64, 256)       295168    \n",
      "_________________________________________________________________\n",
      "block3_conv2 (Conv2D)        (None, 64, 64, 256)       590080    \n",
      "_________________________________________________________________\n",
      "block3_conv3 (Conv2D)        (None, 64, 64, 256)       590080    \n",
      "_________________________________________________________________\n",
      "block3_pool (MaxPooling2D)   (None, 32, 32, 256)       0         \n",
      "_________________________________________________________________\n",
      "block4_conv1 (Conv2D)        (None, 32, 32, 512)       1180160   \n",
      "_________________________________________________________________\n",
      "block4_conv2 (Conv2D)        (None, 32, 32, 512)       2359808   \n",
      "_________________________________________________________________\n",
      "block4_conv3 (Conv2D)        (None, 32, 32, 512)       2359808   \n",
      "_________________________________________________________________\n",
      "block4_pool (MaxPooling2D)   (None, 16, 16, 512)       0         \n",
      "_________________________________________________________________\n",
      "block5_conv1 (Conv2D)        (None, 16, 16, 512)       2359808   \n",
      "_________________________________________________________________\n",
      "block5_conv2 (Conv2D)        (None, 16, 16, 512)       2359808   \n",
      "_________________________________________________________________\n",
      "block5_conv3 (Conv2D)        (None, 16, 16, 512)       2359808   \n",
      "_________________________________________________________________\n",
      "block5_pool (MaxPooling2D)   (None, 8, 8, 512)         0         \n",
      "=================================================================\n",
      "Total params: 14,714,688\n",
      "Trainable params: 0\n",
      "Non-trainable params: 14,714,688\n",
      "_________________________________________________________________\n"
     ]
    }
   ],
   "source": [
    "# setup model architechture\n",
    "# remove dense top layers from pre-trained model\n",
    "base_model = VGG16(weights='imagenet', \n",
    "              include_top=False, \n",
    "              input_tensor=(Input(shape=(256,256,3)))\n",
    "             )\n",
    "\n",
    "#freeze training in pre-trained layers\n",
    "for layer in base_model.layers:\n",
    "    layer.trainable = False\n",
    "base_model.summary()"
   ]
  },
  {
   "cell_type": "code",
   "execution_count": 3,
   "metadata": {},
   "outputs": [],
   "source": [
    "#add in final layers of model\n",
    "head_model = base_model.output\n",
    "head_model = AveragePooling2D(pool_size=(8,8))(head_model)\n",
    "head_model = Flatten(name='flatten')(head_model)\n",
    "head_model = Dense(256, activation='relu')(head_model)\n",
    "head_model = Dropout(0.4)(head_model)\n",
    "head_model = Dense(101, activation='softmax')(head_model)\n",
    "\n",
    "#place new head model on top of pre-trained network\n",
    "model = Model(inputs=base_model.input, outputs=head_model)"
   ]
  },
  {
   "cell_type": "code",
   "execution_count": 4,
   "metadata": {},
   "outputs": [],
   "source": [
    "# compile model\n",
    "model.compile(optimizer='adam',\n",
    "              loss='categorical_crossentropy',\n",
    "              metrics=['accuracy'])"
   ]
  },
  {
   "cell_type": "code",
   "execution_count": 5,
   "metadata": {},
   "outputs": [],
   "source": [
    "csv_logger = CSVLogger('../history/VGG16_v3.log')\n",
    "\n",
    "# initialize early stopping callback\n",
    "es_callback = EarlyStopping(monitor=\"val_loss\", patience=10)"
   ]
  },
  {
   "cell_type": "code",
   "execution_count": 6,
   "metadata": {
    "scrolled": true
   },
   "outputs": [
    {
     "name": "stdout",
     "output_type": "stream",
     "text": [
      "Model: \"model\"\n",
      "_________________________________________________________________\n",
      "Layer (type)                 Output Shape              Param #   \n",
      "=================================================================\n",
      "input_1 (InputLayer)         [(None, 256, 256, 3)]     0         \n",
      "_________________________________________________________________\n",
      "block1_conv1 (Conv2D)        (None, 256, 256, 64)      1792      \n",
      "_________________________________________________________________\n",
      "block1_conv2 (Conv2D)        (None, 256, 256, 64)      36928     \n",
      "_________________________________________________________________\n",
      "block1_pool (MaxPooling2D)   (None, 128, 128, 64)      0         \n",
      "_________________________________________________________________\n",
      "block2_conv1 (Conv2D)        (None, 128, 128, 128)     73856     \n",
      "_________________________________________________________________\n",
      "block2_conv2 (Conv2D)        (None, 128, 128, 128)     147584    \n",
      "_________________________________________________________________\n",
      "block2_pool (MaxPooling2D)   (None, 64, 64, 128)       0         \n",
      "_________________________________________________________________\n",
      "block3_conv1 (Conv2D)        (None, 64, 64, 256)       295168    \n",
      "_________________________________________________________________\n",
      "block3_conv2 (Conv2D)        (None, 64, 64, 256)       590080    \n",
      "_________________________________________________________________\n",
      "block3_conv3 (Conv2D)        (None, 64, 64, 256)       590080    \n",
      "_________________________________________________________________\n",
      "block3_pool (MaxPooling2D)   (None, 32, 32, 256)       0         \n",
      "_________________________________________________________________\n",
      "block4_conv1 (Conv2D)        (None, 32, 32, 512)       1180160   \n",
      "_________________________________________________________________\n",
      "block4_conv2 (Conv2D)        (None, 32, 32, 512)       2359808   \n",
      "_________________________________________________________________\n",
      "block4_conv3 (Conv2D)        (None, 32, 32, 512)       2359808   \n",
      "_________________________________________________________________\n",
      "block4_pool (MaxPooling2D)   (None, 16, 16, 512)       0         \n",
      "_________________________________________________________________\n",
      "block5_conv1 (Conv2D)        (None, 16, 16, 512)       2359808   \n",
      "_________________________________________________________________\n",
      "block5_conv2 (Conv2D)        (None, 16, 16, 512)       2359808   \n",
      "_________________________________________________________________\n",
      "block5_conv3 (Conv2D)        (None, 16, 16, 512)       2359808   \n",
      "_________________________________________________________________\n",
      "block5_pool (MaxPooling2D)   (None, 8, 8, 512)         0         \n",
      "_________________________________________________________________\n",
      "average_pooling2d (AveragePo (None, 1, 1, 512)         0         \n",
      "_________________________________________________________________\n",
      "flatten (Flatten)            (None, 512)               0         \n",
      "_________________________________________________________________\n",
      "dense (Dense)                (None, 256)               131328    \n",
      "_________________________________________________________________\n",
      "dropout (Dropout)            (None, 256)               0         \n",
      "_________________________________________________________________\n",
      "dense_1 (Dense)              (None, 101)               25957     \n",
      "=================================================================\n",
      "Total params: 14,871,973\n",
      "Trainable params: 157,285\n",
      "Non-trainable params: 14,714,688\n",
      "_________________________________________________________________\n"
     ]
    }
   ],
   "source": [
    "model.summary()"
   ]
  },
  {
   "cell_type": "code",
   "execution_count": 7,
   "metadata": {},
   "outputs": [],
   "source": [
    "batch_size = 25\n",
    "epochs = 1000\n",
    "IMG_HEIGHT = 256\n",
    "IMG_WIDTH = 256\n",
    "train_dir = '../data/resized/train'\n",
    "valid_dir = '../data/resized/valid'\n",
    "dropout_rate = 0.4"
   ]
  },
  {
   "cell_type": "code",
   "execution_count": 8,
   "metadata": {},
   "outputs": [],
   "source": [
    "train_image_generator = ImageDataGenerator(rescale=1./255)\n",
    "valid_image_generator = ImageDataGenerator(rescale=1./255)"
   ]
  },
  {
   "cell_type": "code",
   "execution_count": null,
   "metadata": {},
   "outputs": [
    {
     "name": "stdout",
     "output_type": "stream",
     "text": [
      "Found 75750 images belonging to 101 classes.\n"
     ]
    }
   ],
   "source": [
    "# initialize training image iterator\n",
    "train_data_gen = train_image_generator.flow_from_directory(batch_size=batch_size,\n",
    "                                                          directory=train_dir,\n",
    "                                                          shuffle=True,\n",
    "                                                          target_size=(IMG_HEIGHT,IMG_WIDTH))"
   ]
  },
  {
   "cell_type": "code",
   "execution_count": null,
   "metadata": {},
   "outputs": [
    {
     "name": "stdout",
     "output_type": "stream",
     "text": [
      "Found 12625 images belonging to 101 classes.\n"
     ]
    }
   ],
   "source": [
    "# initialize test image iterator\n",
    "valid_data_gen = valid_image_generator.flow_from_directory(batch_size=batch_size,\n",
    "                                                          directory=valid_dir,\n",
    "                                                          shuffle=True,\n",
    "                                                          target_size=(IMG_HEIGHT,IMG_WIDTH))"
   ]
  },
  {
   "cell_type": "code",
   "execution_count": null,
   "metadata": {
    "scrolled": true
   },
   "outputs": [
    {
     "name": "stdout",
     "output_type": "stream",
     "text": [
      "Epoch 1/1000\n",
      "3030/3030 [==============================] - 1963s 648ms/step - loss: 3.9126 - accuracy: 0.1079 - val_loss: 3.2308 - val_accuracy: 0.2419\n",
      "Epoch 2/1000\n",
      "3030/3030 [==============================] - 1957s 646ms/step - loss: 3.3899 - accuracy: 0.1968 - val_loss: 2.9355 - val_accuracy: 0.3025\n",
      "Epoch 3/1000\n",
      "3030/3030 [==============================] - 1944s 642ms/step - loss: 3.2374 - accuracy: 0.2262 - val_loss: 2.8329 - val_accuracy: 0.3213\n",
      "Epoch 4/1000\n",
      "3030/3030 [==============================] - 1957s 646ms/step - loss: 3.1525 - accuracy: 0.2440 - val_loss: 2.7404 - val_accuracy: 0.3364\n",
      "Epoch 5/1000\n",
      "3030/3030 [==============================] - 1962s 648ms/step - loss: 3.0990 - accuracy: 0.2531 - val_loss: 2.6443 - val_accuracy: 0.3491\n",
      "Epoch 6/1000\n",
      "3030/3030 [==============================] - 1953s 645ms/step - loss: 3.0483 - accuracy: 0.2638 - val_loss: 2.6278 - val_accuracy: 0.3587\n",
      "Epoch 7/1000\n",
      "3030/3030 [==============================] - 1945s 642ms/step - loss: 3.0225 - accuracy: 0.2697 - val_loss: 2.6216 - val_accuracy: 0.3606\n",
      "Epoch 8/1000\n",
      "3030/3030 [==============================] - 1957s 646ms/step - loss: 2.9985 - accuracy: 0.2753 - val_loss: 2.5828 - val_accuracy: 0.3718\n",
      "Epoch 9/1000\n",
      "3030/3030 [==============================] - 1963s 648ms/step - loss: 2.9714 - accuracy: 0.2813 - val_loss: 2.5565 - val_accuracy: 0.3748\n",
      "Epoch 10/1000\n",
      "3030/3030 [==============================] - 1960s 647ms/step - loss: 2.9506 - accuracy: 0.2850 - val_loss: 2.5250 - val_accuracy: 0.3773\n",
      "Epoch 11/1000\n",
      "3030/3030 [==============================] - 1983s 655ms/step - loss: 2.9328 - accuracy: 0.2887 - val_loss: 2.5298 - val_accuracy: 0.3818\n",
      "Epoch 12/1000\n",
      "3030/3030 [==============================] - 2027s 669ms/step - loss: 2.9225 - accuracy: 0.2905 - val_loss: 2.4970 - val_accuracy: 0.3851\n",
      "Epoch 13/1000\n",
      "3030/3030 [==============================] - 2007s 662ms/step - loss: 2.9027 - accuracy: 0.2927 - val_loss: 2.4674 - val_accuracy: 0.3922\n",
      "Epoch 14/1000\n",
      "3030/3030 [==============================] - 1952s 644ms/step - loss: 2.8932 - accuracy: 0.2974 - val_loss: 2.5209 - val_accuracy: 0.3810\n",
      "Epoch 15/1000\n",
      "3030/3030 [==============================] - 1947s 642ms/step - loss: 2.8861 - accuracy: 0.2985 - val_loss: 2.4880 - val_accuracy: 0.3877\n",
      "Epoch 16/1000\n",
      "3030/3030 [==============================] - 1940s 640ms/step - loss: 2.8712 - accuracy: 0.3012 - val_loss: 2.5047 - val_accuracy: 0.3865\n",
      "Epoch 17/1000\n",
      "3030/3030 [==============================] - 1939s 640ms/step - loss: 2.8655 - accuracy: 0.3018 - val_loss: 2.4613 - val_accuracy: 0.3936\n",
      "Epoch 18/1000\n",
      "3030/3030 [==============================] - 1952s 644ms/step - loss: 2.8562 - accuracy: 0.3034 - val_loss: 2.4861 - val_accuracy: 0.3922\n",
      "Epoch 19/1000\n",
      "3030/3030 [==============================] - 1957s 646ms/step - loss: 2.8482 - accuracy: 0.3053 - val_loss: 2.4512 - val_accuracy: 0.3948\n",
      "Epoch 20/1000\n",
      "3030/3030 [==============================] - 1947s 643ms/step - loss: 2.8433 - accuracy: 0.3075 - val_loss: 2.4568 - val_accuracy: 0.3963\n",
      "Epoch 21/1000\n",
      "3030/3030 [==============================] - 1944s 641ms/step - loss: 2.8319 - accuracy: 0.3093 - val_loss: 2.4863 - val_accuracy: 0.3868\n",
      "Epoch 22/1000\n",
      "3030/3030 [==============================] - 1946s 642ms/step - loss: 2.8273 - accuracy: 0.3094 - val_loss: 2.4650 - val_accuracy: 0.3926\n",
      "Epoch 23/1000\n",
      "3030/3030 [==============================] - 1959s 647ms/step - loss: 2.8214 - accuracy: 0.3096 - val_loss: 2.4116 - val_accuracy: 0.3993\n",
      "Epoch 24/1000\n",
      "2028/3030 [===================>..........] - ETA: 11:19 - loss: 2.8061 - accuracy: 0.3130"
     ]
    }
   ],
   "source": [
    "# train model\n",
    "history = model.fit_generator(\n",
    "    train_data_gen,\n",
    "    steps_per_epoch=75750//batch_size,\n",
    "    epochs=epochs,\n",
    "    validation_data=valid_data_gen,\n",
    "    validation_steps=12625//batch_size,\n",
    "    workers=1,\n",
    "    use_multiprocessing=False,\n",
    "    callbacks=[es_callback, csv_logger]\n",
    ")"
   ]
  },
  {
   "cell_type": "code",
   "execution_count": null,
   "metadata": {},
   "outputs": [],
   "source": [
    "# if there is not a saved model, save model for future use\n",
    "if not os.path.isdir('../saved_models'):\n",
    "    os.makedirs('../saved_models')\n",
    "model.save('../saved_models/CNN_VGG16_MODEL_V3.h5')"
   ]
  },
  {
   "cell_type": "code",
   "execution_count": null,
   "metadata": {},
   "outputs": [],
   "source": [
    "# list all data in history\n",
    "print(history.history.keys())\n",
    "# summarize history for accuracy\n",
    "plt.plot(history.history['accuracy'])\n",
    "plt.plot(history.history['val_accuracy'])\n",
    "plt.title('model accuracy')\n",
    "plt.ylabel('accuracy')\n",
    "plt.xlabel('epoch')\n",
    "plt.legend(['train', 'test'], loc='upper left')\n",
    "plt.show()\n",
    "# summarize history for loss\n",
    "plt.plot(history.history['loss'])\n",
    "plt.plot(history.history['val_loss'])\n",
    "plt.title('model loss')\n",
    "plt.ylabel('loss')\n",
    "plt.xlabel('epoch')\n",
    "plt.legend(['train', 'test'], loc='upper left')\n",
    "plt.show()"
   ]
  }
 ],
 "metadata": {
  "kernelspec": {
   "display_name": "Python 3",
   "language": "python",
   "name": "python3"
  },
  "language_info": {
   "codemirror_mode": {
    "name": "ipython",
    "version": 3
   },
   "file_extension": ".py",
   "mimetype": "text/x-python",
   "name": "python",
   "nbconvert_exporter": "python",
   "pygments_lexer": "ipython3",
   "version": "3.7.3"
  }
 },
 "nbformat": 4,
 "nbformat_minor": 2
}
