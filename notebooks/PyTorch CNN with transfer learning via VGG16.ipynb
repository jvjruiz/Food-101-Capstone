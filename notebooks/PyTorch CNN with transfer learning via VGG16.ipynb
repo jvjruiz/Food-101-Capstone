{
 "cells": [
  {
   "cell_type": "markdown",
   "metadata": {},
   "source": [
    "### Load the necessary packages"
   ]
  },
  {
   "cell_type": "code",
   "execution_count": 1,
   "metadata": {},
   "outputs": [],
   "source": [
    "from IPython.core.interactiveshell import InteractiveShell\n",
    "import seaborn as sns\n",
    "# PyTorch\n",
    "from torchvision import transforms, datasets, models\n",
    "import torch\n",
    "from torch import optim, cuda\n",
    "from torch.utils.data import DataLoader, sampler\n",
    "import torch.nn as nn\n",
    "\n",
    "\n",
    "import warnings\n",
    "warnings.filterwarnings('ignore', category=FutureWarning)\n",
    "\n",
    "# Data science tools\n",
    "import numpy as np\n",
    "import pandas as pd\n",
    "import os\n",
    "\n",
    "# Image manipulations\n",
    "from PIL import Image\n",
    "# Useful for examining network\n",
    "from torchsummary import summary\n",
    "# Timing utility\n",
    "from timeit import default_timer as timer\n",
    "\n",
    "# Visualizations\n",
    "import matplotlib.pyplot as plt\n",
    "%matplotlib inline\n",
    "plt.rcParams['font.size'] = 14\n",
    "\n",
<<<<<<< HEAD
    "\n",
=======
>>>>>>> 4ba713ef2e6cdb14575a8c33a410ab03df9155fb
    "# Printing out all outputs\n",
    "InteractiveShell.ast_node_interactivity = 'all'"
   ]
  },
  {
   "cell_type": "markdown",
   "metadata": {},
   "source": [
    "### Initalize parameters"
   ]
  },
  {
   "cell_type": "code",
   "execution_count": 20,
   "metadata": {},
   "outputs": [
    {
     "name": "stdout",
     "output_type": "stream",
     "text": [
      "Train on gpu: True\n",
      "1 gpus detected.\n"
     ]
    }
   ],
   "source": [
    "# Location of data\n",
    "datadir = '../data/subset/'\n",
    "traindir = datadir + 'train/'\n",
    "validdir = datadir + 'valid/'\n",
    "testdir = datadir + 'test/'\n",
    "\n",
<<<<<<< HEAD
    "save_file_name = 'vgg16-transfer5.pt'\n",
    "checkpoint_path = 'vgg16-transfer5.pth'\n",
=======
    "save_file_name = 'vgg16-transfer6.pt'\n",
    "checkpoint_file_name = 'vgg16-transfer6.pth'\n",
>>>>>>> 4ba713ef2e6cdb14575a8c33a410ab03df9155fb
    "\n",
    "# Change to fit hardware\n",
    "batch_size = 64\n",
    "\n",
    "image_size = 224\n",
    "\n",
    "# Whether to train on a gpu\n",
    "train_on_gpu = cuda.is_available()\n",
    "print(f'Train on gpu: {train_on_gpu}')\n",
    "\n",
    "# Number of gpus\n",
    "if train_on_gpu:\n",
    "    gpu_count = cuda.device_count()\n",
    "    print(f'{gpu_count} gpus detected.')\n",
    "    if gpu_count > 1:\n",
    "        multi_gpu = True\n",
    "    else:\n",
    "        multi_gpu = False"
   ]
  },
  {
   "cell_type": "markdown",
   "metadata": {},
   "source": [
    "### Image Augmentation"
   ]
  },
  {
   "cell_type": "code",
   "execution_count": 3,
   "metadata": {},
   "outputs": [],
   "source": [
    "image_transforms = {\n",
    "    # Train uses data augmentation\n",
    "    'train':\n",
    "    transforms.Compose([\n",
    "        transforms.RandomResizedCrop(size=image_size),\n",
<<<<<<< HEAD
    "        transforms.RandomRotation(degrees=30),\n",
=======
    "        transforms.RandomRotation(degrees=45),\n",
>>>>>>> 4ba713ef2e6cdb14575a8c33a410ab03df9155fb
    "        transforms.RandomHorizontalFlip(),\n",
    "        transforms.RandomVerticalFlip(),\n",
    "        transforms.RandomAffine(45),\n",
    "        transforms.ColorJitter(),\n",
    "        transforms.ToTensor(),\n",
    "        transforms.Normalize([0.485, 0.456, 0.406],\n",
    "                             [0.229, 0.224, 0.225])  # Imagenet standards\n",
    "    ]),\n",
    "    # Validation does not use augmentation\n",
    "    'val':\n",
    "    transforms.Compose([\n",
    "        transforms.RandomResizedCrop(size=image_size),\n",
    "        transforms.ToTensor(),\n",
    "        transforms.Normalize([0.485, 0.456, 0.406], [0.229, 0.224, 0.225])\n",
    "    ]),\n",
    "    # Test does not use augmentation\n",
    "    'test':\n",
    "    transforms.Compose([\n",
    "        transforms.RandomCrop(size=image_size),\n",
    "        transforms.ToTensor(),\n",
    "        transforms.Normalize([0.485, 0.456, 0.406], [0.229, 0.224, 0.225])\n",
    "    ]),\n",
    "}"
   ]
  },
  {
   "cell_type": "markdown",
   "metadata": {},
   "source": [
    "### Data Iterators"
   ]
  },
  {
   "cell_type": "code",
   "execution_count": 4,
   "metadata": {},
   "outputs": [],
   "source": [
    "# Datasets from each folder\n",
    "data = {\n",
    "    'train':\n",
    "    datasets.ImageFolder(root=traindir, transform=image_transforms['train']),\n",
    "    'val':\n",
    "    datasets.ImageFolder(root=validdir, transform=image_transforms['val'])\n",
    "#     'test':\n",
    "#     datasets.ImageFolder(root=testdir, transform=image_transforms['test'])\n",
    "}\n",
    "\n",
    "# Dataloader iterators\n",
    "dataloaders = {\n",
    "    'train': DataLoader(data['train'], batch_size=batch_size, shuffle=True),\n",
    "    'val': DataLoader(data['val'], batch_size=batch_size, shuffle=True)\n",
    "#     'test': DataLoader(data['test'], batch_size=batch_size, shuffle=True)\n",
    "}"
   ]
  },
  {
   "cell_type": "markdown",
   "metadata": {},
   "source": [
    "### Model Setup\n",
    "#### Load Pre-trained VGG16 Model"
   ]
  },
  {
   "cell_type": "code",
   "execution_count": 5,
   "metadata": {
    "scrolled": true
   },
   "outputs": [
    {
     "data": {
      "text/plain": [
       "ResNet(\n",
       "  (conv1): Conv2d(3, 64, kernel_size=(7, 7), stride=(2, 2), padding=(3, 3), bias=False)\n",
       "  (bn1): BatchNorm2d(64, eps=1e-05, momentum=0.1, affine=True, track_running_stats=True)\n",
       "  (relu): ReLU(inplace=True)\n",
       "  (maxpool): MaxPool2d(kernel_size=3, stride=2, padding=1, dilation=1, ceil_mode=False)\n",
       "  (layer1): Sequential(\n",
       "    (0): Bottleneck(\n",
       "      (conv1): Conv2d(64, 64, kernel_size=(1, 1), stride=(1, 1), bias=False)\n",
       "      (bn1): BatchNorm2d(64, eps=1e-05, momentum=0.1, affine=True, track_running_stats=True)\n",
       "      (conv2): Conv2d(64, 64, kernel_size=(3, 3), stride=(1, 1), padding=(1, 1), bias=False)\n",
       "      (bn2): BatchNorm2d(64, eps=1e-05, momentum=0.1, affine=True, track_running_stats=True)\n",
       "      (conv3): Conv2d(64, 256, kernel_size=(1, 1), stride=(1, 1), bias=False)\n",
       "      (bn3): BatchNorm2d(256, eps=1e-05, momentum=0.1, affine=True, track_running_stats=True)\n",
       "      (relu): ReLU(inplace=True)\n",
       "      (downsample): Sequential(\n",
       "        (0): Conv2d(64, 256, kernel_size=(1, 1), stride=(1, 1), bias=False)\n",
       "        (1): BatchNorm2d(256, eps=1e-05, momentum=0.1, affine=True, track_running_stats=True)\n",
       "      )\n",
       "    )\n",
       "    (1): Bottleneck(\n",
       "      (conv1): Conv2d(256, 64, kernel_size=(1, 1), stride=(1, 1), bias=False)\n",
       "      (bn1): BatchNorm2d(64, eps=1e-05, momentum=0.1, affine=True, track_running_stats=True)\n",
       "      (conv2): Conv2d(64, 64, kernel_size=(3, 3), stride=(1, 1), padding=(1, 1), bias=False)\n",
       "      (bn2): BatchNorm2d(64, eps=1e-05, momentum=0.1, affine=True, track_running_stats=True)\n",
       "      (conv3): Conv2d(64, 256, kernel_size=(1, 1), stride=(1, 1), bias=False)\n",
       "      (bn3): BatchNorm2d(256, eps=1e-05, momentum=0.1, affine=True, track_running_stats=True)\n",
       "      (relu): ReLU(inplace=True)\n",
       "    )\n",
       "    (2): Bottleneck(\n",
       "      (conv1): Conv2d(256, 64, kernel_size=(1, 1), stride=(1, 1), bias=False)\n",
       "      (bn1): BatchNorm2d(64, eps=1e-05, momentum=0.1, affine=True, track_running_stats=True)\n",
       "      (conv2): Conv2d(64, 64, kernel_size=(3, 3), stride=(1, 1), padding=(1, 1), bias=False)\n",
       "      (bn2): BatchNorm2d(64, eps=1e-05, momentum=0.1, affine=True, track_running_stats=True)\n",
       "      (conv3): Conv2d(64, 256, kernel_size=(1, 1), stride=(1, 1), bias=False)\n",
       "      (bn3): BatchNorm2d(256, eps=1e-05, momentum=0.1, affine=True, track_running_stats=True)\n",
       "      (relu): ReLU(inplace=True)\n",
       "    )\n",
       "  )\n",
       "  (layer2): Sequential(\n",
       "    (0): Bottleneck(\n",
       "      (conv1): Conv2d(256, 128, kernel_size=(1, 1), stride=(1, 1), bias=False)\n",
       "      (bn1): BatchNorm2d(128, eps=1e-05, momentum=0.1, affine=True, track_running_stats=True)\n",
       "      (conv2): Conv2d(128, 128, kernel_size=(3, 3), stride=(2, 2), padding=(1, 1), bias=False)\n",
       "      (bn2): BatchNorm2d(128, eps=1e-05, momentum=0.1, affine=True, track_running_stats=True)\n",
       "      (conv3): Conv2d(128, 512, kernel_size=(1, 1), stride=(1, 1), bias=False)\n",
       "      (bn3): BatchNorm2d(512, eps=1e-05, momentum=0.1, affine=True, track_running_stats=True)\n",
       "      (relu): ReLU(inplace=True)\n",
       "      (downsample): Sequential(\n",
       "        (0): Conv2d(256, 512, kernel_size=(1, 1), stride=(2, 2), bias=False)\n",
       "        (1): BatchNorm2d(512, eps=1e-05, momentum=0.1, affine=True, track_running_stats=True)\n",
       "      )\n",
       "    )\n",
       "    (1): Bottleneck(\n",
       "      (conv1): Conv2d(512, 128, kernel_size=(1, 1), stride=(1, 1), bias=False)\n",
       "      (bn1): BatchNorm2d(128, eps=1e-05, momentum=0.1, affine=True, track_running_stats=True)\n",
       "      (conv2): Conv2d(128, 128, kernel_size=(3, 3), stride=(1, 1), padding=(1, 1), bias=False)\n",
       "      (bn2): BatchNorm2d(128, eps=1e-05, momentum=0.1, affine=True, track_running_stats=True)\n",
       "      (conv3): Conv2d(128, 512, kernel_size=(1, 1), stride=(1, 1), bias=False)\n",
       "      (bn3): BatchNorm2d(512, eps=1e-05, momentum=0.1, affine=True, track_running_stats=True)\n",
       "      (relu): ReLU(inplace=True)\n",
       "    )\n",
       "    (2): Bottleneck(\n",
       "      (conv1): Conv2d(512, 128, kernel_size=(1, 1), stride=(1, 1), bias=False)\n",
       "      (bn1): BatchNorm2d(128, eps=1e-05, momentum=0.1, affine=True, track_running_stats=True)\n",
       "      (conv2): Conv2d(128, 128, kernel_size=(3, 3), stride=(1, 1), padding=(1, 1), bias=False)\n",
       "      (bn2): BatchNorm2d(128, eps=1e-05, momentum=0.1, affine=True, track_running_stats=True)\n",
       "      (conv3): Conv2d(128, 512, kernel_size=(1, 1), stride=(1, 1), bias=False)\n",
       "      (bn3): BatchNorm2d(512, eps=1e-05, momentum=0.1, affine=True, track_running_stats=True)\n",
       "      (relu): ReLU(inplace=True)\n",
       "    )\n",
       "    (3): Bottleneck(\n",
       "      (conv1): Conv2d(512, 128, kernel_size=(1, 1), stride=(1, 1), bias=False)\n",
       "      (bn1): BatchNorm2d(128, eps=1e-05, momentum=0.1, affine=True, track_running_stats=True)\n",
       "      (conv2): Conv2d(128, 128, kernel_size=(3, 3), stride=(1, 1), padding=(1, 1), bias=False)\n",
       "      (bn2): BatchNorm2d(128, eps=1e-05, momentum=0.1, affine=True, track_running_stats=True)\n",
       "      (conv3): Conv2d(128, 512, kernel_size=(1, 1), stride=(1, 1), bias=False)\n",
       "      (bn3): BatchNorm2d(512, eps=1e-05, momentum=0.1, affine=True, track_running_stats=True)\n",
       "      (relu): ReLU(inplace=True)\n",
       "    )\n",
       "  )\n",
       "  (layer3): Sequential(\n",
       "    (0): Bottleneck(\n",
       "      (conv1): Conv2d(512, 256, kernel_size=(1, 1), stride=(1, 1), bias=False)\n",
       "      (bn1): BatchNorm2d(256, eps=1e-05, momentum=0.1, affine=True, track_running_stats=True)\n",
       "      (conv2): Conv2d(256, 256, kernel_size=(3, 3), stride=(2, 2), padding=(1, 1), bias=False)\n",
       "      (bn2): BatchNorm2d(256, eps=1e-05, momentum=0.1, affine=True, track_running_stats=True)\n",
       "      (conv3): Conv2d(256, 1024, kernel_size=(1, 1), stride=(1, 1), bias=False)\n",
       "      (bn3): BatchNorm2d(1024, eps=1e-05, momentum=0.1, affine=True, track_running_stats=True)\n",
       "      (relu): ReLU(inplace=True)\n",
       "      (downsample): Sequential(\n",
       "        (0): Conv2d(512, 1024, kernel_size=(1, 1), stride=(2, 2), bias=False)\n",
       "        (1): BatchNorm2d(1024, eps=1e-05, momentum=0.1, affine=True, track_running_stats=True)\n",
       "      )\n",
       "    )\n",
       "    (1): Bottleneck(\n",
       "      (conv1): Conv2d(1024, 256, kernel_size=(1, 1), stride=(1, 1), bias=False)\n",
       "      (bn1): BatchNorm2d(256, eps=1e-05, momentum=0.1, affine=True, track_running_stats=True)\n",
       "      (conv2): Conv2d(256, 256, kernel_size=(3, 3), stride=(1, 1), padding=(1, 1), bias=False)\n",
       "      (bn2): BatchNorm2d(256, eps=1e-05, momentum=0.1, affine=True, track_running_stats=True)\n",
       "      (conv3): Conv2d(256, 1024, kernel_size=(1, 1), stride=(1, 1), bias=False)\n",
       "      (bn3): BatchNorm2d(1024, eps=1e-05, momentum=0.1, affine=True, track_running_stats=True)\n",
       "      (relu): ReLU(inplace=True)\n",
       "    )\n",
       "    (2): Bottleneck(\n",
       "      (conv1): Conv2d(1024, 256, kernel_size=(1, 1), stride=(1, 1), bias=False)\n",
       "      (bn1): BatchNorm2d(256, eps=1e-05, momentum=0.1, affine=True, track_running_stats=True)\n",
       "      (conv2): Conv2d(256, 256, kernel_size=(3, 3), stride=(1, 1), padding=(1, 1), bias=False)\n",
       "      (bn2): BatchNorm2d(256, eps=1e-05, momentum=0.1, affine=True, track_running_stats=True)\n",
       "      (conv3): Conv2d(256, 1024, kernel_size=(1, 1), stride=(1, 1), bias=False)\n",
       "      (bn3): BatchNorm2d(1024, eps=1e-05, momentum=0.1, affine=True, track_running_stats=True)\n",
       "      (relu): ReLU(inplace=True)\n",
       "    )\n",
       "    (3): Bottleneck(\n",
       "      (conv1): Conv2d(1024, 256, kernel_size=(1, 1), stride=(1, 1), bias=False)\n",
       "      (bn1): BatchNorm2d(256, eps=1e-05, momentum=0.1, affine=True, track_running_stats=True)\n",
       "      (conv2): Conv2d(256, 256, kernel_size=(3, 3), stride=(1, 1), padding=(1, 1), bias=False)\n",
       "      (bn2): BatchNorm2d(256, eps=1e-05, momentum=0.1, affine=True, track_running_stats=True)\n",
       "      (conv3): Conv2d(256, 1024, kernel_size=(1, 1), stride=(1, 1), bias=False)\n",
       "      (bn3): BatchNorm2d(1024, eps=1e-05, momentum=0.1, affine=True, track_running_stats=True)\n",
       "      (relu): ReLU(inplace=True)\n",
       "    )\n",
       "    (4): Bottleneck(\n",
       "      (conv1): Conv2d(1024, 256, kernel_size=(1, 1), stride=(1, 1), bias=False)\n",
       "      (bn1): BatchNorm2d(256, eps=1e-05, momentum=0.1, affine=True, track_running_stats=True)\n",
       "      (conv2): Conv2d(256, 256, kernel_size=(3, 3), stride=(1, 1), padding=(1, 1), bias=False)\n",
       "      (bn2): BatchNorm2d(256, eps=1e-05, momentum=0.1, affine=True, track_running_stats=True)\n",
       "      (conv3): Conv2d(256, 1024, kernel_size=(1, 1), stride=(1, 1), bias=False)\n",
       "      (bn3): BatchNorm2d(1024, eps=1e-05, momentum=0.1, affine=True, track_running_stats=True)\n",
       "      (relu): ReLU(inplace=True)\n",
       "    )\n",
       "    (5): Bottleneck(\n",
       "      (conv1): Conv2d(1024, 256, kernel_size=(1, 1), stride=(1, 1), bias=False)\n",
       "      (bn1): BatchNorm2d(256, eps=1e-05, momentum=0.1, affine=True, track_running_stats=True)\n",
       "      (conv2): Conv2d(256, 256, kernel_size=(3, 3), stride=(1, 1), padding=(1, 1), bias=False)\n",
       "      (bn2): BatchNorm2d(256, eps=1e-05, momentum=0.1, affine=True, track_running_stats=True)\n",
       "      (conv3): Conv2d(256, 1024, kernel_size=(1, 1), stride=(1, 1), bias=False)\n",
       "      (bn3): BatchNorm2d(1024, eps=1e-05, momentum=0.1, affine=True, track_running_stats=True)\n",
       "      (relu): ReLU(inplace=True)\n",
       "    )\n",
       "  )\n",
       "  (layer4): Sequential(\n",
       "    (0): Bottleneck(\n",
       "      (conv1): Conv2d(1024, 512, kernel_size=(1, 1), stride=(1, 1), bias=False)\n",
       "      (bn1): BatchNorm2d(512, eps=1e-05, momentum=0.1, affine=True, track_running_stats=True)\n",
       "      (conv2): Conv2d(512, 512, kernel_size=(3, 3), stride=(2, 2), padding=(1, 1), bias=False)\n",
       "      (bn2): BatchNorm2d(512, eps=1e-05, momentum=0.1, affine=True, track_running_stats=True)\n",
       "      (conv3): Conv2d(512, 2048, kernel_size=(1, 1), stride=(1, 1), bias=False)\n",
       "      (bn3): BatchNorm2d(2048, eps=1e-05, momentum=0.1, affine=True, track_running_stats=True)\n",
       "      (relu): ReLU(inplace=True)\n",
       "      (downsample): Sequential(\n",
       "        (0): Conv2d(1024, 2048, kernel_size=(1, 1), stride=(2, 2), bias=False)\n",
       "        (1): BatchNorm2d(2048, eps=1e-05, momentum=0.1, affine=True, track_running_stats=True)\n",
       "      )\n",
       "    )\n",
       "    (1): Bottleneck(\n",
       "      (conv1): Conv2d(2048, 512, kernel_size=(1, 1), stride=(1, 1), bias=False)\n",
       "      (bn1): BatchNorm2d(512, eps=1e-05, momentum=0.1, affine=True, track_running_stats=True)\n",
       "      (conv2): Conv2d(512, 512, kernel_size=(3, 3), stride=(1, 1), padding=(1, 1), bias=False)\n",
       "      (bn2): BatchNorm2d(512, eps=1e-05, momentum=0.1, affine=True, track_running_stats=True)\n",
       "      (conv3): Conv2d(512, 2048, kernel_size=(1, 1), stride=(1, 1), bias=False)\n",
       "      (bn3): BatchNorm2d(2048, eps=1e-05, momentum=0.1, affine=True, track_running_stats=True)\n",
       "      (relu): ReLU(inplace=True)\n",
       "    )\n",
       "    (2): Bottleneck(\n",
       "      (conv1): Conv2d(2048, 512, kernel_size=(1, 1), stride=(1, 1), bias=False)\n",
       "      (bn1): BatchNorm2d(512, eps=1e-05, momentum=0.1, affine=True, track_running_stats=True)\n",
       "      (conv2): Conv2d(512, 512, kernel_size=(3, 3), stride=(1, 1), padding=(1, 1), bias=False)\n",
       "      (bn2): BatchNorm2d(512, eps=1e-05, momentum=0.1, affine=True, track_running_stats=True)\n",
       "      (conv3): Conv2d(512, 2048, kernel_size=(1, 1), stride=(1, 1), bias=False)\n",
       "      (bn3): BatchNorm2d(2048, eps=1e-05, momentum=0.1, affine=True, track_running_stats=True)\n",
       "      (relu): ReLU(inplace=True)\n",
       "    )\n",
       "  )\n",
       "  (avgpool): AdaptiveAvgPool2d(output_size=(1, 1))\n",
       "  (fc): Linear(in_features=2048, out_features=1000, bias=True)\n",
       ")"
      ]
     },
     "execution_count": 5,
     "metadata": {},
     "output_type": "execute_result"
    }
   ],
   "source": [
    "model = models.resnet50(pretrained=True)\n",
    "model"
   ]
  },
  {
   "cell_type": "markdown",
   "metadata": {},
   "source": [
    "#### Freeze weights of early layers of the VGG16 Model"
   ]
  },
  {
   "cell_type": "code",
   "execution_count": 6,
   "metadata": {},
   "outputs": [],
   "source": [
    "for param in model.parameters():\n",
    "    param.requires_grad = False"
   ]
  },
  {
   "cell_type": "markdown",
   "metadata": {},
   "source": [
    "#### Replace Last layer with fully connected layer configured for the task at hand"
   ]
  },
  {
   "cell_type": "code",
   "execution_count": 7,
   "metadata": {},
   "outputs": [
    {
     "data": {
      "text/plain": [
       "ResNet(\n",
       "  (conv1): Conv2d(3, 64, kernel_size=(7, 7), stride=(2, 2), padding=(3, 3), bias=False)\n",
       "  (bn1): BatchNorm2d(64, eps=1e-05, momentum=0.1, affine=True, track_running_stats=True)\n",
       "  (relu): ReLU(inplace=True)\n",
       "  (maxpool): MaxPool2d(kernel_size=3, stride=2, padding=1, dilation=1, ceil_mode=False)\n",
       "  (layer1): Sequential(\n",
       "    (0): Bottleneck(\n",
       "      (conv1): Conv2d(64, 64, kernel_size=(1, 1), stride=(1, 1), bias=False)\n",
       "      (bn1): BatchNorm2d(64, eps=1e-05, momentum=0.1, affine=True, track_running_stats=True)\n",
       "      (conv2): Conv2d(64, 64, kernel_size=(3, 3), stride=(1, 1), padding=(1, 1), bias=False)\n",
       "      (bn2): BatchNorm2d(64, eps=1e-05, momentum=0.1, affine=True, track_running_stats=True)\n",
       "      (conv3): Conv2d(64, 256, kernel_size=(1, 1), stride=(1, 1), bias=False)\n",
       "      (bn3): BatchNorm2d(256, eps=1e-05, momentum=0.1, affine=True, track_running_stats=True)\n",
       "      (relu): ReLU(inplace=True)\n",
       "      (downsample): Sequential(\n",
       "        (0): Conv2d(64, 256, kernel_size=(1, 1), stride=(1, 1), bias=False)\n",
       "        (1): BatchNorm2d(256, eps=1e-05, momentum=0.1, affine=True, track_running_stats=True)\n",
       "      )\n",
       "    )\n",
       "    (1): Bottleneck(\n",
       "      (conv1): Conv2d(256, 64, kernel_size=(1, 1), stride=(1, 1), bias=False)\n",
       "      (bn1): BatchNorm2d(64, eps=1e-05, momentum=0.1, affine=True, track_running_stats=True)\n",
       "      (conv2): Conv2d(64, 64, kernel_size=(3, 3), stride=(1, 1), padding=(1, 1), bias=False)\n",
       "      (bn2): BatchNorm2d(64, eps=1e-05, momentum=0.1, affine=True, track_running_stats=True)\n",
       "      (conv3): Conv2d(64, 256, kernel_size=(1, 1), stride=(1, 1), bias=False)\n",
       "      (bn3): BatchNorm2d(256, eps=1e-05, momentum=0.1, affine=True, track_running_stats=True)\n",
       "      (relu): ReLU(inplace=True)\n",
       "    )\n",
       "    (2): Bottleneck(\n",
       "      (conv1): Conv2d(256, 64, kernel_size=(1, 1), stride=(1, 1), bias=False)\n",
       "      (bn1): BatchNorm2d(64, eps=1e-05, momentum=0.1, affine=True, track_running_stats=True)\n",
       "      (conv2): Conv2d(64, 64, kernel_size=(3, 3), stride=(1, 1), padding=(1, 1), bias=False)\n",
       "      (bn2): BatchNorm2d(64, eps=1e-05, momentum=0.1, affine=True, track_running_stats=True)\n",
       "      (conv3): Conv2d(64, 256, kernel_size=(1, 1), stride=(1, 1), bias=False)\n",
       "      (bn3): BatchNorm2d(256, eps=1e-05, momentum=0.1, affine=True, track_running_stats=True)\n",
       "      (relu): ReLU(inplace=True)\n",
       "    )\n",
       "  )\n",
       "  (layer2): Sequential(\n",
       "    (0): Bottleneck(\n",
       "      (conv1): Conv2d(256, 128, kernel_size=(1, 1), stride=(1, 1), bias=False)\n",
       "      (bn1): BatchNorm2d(128, eps=1e-05, momentum=0.1, affine=True, track_running_stats=True)\n",
       "      (conv2): Conv2d(128, 128, kernel_size=(3, 3), stride=(2, 2), padding=(1, 1), bias=False)\n",
       "      (bn2): BatchNorm2d(128, eps=1e-05, momentum=0.1, affine=True, track_running_stats=True)\n",
       "      (conv3): Conv2d(128, 512, kernel_size=(1, 1), stride=(1, 1), bias=False)\n",
       "      (bn3): BatchNorm2d(512, eps=1e-05, momentum=0.1, affine=True, track_running_stats=True)\n",
       "      (relu): ReLU(inplace=True)\n",
       "      (downsample): Sequential(\n",
       "        (0): Conv2d(256, 512, kernel_size=(1, 1), stride=(2, 2), bias=False)\n",
       "        (1): BatchNorm2d(512, eps=1e-05, momentum=0.1, affine=True, track_running_stats=True)\n",
       "      )\n",
       "    )\n",
       "    (1): Bottleneck(\n",
       "      (conv1): Conv2d(512, 128, kernel_size=(1, 1), stride=(1, 1), bias=False)\n",
       "      (bn1): BatchNorm2d(128, eps=1e-05, momentum=0.1, affine=True, track_running_stats=True)\n",
       "      (conv2): Conv2d(128, 128, kernel_size=(3, 3), stride=(1, 1), padding=(1, 1), bias=False)\n",
       "      (bn2): BatchNorm2d(128, eps=1e-05, momentum=0.1, affine=True, track_running_stats=True)\n",
       "      (conv3): Conv2d(128, 512, kernel_size=(1, 1), stride=(1, 1), bias=False)\n",
       "      (bn3): BatchNorm2d(512, eps=1e-05, momentum=0.1, affine=True, track_running_stats=True)\n",
       "      (relu): ReLU(inplace=True)\n",
       "    )\n",
       "    (2): Bottleneck(\n",
       "      (conv1): Conv2d(512, 128, kernel_size=(1, 1), stride=(1, 1), bias=False)\n",
       "      (bn1): BatchNorm2d(128, eps=1e-05, momentum=0.1, affine=True, track_running_stats=True)\n",
       "      (conv2): Conv2d(128, 128, kernel_size=(3, 3), stride=(1, 1), padding=(1, 1), bias=False)\n",
       "      (bn2): BatchNorm2d(128, eps=1e-05, momentum=0.1, affine=True, track_running_stats=True)\n",
       "      (conv3): Conv2d(128, 512, kernel_size=(1, 1), stride=(1, 1), bias=False)\n",
       "      (bn3): BatchNorm2d(512, eps=1e-05, momentum=0.1, affine=True, track_running_stats=True)\n",
       "      (relu): ReLU(inplace=True)\n",
       "    )\n",
       "    (3): Bottleneck(\n",
       "      (conv1): Conv2d(512, 128, kernel_size=(1, 1), stride=(1, 1), bias=False)\n",
       "      (bn1): BatchNorm2d(128, eps=1e-05, momentum=0.1, affine=True, track_running_stats=True)\n",
       "      (conv2): Conv2d(128, 128, kernel_size=(3, 3), stride=(1, 1), padding=(1, 1), bias=False)\n",
       "      (bn2): BatchNorm2d(128, eps=1e-05, momentum=0.1, affine=True, track_running_stats=True)\n",
       "      (conv3): Conv2d(128, 512, kernel_size=(1, 1), stride=(1, 1), bias=False)\n",
       "      (bn3): BatchNorm2d(512, eps=1e-05, momentum=0.1, affine=True, track_running_stats=True)\n",
       "      (relu): ReLU(inplace=True)\n",
       "    )\n",
       "  )\n",
       "  (layer3): Sequential(\n",
       "    (0): Bottleneck(\n",
       "      (conv1): Conv2d(512, 256, kernel_size=(1, 1), stride=(1, 1), bias=False)\n",
       "      (bn1): BatchNorm2d(256, eps=1e-05, momentum=0.1, affine=True, track_running_stats=True)\n",
       "      (conv2): Conv2d(256, 256, kernel_size=(3, 3), stride=(2, 2), padding=(1, 1), bias=False)\n",
       "      (bn2): BatchNorm2d(256, eps=1e-05, momentum=0.1, affine=True, track_running_stats=True)\n",
       "      (conv3): Conv2d(256, 1024, kernel_size=(1, 1), stride=(1, 1), bias=False)\n",
       "      (bn3): BatchNorm2d(1024, eps=1e-05, momentum=0.1, affine=True, track_running_stats=True)\n",
       "      (relu): ReLU(inplace=True)\n",
       "      (downsample): Sequential(\n",
       "        (0): Conv2d(512, 1024, kernel_size=(1, 1), stride=(2, 2), bias=False)\n",
       "        (1): BatchNorm2d(1024, eps=1e-05, momentum=0.1, affine=True, track_running_stats=True)\n",
       "      )\n",
       "    )\n",
       "    (1): Bottleneck(\n",
       "      (conv1): Conv2d(1024, 256, kernel_size=(1, 1), stride=(1, 1), bias=False)\n",
       "      (bn1): BatchNorm2d(256, eps=1e-05, momentum=0.1, affine=True, track_running_stats=True)\n",
       "      (conv2): Conv2d(256, 256, kernel_size=(3, 3), stride=(1, 1), padding=(1, 1), bias=False)\n",
       "      (bn2): BatchNorm2d(256, eps=1e-05, momentum=0.1, affine=True, track_running_stats=True)\n",
       "      (conv3): Conv2d(256, 1024, kernel_size=(1, 1), stride=(1, 1), bias=False)\n",
       "      (bn3): BatchNorm2d(1024, eps=1e-05, momentum=0.1, affine=True, track_running_stats=True)\n",
       "      (relu): ReLU(inplace=True)\n",
       "    )\n",
       "    (2): Bottleneck(\n",
       "      (conv1): Conv2d(1024, 256, kernel_size=(1, 1), stride=(1, 1), bias=False)\n",
       "      (bn1): BatchNorm2d(256, eps=1e-05, momentum=0.1, affine=True, track_running_stats=True)\n",
       "      (conv2): Conv2d(256, 256, kernel_size=(3, 3), stride=(1, 1), padding=(1, 1), bias=False)\n",
       "      (bn2): BatchNorm2d(256, eps=1e-05, momentum=0.1, affine=True, track_running_stats=True)\n",
       "      (conv3): Conv2d(256, 1024, kernel_size=(1, 1), stride=(1, 1), bias=False)\n",
       "      (bn3): BatchNorm2d(1024, eps=1e-05, momentum=0.1, affine=True, track_running_stats=True)\n",
       "      (relu): ReLU(inplace=True)\n",
       "    )\n",
       "    (3): Bottleneck(\n",
       "      (conv1): Conv2d(1024, 256, kernel_size=(1, 1), stride=(1, 1), bias=False)\n",
       "      (bn1): BatchNorm2d(256, eps=1e-05, momentum=0.1, affine=True, track_running_stats=True)\n",
       "      (conv2): Conv2d(256, 256, kernel_size=(3, 3), stride=(1, 1), padding=(1, 1), bias=False)\n",
       "      (bn2): BatchNorm2d(256, eps=1e-05, momentum=0.1, affine=True, track_running_stats=True)\n",
       "      (conv3): Conv2d(256, 1024, kernel_size=(1, 1), stride=(1, 1), bias=False)\n",
       "      (bn3): BatchNorm2d(1024, eps=1e-05, momentum=0.1, affine=True, track_running_stats=True)\n",
       "      (relu): ReLU(inplace=True)\n",
       "    )\n",
       "    (4): Bottleneck(\n",
       "      (conv1): Conv2d(1024, 256, kernel_size=(1, 1), stride=(1, 1), bias=False)\n",
       "      (bn1): BatchNorm2d(256, eps=1e-05, momentum=0.1, affine=True, track_running_stats=True)\n",
       "      (conv2): Conv2d(256, 256, kernel_size=(3, 3), stride=(1, 1), padding=(1, 1), bias=False)\n",
       "      (bn2): BatchNorm2d(256, eps=1e-05, momentum=0.1, affine=True, track_running_stats=True)\n",
       "      (conv3): Conv2d(256, 1024, kernel_size=(1, 1), stride=(1, 1), bias=False)\n",
       "      (bn3): BatchNorm2d(1024, eps=1e-05, momentum=0.1, affine=True, track_running_stats=True)\n",
       "      (relu): ReLU(inplace=True)\n",
       "    )\n",
       "    (5): Bottleneck(\n",
       "      (conv1): Conv2d(1024, 256, kernel_size=(1, 1), stride=(1, 1), bias=False)\n",
       "      (bn1): BatchNorm2d(256, eps=1e-05, momentum=0.1, affine=True, track_running_stats=True)\n",
       "      (conv2): Conv2d(256, 256, kernel_size=(3, 3), stride=(1, 1), padding=(1, 1), bias=False)\n",
       "      (bn2): BatchNorm2d(256, eps=1e-05, momentum=0.1, affine=True, track_running_stats=True)\n",
       "      (conv3): Conv2d(256, 1024, kernel_size=(1, 1), stride=(1, 1), bias=False)\n",
       "      (bn3): BatchNorm2d(1024, eps=1e-05, momentum=0.1, affine=True, track_running_stats=True)\n",
       "      (relu): ReLU(inplace=True)\n",
       "    )\n",
       "  )\n",
       "  (layer4): Sequential(\n",
       "    (0): Bottleneck(\n",
       "      (conv1): Conv2d(1024, 512, kernel_size=(1, 1), stride=(1, 1), bias=False)\n",
       "      (bn1): BatchNorm2d(512, eps=1e-05, momentum=0.1, affine=True, track_running_stats=True)\n",
       "      (conv2): Conv2d(512, 512, kernel_size=(3, 3), stride=(2, 2), padding=(1, 1), bias=False)\n",
       "      (bn2): BatchNorm2d(512, eps=1e-05, momentum=0.1, affine=True, track_running_stats=True)\n",
       "      (conv3): Conv2d(512, 2048, kernel_size=(1, 1), stride=(1, 1), bias=False)\n",
       "      (bn3): BatchNorm2d(2048, eps=1e-05, momentum=0.1, affine=True, track_running_stats=True)\n",
       "      (relu): ReLU(inplace=True)\n",
       "      (downsample): Sequential(\n",
       "        (0): Conv2d(1024, 2048, kernel_size=(1, 1), stride=(2, 2), bias=False)\n",
       "        (1): BatchNorm2d(2048, eps=1e-05, momentum=0.1, affine=True, track_running_stats=True)\n",
       "      )\n",
       "    )\n",
       "    (1): Bottleneck(\n",
       "      (conv1): Conv2d(2048, 512, kernel_size=(1, 1), stride=(1, 1), bias=False)\n",
       "      (bn1): BatchNorm2d(512, eps=1e-05, momentum=0.1, affine=True, track_running_stats=True)\n",
       "      (conv2): Conv2d(512, 512, kernel_size=(3, 3), stride=(1, 1), padding=(1, 1), bias=False)\n",
       "      (bn2): BatchNorm2d(512, eps=1e-05, momentum=0.1, affine=True, track_running_stats=True)\n",
       "      (conv3): Conv2d(512, 2048, kernel_size=(1, 1), stride=(1, 1), bias=False)\n",
       "      (bn3): BatchNorm2d(2048, eps=1e-05, momentum=0.1, affine=True, track_running_stats=True)\n",
       "      (relu): ReLU(inplace=True)\n",
       "    )\n",
       "    (2): Bottleneck(\n",
       "      (conv1): Conv2d(2048, 512, kernel_size=(1, 1), stride=(1, 1), bias=False)\n",
       "      (bn1): BatchNorm2d(512, eps=1e-05, momentum=0.1, affine=True, track_running_stats=True)\n",
       "      (conv2): Conv2d(512, 512, kernel_size=(3, 3), stride=(1, 1), padding=(1, 1), bias=False)\n",
       "      (bn2): BatchNorm2d(512, eps=1e-05, momentum=0.1, affine=True, track_running_stats=True)\n",
       "      (conv3): Conv2d(512, 2048, kernel_size=(1, 1), stride=(1, 1), bias=False)\n",
       "      (bn3): BatchNorm2d(2048, eps=1e-05, momentum=0.1, affine=True, track_running_stats=True)\n",
       "      (relu): ReLU(inplace=True)\n",
       "    )\n",
       "  )\n",
       "  (avgpool): AdaptiveAvgPool2d(output_size=(1, 1))\n",
       "  (fc): Sequential(\n",
       "    (0): Linear(in_features=2048, out_features=224, bias=True)\n",
       "    (1): Linear(in_features=224, out_features=224, bias=True)\n",
       "    (2): Linear(in_features=224, out_features=101, bias=True)\n",
       "  )\n",
       ")"
      ]
     },
     "execution_count": 7,
     "metadata": {},
     "output_type": "execute_result"
    }
   ],
   "source": [
    "n_classes = 101\n",
    "\n",
    "n_inputs = model.fc.in_features\n",
    "\n",
    "\n",
    "classifier = nn.Sequential(\n",
    "    nn.Linear(n_inputs,image_size),\n",
<<<<<<< HEAD
    "    nn.Linear(image_size,image_size),\n",
    "    nn.Linear(image_size,n_classes)\n",
=======
    "    nn.LeakyReLU(),\n",
    "    nn.Linear(image_size,n_classes),\n",
    "    nn.LogSoftmax(dim=1)\n",
>>>>>>> 4ba713ef2e6cdb14575a8c33a410ab03df9155fb
    ")\n",
    "\n",
    "model.fc = classifier\n",
    "model"
   ]
  },
  {
   "cell_type": "markdown",
   "metadata": {},
   "source": [
    "#### Move model to GPU"
   ]
  },
  {
   "cell_type": "code",
   "execution_count": 8,
   "metadata": {},
   "outputs": [],
   "source": [
    "if train_on_gpu:\n",
    "    model = model.to('cuda')\n",
    "\n",
    "if multi_gpu:\n",
    "    model = nn.DataParallel(model)"
   ]
  },
  {
   "cell_type": "markdown",
   "metadata": {},
   "source": [
    "#### Mapping of food labels to indexes"
   ]
  },
  {
   "cell_type": "code",
   "execution_count": 9,
   "metadata": {},
   "outputs": [
    {
     "data": {
      "text/plain": [
       "[(0, 'apple_pie'),\n",
       " (1, 'baby_back_ribs'),\n",
       " (2, 'baklava'),\n",
       " (3, 'beef_carpaccio'),\n",
       " (4, 'beef_tartare'),\n",
       " (5, 'beet_salad'),\n",
       " (6, 'beignets'),\n",
       " (7, 'bibimbap'),\n",
       " (8, 'bread_pudding'),\n",
       " (9, 'breakfast_burrito')]"
      ]
     },
     "execution_count": 9,
     "metadata": {},
     "output_type": "execute_result"
    }
   ],
   "source": [
    "model.class_to_idx = data['train'].class_to_idx\n",
    "model.idx_to_class = {\n",
    "    idx: class_\n",
    "    for class_, idx in model.class_to_idx.items()\n",
    "}\n",
    "\n",
    "list(model.idx_to_class.items())[:10]"
   ]
  },
  {
   "cell_type": "markdown",
   "metadata": {},
   "source": [
    "### Finding the Right Learning Rate"
   ]
  },
  {
   "cell_type": "code",
   "execution_count": 10,
   "metadata": {
    "scrolled": true
   },
   "outputs": [],
   "source": [
    "# # we will be using negative log likelihood as the loss function\n",
    "# criterion = nn.CrossEntropyLoss()\n",
    "# # we will be using the SGD optimizer as our optimizer\n",
    "# optimizer = optim.SGD(model.parameters(), lr=1e-5)\n",
    "# lr_finder = LRFinder(model, optimizer, criterion, device='cuda')\n",
    "# lr_finder.range_test(dataloaders['train'], end_lr=1, num_iter=2000)\n",
    "# lr_finder.plot()\n",
    "# lr_finder.reset()"
   ]
  },
  {
   "cell_type": "markdown",
   "metadata": {},
   "source": [
    "### Training Loss and Optimizer"
   ]
  },
  {
   "cell_type": "code",
   "execution_count": 11,
   "metadata": {},
   "outputs": [],
   "source": [
    "# we will be using negative log likelihood as the loss function\n",
    "criterion = nn.CrossEntropyLoss()\n",
    "# we will be using the Adam optimizer as our optimizer\n",
    "optimizer = optim.SGD(model.fc.parameters(), lr=0.01, momentum=0.9)\n",
    "\n",
    "# secify learning rate scheduler (if there is no further decrease in loss for next 5 epochs \n",
    "# then lower the learning rate by 0.1)\n",
<<<<<<< HEAD
    "scheduler = torch.optim.lr_scheduler.ReduceLROnPlateau(optimizer, 'min', patience = 5)"
=======
    "scheduler = torch.optim.lr_scheduler.ReduceLROnPlateau(optimizer, 'min', patience = 5)\n"
>>>>>>> 4ba713ef2e6cdb14575a8c33a410ab03df9155fb
   ]
  },
  {
   "cell_type": "code",
   "execution_count": 26,
   "metadata": {},
   "outputs": [],
   "source": [
    "def train_model(model,\n",
    "               criterion,\n",
    "               optimizer,\n",
    "               scheduler,\n",
    "               train_loader,\n",
    "               valid_loader,\n",
    "               save_file_name,\n",
    "               checkpoint_file_name,\n",
    "               max_epochs_stop=3,\n",
    "               n_epochs=25,\n",
    "               print_every=2\n",
    "               ):\n",
    "    \"\"\"Train a PyTorch Model\n",
    "\n",
    "    Params\n",
    "    --------\n",
    "        model (PyTorch model): cnn to train\n",
    "        criterion (PyTorch loss): objective to minimize\n",
    "        optimizer (PyTorch optimizier): optimizer to compute gradients of model parameters\n",
    "        train_loader (PyTorch dataloader): training dataloader to iterate through\n",
    "        valid_loader (PyTorch dataloader): validation dataloader used for early stopping\n",
    "        save_file_name (str ending in '.pt'): file path to save the model state dict\n",
    "        max_epochs_stop (int): maximum number of epochs with no improvement in validation loss for early stopping\n",
    "        n_epochs (int): maximum number of training epochs\n",
    "        print_every (int): frequency of epochs to print training stats\n",
    "\n",
    "    Returns\n",
    "    --------\n",
    "        model (PyTorch model): trained cnn with best weights\n",
    "        history (DataFrame): history of train and validation loss and accuracy\n",
    "    \"\"\"\n",
    "    # early stopping initializaiton\n",
    "    epochs_no_improve = 0\n",
    "    valid_loss_min = np.Inf\n",
    "    \n",
    "    valid_max_acc = 0\n",
    "    history = []\n",
    "    \n",
    "    # number of epochs already trained (if using loaded in model weights)\n",
    "    try:\n",
    "        print(\"Model has been trained for: {} epochs.\\n\".format(model.epochs))\n",
    "    except:\n",
    "        model.epochs = 0\n",
    "        print(\"Starting training from scratch.\\n\")\n",
    "        \n",
    "    overall_start = timer()\n",
    "    \n",
    "    #Main loop\n",
    "    for epoch in range(n_epochs):\n",
    "        \n",
    "        #keep track of training and validation loss of each epoch\n",
    "        train_loss = 0.0\n",
    "        valid_loss = 0.0\n",
    "        \n",
    "        train_acc = 0\n",
    "        valid_acc = 0\n",
    "        \n",
    "        #set to training\n",
    "        model.train()\n",
    "        start = timer()\n",
    "        \n",
    "        # training loop\n",
    "        for ii, (data, target) in enumerate(train_loader):\n",
    "            #tensors to gpu\n",
    "            if train_on_gpu:\n",
    "                data, target = data.cuda(), target.cuda()\n",
    "                \n",
    "            # clear gradients\n",
    "            optimizer.zero_grad()\n",
    "            #predicted outpouts are log probabilities\n",
    "            output = model(data)\n",
    "            \n",
    "            # loss and backpropagation of gradients\n",
    "            loss = criterion(output, target)\n",
    "            loss.backward()\n",
    "            \n",
    "            # update the parameters\n",
    "            optimizer.step()\n",
    "            \n",
    "            # track train loss by multiplying average loss by number of examples in batch\n",
    "            train_loss += loss.item() * data.size(0)\n",
    "            \n",
    "            # calculate accuracy by finding max log probability\n",
    "            _, pred = torch.max(output, dim=1)\n",
    "            correct_tensor = pred.eq(target.data.view_as(pred))\n",
    "            # need to convert correct tensor from int to float to average\n",
    "            accuracy = torch.mean(correct_tensor.type(torch.FloatTensor))\n",
    "            # multiply average accuracy times the number of examples in batch\n",
    "            train_acc += accuracy.item() * data.size(0)\n",
    "            \n",
    "            # Track training progress\n",
    "            print(\n",
    "                f'Epoch: {epoch}\\t{100 * (ii + 1) / len(train_loader):.2f}% complete. {timer() - start:.2f} seconds elapsed in epoch.',\n",
    "                end='\\r')\n",
    "        # after training loop ends\n",
    "        else:\n",
    "            model.epochs += 1\n",
    "            \n",
    "            # don't need to keep track of gradients\n",
    "            with torch.no_grad():\n",
    "                # set to evaluation mode\n",
    "                model.eval()\n",
    "                \n",
    "                #validation loop\n",
    "                for data, target in valid_loader:\n",
    "                    #tensors to gpu\n",
    "                    if train_on_gpu:\n",
    "                        data, target = data.cuda(), target.cuda()\n",
    "                        \n",
    "                    # Forward pass\n",
    "                    output = model(data)\n",
    "                    \n",
    "                    # validation loss \n",
    "                    loss = criterion(output, target)\n",
    "                    # multiply average loss times the number of examples in batch\n",
    "                    valid_loss += loss.item() * data.size(0)\n",
    "                    \n",
    "                    # calculate validation accuracy\n",
    "                    _, pred = torch.max(output, dim=1)\n",
    "                    correct_tensor = pred.eq(target.data.view_as(pred))\n",
    "                    accuracy = torch.mean(\n",
    "                        correct_tensor.type(torch.FloatTensor))\n",
    "                    # multiply average accuracy times the number of examples\n",
    "                    valid_acc += accuracy.item() * data.size(0)\n",
    "                    \n",
    "                # calculate average losses\n",
    "                train_loss = train_loss / (len(train_loader.dataset))\n",
    "                valid_loss = valid_loss / (len(valid_loader.dataset))\n",
    "                \n",
    "                # calculate average accuracy\n",
    "                train_acc = train_acc / (len(train_loader.dataset))\n",
    "                valid_acc = valid_acc / (len(valid_loader.dataset))\n",
    "                \n",
    "                # learning rate scheduler step\n",
    "                scheduler.step(valid_loss)\n",
    "                \n",
    "                history.append([train_loss, valid_loss, train_acc, valid_acc])\n",
    "                \n",
    "                # Print training and validation results\n",
    "                if (epoch + 1) % print_every == 0:\n",
    "                    print(\n",
    "                        f'\\nEpoch: {epoch} \\tTraining Loss: {train_loss:.4f} \\tValidation Loss: {valid_loss:.4f}'\n",
    "                    )\n",
    "                    print(\n",
    "                        f'\\t\\tTraining Accuracy: {100 * train_acc:.2f}%\\t Validation Accuracy: {100 * valid_acc:.2f}%'\n",
    "                    )\n",
    "                    \n",
    "                # save the model if validation loss decreases\n",
    "                if valid_loss < valid_loss_min:\n",
    "                    print(\"Valid loss decreased ({:.6f} --> {:.6f}). Saving model...\".format(valid_loss_min, valid_loss))\n",
    "                    \n",
    "                    # save model\n",
    "                    torch.save(model.state_dict(), save_file_name)\n",
    "                    \n",
    "                    checkpoint = {\n",
    "                        \"model\": model,\n",
    "                        \"criterion\": criterion,\n",
    "                        \"epochs\": model.epochs,\n",
    "                        \"optimizer_state\": optimizer.state_dict(),\n",
    "                        \"model_state\": model.state_dict(),\n",
    "                        \"valid_loss_min\": valid_loss\n",
    "                    }\n",
    "                    torch.save(checkpoint, checkpoint_file_name)\n",
    "                    \n",
    "                    # track improvements\n",
    "                    epochs_no_improve = 0\n",
    "                    valid_loss_min = valid_loss\n",
    "                    valid_best_acc = valid_acc\n",
    "                    best_epoch = epoch\n",
    "                    \n",
    "                # otherwise increment count of epochs with no improvement\n",
    "                else:\n",
    "                    epochs_no_improve += 1\n",
    "                    #trigger early stopping\n",
    "                    if epochs_no_improve >= max_epochs_stop:\n",
    "                        print(\n",
    "                            f'\\nEarly Stopping! Total epochs: {epoch}. Best epoch: {best_epoch} with loss: {valid_loss_min:.2f} and acc: {100 * valid_acc:.2f}%'\n",
    "                        )\n",
    "                        total_time = timer() - overall_start\n",
    "                        print(\n",
    "                            f'{total_time:.2f} total seconds elapsed. {total_time / (epoch+1):.2f} seconds per epoch.'\n",
    "                        )\n",
    "                        \n",
    "                        # load the best state dict\n",
    "                        model.load_state_dict(torch.load(save_file_name))\n",
    "                        # attach the optimizer\n",
    "                        model.optimizer = optimizer\n",
    "                        \n",
    "                        # format history\n",
    "                        history = pd.DataFrame(\n",
    "                                history,\n",
    "                                columns=[\n",
    "                                    'train_loss', 'valid_loss', 'train_acc',\n",
    "                                    'valid_acc'\n",
    "                                ])\n",
    "                        return model, history\n",
    "                    \n",
    "    model.optimizer = optimizer\n",
    "    total_time = timer() - overall_start\n",
    "    print(\n",
    "        f'\\nBest epoch: {best_epoch} with loss: {valid_loss_min:.2f} and acc: {100 * valid_acc:.2f}%'\n",
    "    )\n",
    "    print(\n",
    "        f'{total_time:.2f} total seconds elapsed. {total_time / (model.epochs):.2f} seconds per epoch.'\n",
    "    )\n",
    "    # Format history\n",
    "    history = pd.DataFrame(\n",
    "        history,\n",
    "        columns=['train_loss', 'valid_loss', 'train_acc', 'valid_acc'])\n",
    "    return model, history"
   ]
  },
  {
   "cell_type": "code",
   "execution_count": 13,
   "metadata": {
    "scrolled": false
   },
   "outputs": [
    {
     "name": "stdout",
     "output_type": "stream",
     "text": [
      "Starting training from scratch.\n",
      "\n",
<<<<<<< HEAD
      "Epoch: 0\t100.00% complete. 1079.63 seconds elapsed in epoch.\n",
      "Epoch: 0 \tTraining Loss: 3.5538 \tValidation Loss: 2.7675\n",
      "\t\tTraining Accuracy: 19.19%\t Validation Accuracy: 32.85%\n",
      "Epoch: 1\t100.00% complete. 469.55 seconds elapsed in epoch.\n",
      "Epoch: 1 \tTraining Loss: 2.8691 \tValidation Loss: 2.5833\n",
      "\t\tTraining Accuracy: 31.49%\t Validation Accuracy: 36.62%\n",
      "Epoch: 2\t100.00% complete. 460.79 seconds elapsed in epoch.\n",
      "Epoch: 2 \tTraining Loss: 2.7388 \tValidation Loss: 2.4705\n",
      "\t\tTraining Accuracy: 34.25%\t Validation Accuracy: 39.00%\n",
      "Epoch: 3\t100.00% complete. 451.73 seconds elapsed in epoch.\n",
      "Epoch: 3 \tTraining Loss: 2.6762 \tValidation Loss: 2.4629\n",
      "\t\tTraining Accuracy: 35.99%\t Validation Accuracy: 38.94%\n",
      "Epoch: 4\t100.00% complete. 451.13 seconds elapsed in epoch.\n",
      "Epoch: 4 \tTraining Loss: 2.6279 \tValidation Loss: 2.3782\n",
      "\t\tTraining Accuracy: 36.88%\t Validation Accuracy: 40.76%\n",
      "Epoch: 5\t100.00% complete. 452.25 seconds elapsed in epoch.\n",
      "Epoch: 5 \tTraining Loss: 2.5970 \tValidation Loss: 2.3853\n",
      "\t\tTraining Accuracy: 37.64%\t Validation Accuracy: 40.41%\n",
      "Epoch: 6\t100.00% complete. 451.59 seconds elapsed in epoch.\n",
      "Epoch: 6 \tTraining Loss: 2.5837 \tValidation Loss: 2.3820\n",
      "\t\tTraining Accuracy: 37.91%\t Validation Accuracy: 40.72%\n",
      "Epoch: 7\t100.00% complete. 451.69 seconds elapsed in epoch.\n",
      "Epoch: 7 \tTraining Loss: 2.5612 \tValidation Loss: 2.3362\n",
      "\t\tTraining Accuracy: 38.16%\t Validation Accuracy: 41.82%\n",
      "Epoch: 8\t100.00% complete. 452.93 seconds elapsed in epoch.\n",
      "Epoch: 8 \tTraining Loss: 2.5468 \tValidation Loss: 2.3402\n",
      "\t\tTraining Accuracy: 38.68%\t Validation Accuracy: 41.34%\n",
      "Epoch: 9\t100.00% complete. 451.12 seconds elapsed in epoch.\n",
      "Epoch: 9 \tTraining Loss: 2.5271 \tValidation Loss: 2.2462\n",
      "\t\tTraining Accuracy: 39.16%\t Validation Accuracy: 44.02%\n",
      "Epoch: 10\t100.00% complete. 449.88 seconds elapsed in epoch.\n",
      "Epoch: 10 \tTraining Loss: 2.5134 \tValidation Loss: 2.3733\n",
      "\t\tTraining Accuracy: 39.47%\t Validation Accuracy: 41.63%\n",
      "Epoch: 11\t100.00% complete. 450.75 seconds elapsed in epoch.\n",
      "Epoch: 11 \tTraining Loss: 2.5079 \tValidation Loss: 2.2577\n",
      "\t\tTraining Accuracy: 39.40%\t Validation Accuracy: 44.01%\n",
      "Epoch: 12\t100.00% complete. 1313.27 seconds elapsed in epoch.\n",
      "Epoch: 12 \tTraining Loss: 2.4963 \tValidation Loss: 2.2800\n",
      "\t\tTraining Accuracy: 39.92%\t Validation Accuracy: 43.19%\n",
      "Epoch: 13\t100.00% complete. 928.54 seconds elapsed in epoch.\n",
      "Epoch: 13 \tTraining Loss: 2.4785 \tValidation Loss: 2.2910\n",
      "\t\tTraining Accuracy: 40.07%\t Validation Accuracy: 42.95%\n",
      "Epoch: 14\t100.00% complete. 457.27 seconds elapsed in epoch.\n",
      "Epoch: 14 \tTraining Loss: 2.4780 \tValidation Loss: 2.2578\n",
      "\t\tTraining Accuracy: 40.07%\t Validation Accuracy: 43.47%\n",
      "Epoch: 15\t100.00% complete. 450.18 seconds elapsed in epoch.\n",
      "Epoch: 15 \tTraining Loss: 2.4739 \tValidation Loss: 2.2176\n",
      "\t\tTraining Accuracy: 40.21%\t Validation Accuracy: 44.79%\n",
      "Epoch: 16\t100.00% complete. 450.68 seconds elapsed in epoch.\n",
      "Epoch: 16 \tTraining Loss: 2.4563 \tValidation Loss: 2.2609\n",
      "\t\tTraining Accuracy: 40.49%\t Validation Accuracy: 43.81%\n",
      "Epoch: 17\t100.00% complete. 449.69 seconds elapsed in epoch.\n",
      "Epoch: 17 \tTraining Loss: 2.4464 \tValidation Loss: 2.2136\n",
      "\t\tTraining Accuracy: 40.70%\t Validation Accuracy: 44.70%\n",
      "Epoch: 18\t100.00% complete. 454.57 seconds elapsed in epoch.\n",
      "Epoch: 18 \tTraining Loss: 2.4486 \tValidation Loss: 2.1882\n",
      "\t\tTraining Accuracy: 41.04%\t Validation Accuracy: 45.27%\n",
      "Epoch: 19\t100.00% complete. 451.83 seconds elapsed in epoch.\n",
      "Epoch: 19 \tTraining Loss: 2.4267 \tValidation Loss: 2.2382\n",
      "\t\tTraining Accuracy: 41.05%\t Validation Accuracy: 44.25%\n",
      "\n",
      "Best epoch: 18 with loss: 2.19 and acc: 44.25%\n",
      "13877.01 total seconds elapsed. 693.85 seconds per epoch.\n"
=======
      "Epoch: 0\t100.00% complete. 730.81 seconds elapsed in epoch.\n",
      "Epoch: 0 \tTraining Loss: 3.2175 \tValidation Loss: 2.4946\n",
      "\t\tTraining Accuracy: 25.22%\t Validation Accuracy: 37.97%\n",
      "Epoch: 1\t100.00% complete. 708.34 seconds elapsed in epoch.\n",
      "Epoch: 1 \tTraining Loss: 2.7032 \tValidation Loss: 2.4486\n",
      "\t\tTraining Accuracy: 35.26%\t Validation Accuracy: 38.89%\n",
      "Epoch: 2\t100.00% complete. 712.41 seconds elapsed in epoch.\n",
      "Epoch: 2 \tTraining Loss: 2.6213 \tValidation Loss: 2.2623\n",
      "\t\tTraining Accuracy: 36.92%\t Validation Accuracy: 43.47%\n",
      "Epoch: 3\t100.00% complete. 717.82 seconds elapsed in epoch.\n",
      "Epoch: 3 \tTraining Loss: 2.5681 \tValidation Loss: 2.3765\n",
      "\t\tTraining Accuracy: 38.11%\t Validation Accuracy: 41.18%\n",
      "Epoch: 4\t100.00% complete. 707.18 seconds elapsed in epoch.\n",
      "Epoch: 4 \tTraining Loss: 2.5398 \tValidation Loss: 2.2116\n",
      "\t\tTraining Accuracy: 38.73%\t Validation Accuracy: 44.19%\n",
      "Epoch: 5\t100.00% complete. 709.65 seconds elapsed in epoch.\n",
      "Epoch: 5 \tTraining Loss: 2.5071 \tValidation Loss: 2.1975\n",
      "\t\tTraining Accuracy: 39.50%\t Validation Accuracy: 44.93%\n",
      "Epoch: 6\t100.00% complete. 706.76 seconds elapsed in epoch.\n",
      "Epoch: 6 \tTraining Loss: 2.4978 \tValidation Loss: 2.1846\n",
      "\t\tTraining Accuracy: 39.70%\t Validation Accuracy: 45.01%\n",
      "Epoch: 7\t100.00% complete. 708.96 seconds elapsed in epoch.\n",
      "Epoch: 7 \tTraining Loss: 2.4758 \tValidation Loss: 2.1850\n",
      "\t\tTraining Accuracy: 40.23%\t Validation Accuracy: 45.04%\n",
      "Epoch: 8\t100.00% complete. 709.35 seconds elapsed in epoch.\n",
      "Epoch: 8 \tTraining Loss: 2.4602 \tValidation Loss: 2.2062\n",
      "\t\tTraining Accuracy: 40.55%\t Validation Accuracy: 45.42%\n",
      "Epoch: 9\t100.00% complete. 709.71 seconds elapsed in epoch.\n",
      "Epoch: 9 \tTraining Loss: 2.4429 \tValidation Loss: 2.2031\n",
      "\t\tTraining Accuracy: 40.88%\t Validation Accuracy: 45.05%\n",
      "Epoch: 10\t100.00% complete. 708.88 seconds elapsed in epoch.\n",
      "Epoch: 10 \tTraining Loss: 2.4352 \tValidation Loss: 2.1323\n",
      "\t\tTraining Accuracy: 40.93%\t Validation Accuracy: 46.33%\n",
      "Epoch: 11\t100.00% complete. 708.61 seconds elapsed in epoch.\n",
      "Epoch: 11 \tTraining Loss: 2.4244 \tValidation Loss: 2.1846\n",
      "\t\tTraining Accuracy: 41.41%\t Validation Accuracy: 45.41%\n",
      "Epoch: 12\t100.00% complete. 709.13 seconds elapsed in epoch.\n",
      "Epoch: 12 \tTraining Loss: 2.4120 \tValidation Loss: 2.1671\n",
      "\t\tTraining Accuracy: 41.54%\t Validation Accuracy: 46.11%\n",
      "Epoch: 13\t100.00% complete. 709.47 seconds elapsed in epoch.\n",
      "Epoch: 13 \tTraining Loss: 2.4012 \tValidation Loss: 2.0722\n",
      "\t\tTraining Accuracy: 41.68%\t Validation Accuracy: 47.83%\n",
      "Epoch: 14\t100.00% complete. 708.67 seconds elapsed in epoch.\n",
      "Epoch: 14 \tTraining Loss: 2.4035 \tValidation Loss: 2.0963\n",
      "\t\tTraining Accuracy: 41.86%\t Validation Accuracy: 47.47%\n",
      "Epoch: 15\t100.00% complete. 710.41 seconds elapsed in epoch.\n",
      "Epoch: 15 \tTraining Loss: 2.3915 \tValidation Loss: 2.0992\n",
      "\t\tTraining Accuracy: 42.16%\t Validation Accuracy: 46.87%\n",
      "Epoch: 16\t100.00% complete. 709.33 seconds elapsed in epoch.\n",
      "Epoch: 16 \tTraining Loss: 2.3841 \tValidation Loss: 2.0744\n",
      "\t\tTraining Accuracy: 42.37%\t Validation Accuracy: 47.71%\n",
      "Epoch: 17\t100.00% complete. 709.56 seconds elapsed in epoch.\n",
      "Epoch: 17 \tTraining Loss: 2.3754 \tValidation Loss: 2.1224\n",
      "\t\tTraining Accuracy: 42.40%\t Validation Accuracy: 46.98%\n",
      "Epoch: 18\t100.00% complete. 709.67 seconds elapsed in epoch.\n",
      "Epoch: 18 \tTraining Loss: 2.3680 \tValidation Loss: 2.1162\n",
      "\t\tTraining Accuracy: 42.47%\t Validation Accuracy: 47.18%\n",
      "Epoch: 19\t100.00% complete. 709.39 seconds elapsed in epoch.\n",
      "Epoch: 19 \tTraining Loss: 2.3514 \tValidation Loss: 2.0779\n",
      "\t\tTraining Accuracy: 42.67%\t Validation Accuracy: 47.84%\n",
      "\n",
      "Best epoch: 13 with loss: 2.07 and acc: 47.84%\n",
      "18677.17 total seconds elapsed. 933.86 seconds per epoch.\n"
>>>>>>> 4ba713ef2e6cdb14575a8c33a410ab03df9155fb
     ]
    }
   ],
   "source": [
    "model, history = train_model(\n",
    "    model,\n",
    "    criterion,\n",
    "    optimizer,\n",
    "    scheduler,\n",
    "    dataloaders['train'],\n",
    "    dataloaders['val'],\n",
    "    save_file_name=save_file_name,\n",
    "    checkpoint_file_name=checkpoint_file_name,\n",
    "    max_epochs_stop=10,\n",
    "    n_epochs=20,\n",
    "    print_every=1\n",
    "    )"
   ]
  },
  {
   "cell_type": "code",
   "execution_count": 14,
   "metadata": {},
   "outputs": [
    {
     "data": {
      "text/plain": [
<<<<<<< HEAD
       "[<matplotlib.lines.Line2D at 0x1b58232e388>]"
=======
       "[<matplotlib.lines.Line2D at 0x15f01f967b8>]"
>>>>>>> 4ba713ef2e6cdb14575a8c33a410ab03df9155fb
      ]
     },
     "execution_count": 14,
     "metadata": {},
     "output_type": "execute_result"
    },
    {
     "data": {
      "text/plain": [
<<<<<<< HEAD
       "[<matplotlib.lines.Line2D at 0x1b5d3be6fc8>]"
=======
       "[<matplotlib.lines.Line2D at 0x15f01f96d68>]"
>>>>>>> 4ba713ef2e6cdb14575a8c33a410ab03df9155fb
      ]
     },
     "execution_count": 14,
     "metadata": {},
     "output_type": "execute_result"
    },
    {
     "data": {
      "text/plain": [
       "Text(0.5, 1.0, 'model accuracy')"
      ]
     },
     "execution_count": 14,
     "metadata": {},
     "output_type": "execute_result"
    },
    {
     "data": {
      "text/plain": [
       "Text(0, 0.5, 'accuracy')"
      ]
     },
     "execution_count": 14,
     "metadata": {},
     "output_type": "execute_result"
    },
    {
     "data": {
      "text/plain": [
       "Text(0.5, 0, 'epoch')"
      ]
     },
     "execution_count": 14,
     "metadata": {},
     "output_type": "execute_result"
    },
    {
     "data": {
      "text/plain": [
<<<<<<< HEAD
       "<matplotlib.legend.Legend at 0x1b5d3c077c8>"
=======
       "<matplotlib.legend.Legend at 0x15f01f96f28>"
>>>>>>> 4ba713ef2e6cdb14575a8c33a410ab03df9155fb
      ]
     },
     "execution_count": 14,
     "metadata": {},
     "output_type": "execute_result"
    },
    {
     "data": {
<<<<<<< HEAD
      "image/png": "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\n",
=======
      "image/png": "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\n",
>>>>>>> 4ba713ef2e6cdb14575a8c33a410ab03df9155fb
      "text/plain": [
       "<Figure size 432x288 with 1 Axes>"
      ]
     },
     "metadata": {
      "needs_background": "light"
     },
     "output_type": "display_data"
    },
    {
     "data": {
      "text/plain": [
<<<<<<< HEAD
       "[<matplotlib.lines.Line2D at 0x1b5c4de24c8>]"
=======
       "[<matplotlib.lines.Line2D at 0x15f105ddbe0>]"
>>>>>>> 4ba713ef2e6cdb14575a8c33a410ab03df9155fb
      ]
     },
     "execution_count": 14,
     "metadata": {},
     "output_type": "execute_result"
    },
    {
     "data": {
      "text/plain": [
<<<<<<< HEAD
       "[<matplotlib.lines.Line2D at 0x1b5c4e22a48>]"
=======
       "[<matplotlib.lines.Line2D at 0x15f105e00b8>]"
>>>>>>> 4ba713ef2e6cdb14575a8c33a410ab03df9155fb
      ]
     },
     "execution_count": 14,
     "metadata": {},
     "output_type": "execute_result"
    },
    {
     "data": {
      "text/plain": [
       "Text(0.5, 1.0, 'model loss')"
      ]
     },
     "execution_count": 14,
     "metadata": {},
     "output_type": "execute_result"
    },
    {
     "data": {
      "text/plain": [
       "Text(0, 0.5, 'loss')"
      ]
     },
     "execution_count": 14,
     "metadata": {},
     "output_type": "execute_result"
    },
    {
     "data": {
      "text/plain": [
       "Text(0.5, 0, 'epoch')"
      ]
     },
     "execution_count": 14,
     "metadata": {},
     "output_type": "execute_result"
    },
    {
     "data": {
      "text/plain": [
<<<<<<< HEAD
       "<matplotlib.legend.Legend at 0x1b580135608>"
=======
       "<matplotlib.legend.Legend at 0x15f105e05c0>"
>>>>>>> 4ba713ef2e6cdb14575a8c33a410ab03df9155fb
      ]
     },
     "execution_count": 14,
     "metadata": {},
     "output_type": "execute_result"
    },
    {
     "data": {
<<<<<<< HEAD
      "image/png": "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\n",
=======
      "image/png": "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\n",
>>>>>>> 4ba713ef2e6cdb14575a8c33a410ab03df9155fb
      "text/plain": [
       "<Figure size 432x288 with 1 Axes>"
      ]
     },
     "metadata": {
      "needs_background": "light"
     },
     "output_type": "display_data"
    }
   ],
   "source": [
    "\n",
    "# summarize history for accuracy\n",
    "plt.plot(history['train_acc'])\n",
    "plt.plot(history['valid_acc'])\n",
    "plt.title('model accuracy')\n",
    "plt.ylabel('accuracy')\n",
    "plt.xlabel('epoch')\n",
    "plt.legend(['train', 'test'], loc='upper left')\n",
    "plt.show()\n",
    "# summarize history for loss\n",
    "plt.plot(history['train_loss'])\n",
    "plt.plot(history['valid_loss'])\n",
    "plt.title('model loss')\n",
    "plt.ylabel('loss')\n",
    "plt.xlabel('epoch')\n",
    "plt.legend(['train', 'test'], loc='upper left')\n",
    "plt.show()"
   ]
  },
  {
   "cell_type": "code",
   "execution_count": 15,
   "metadata": {},
   "outputs": [],
   "source": [
    "# unfreeze all layers of network\n",
    "for param in model.parameters():\n",
    "    param.required_grad = False\n",
    "    \n",
    "# we will be using negative log likelihood as the loss function\n",
    "criterion = nn.CrossEntropyLoss()\n",
    "# we will be using the SGD optimizer as our optimizer, update parameters to include entire network\n",
    "optimizer = optim.SGD(model.parameters(), lr=0.01, momentum=0.9)\n",
    "\n",
    "# secify learning rate scheduler (if there is no further decrease in loss for next 5 epochs \n",
    "# then lower the learning rate by 0.1)\n",
    "scheduler = torch.optim.lr_scheduler.ReduceLROnPlateau(optimizer, 'min', patience = 5)\n"
   ]
  },
  {
   "cell_type": "code",
   "execution_count": 16,
<<<<<<< HEAD
   "metadata": {},
=======
   "metadata": {
    "scrolled": false
   },
>>>>>>> 4ba713ef2e6cdb14575a8c33a410ab03df9155fb
   "outputs": [
    {
     "name": "stdout",
     "output_type": "stream",
     "text": [
      "Model has been trained for: 20 epochs.\n",
      "\n",
<<<<<<< HEAD
      "Epoch: 0\t100.00% complete. 456.05 seconds elapsed in epoch.\n",
      "Epoch: 0 \tTraining Loss: 2.4321 \tValidation Loss: 2.2703\n",
      "\t\tTraining Accuracy: 41.03%\t Validation Accuracy: 43.96%\n",
      "Epoch: 1\t100.00% complete. 446.77 seconds elapsed in epoch.\n",
      "Epoch: 1 \tTraining Loss: 2.4248 \tValidation Loss: 2.2669\n",
      "\t\tTraining Accuracy: 41.29%\t Validation Accuracy: 43.94%\n",
      "Epoch: 2\t100.00% complete. 447.28 seconds elapsed in epoch.\n",
      "Epoch: 2 \tTraining Loss: 2.4092 \tValidation Loss: 2.2013\n",
      "\t\tTraining Accuracy: 41.62%\t Validation Accuracy: 44.67%\n",
      "Epoch: 3\t100.00% complete. 448.72 seconds elapsed in epoch.\n",
      "Epoch: 3 \tTraining Loss: 2.4070 \tValidation Loss: 2.2463\n",
      "\t\tTraining Accuracy: 41.69%\t Validation Accuracy: 43.54%\n",
      "Epoch: 4\t100.00% complete. 457.27 seconds elapsed in epoch.\n",
      "Epoch: 4 \tTraining Loss: 2.4143 \tValidation Loss: 2.2211\n",
      "\t\tTraining Accuracy: 41.57%\t Validation Accuracy: 44.71%\n",
      "Epoch: 5\t100.00% complete. 448.53 seconds elapsed in epoch.\n",
      "Epoch: 5 \tTraining Loss: 2.4057 \tValidation Loss: 2.2290\n",
      "\t\tTraining Accuracy: 41.37%\t Validation Accuracy: 45.23%\n",
      "Epoch: 6\t100.00% complete. 450.07 seconds elapsed in epoch.\n",
      "Epoch: 6 \tTraining Loss: 2.3749 \tValidation Loss: 2.1522\n",
      "\t\tTraining Accuracy: 42.23%\t Validation Accuracy: 46.21%\n",
      "Epoch: 7\t100.00% complete. 449.07 seconds elapsed in epoch.\n",
      "Epoch: 7 \tTraining Loss: 2.3964 \tValidation Loss: 2.2340\n",
      "\t\tTraining Accuracy: 42.04%\t Validation Accuracy: 44.41%\n",
      "Epoch: 8\t100.00% complete. 448.55 seconds elapsed in epoch.\n",
      "Epoch: 8 \tTraining Loss: 2.3858 \tValidation Loss: 2.2143\n",
      "\t\tTraining Accuracy: 42.38%\t Validation Accuracy: 44.75%\n",
      "Epoch: 9\t100.00% complete. 449.04 seconds elapsed in epoch.\n",
      "Epoch: 9 \tTraining Loss: 2.3756 \tValidation Loss: 2.2089\n",
      "\t\tTraining Accuracy: 42.40%\t Validation Accuracy: 45.09%\n",
      "Epoch: 10\t100.00% complete. 451.06 seconds elapsed in epoch.\n",
      "Epoch: 10 \tTraining Loss: 2.3789 \tValidation Loss: 2.2273\n",
      "\t\tTraining Accuracy: 42.04%\t Validation Accuracy: 44.60%\n",
      "Epoch: 11\t100.00% complete. 449.36 seconds elapsed in epoch.\n",
      "Epoch: 11 \tTraining Loss: 2.3768 \tValidation Loss: 2.1800\n",
      "\t\tTraining Accuracy: 42.12%\t Validation Accuracy: 45.38%\n",
      "Epoch: 12\t100.00% complete. 449.62 seconds elapsed in epoch.\n",
      "Epoch: 12 \tTraining Loss: 2.3652 \tValidation Loss: 2.2088\n",
      "\t\tTraining Accuracy: 42.86%\t Validation Accuracy: 45.37%\n",
      "Epoch: 13\t100.00% complete. 449.49 seconds elapsed in epoch.\n",
      "Epoch: 13 \tTraining Loss: 2.1970 \tValidation Loss: 2.0076\n",
      "\t\tTraining Accuracy: 46.44%\t Validation Accuracy: 49.56%\n",
      "Epoch: 14\t100.00% complete. 449.30 seconds elapsed in epoch.\n",
      "Epoch: 14 \tTraining Loss: 2.1495 \tValidation Loss: 2.0159\n",
      "\t\tTraining Accuracy: 47.12%\t Validation Accuracy: 49.33%\n",
      "Epoch: 15\t100.00% complete. 448.59 seconds elapsed in epoch.\n",
      "Epoch: 15 \tTraining Loss: 2.1316 \tValidation Loss: 1.9912\n",
      "\t\tTraining Accuracy: 47.63%\t Validation Accuracy: 50.30%\n",
      "Epoch: 16\t100.00% complete. 449.80 seconds elapsed in epoch.\n",
      "Epoch: 16 \tTraining Loss: 2.1334 \tValidation Loss: 1.9805\n",
      "\t\tTraining Accuracy: 47.80%\t Validation Accuracy: 50.15%\n",
      "Epoch: 17\t100.00% complete. 448.90 seconds elapsed in epoch.\n",
      "Epoch: 17 \tTraining Loss: 2.1231 \tValidation Loss: 1.9899\n",
      "\t\tTraining Accuracy: 48.05%\t Validation Accuracy: 50.07%\n",
      "Epoch: 18\t100.00% complete. 749.30 seconds elapsed in epoch.\n",
      "Epoch: 18 \tTraining Loss: 2.1143 \tValidation Loss: 2.0129\n",
      "\t\tTraining Accuracy: 48.02%\t Validation Accuracy: 49.37%\n",
      "Epoch: 19\t100.00% complete. 954.36 seconds elapsed in epoch.\n",
      "Epoch: 19 \tTraining Loss: 2.1027 \tValidation Loss: 1.9771\n",
      "\t\tTraining Accuracy: 48.05%\t Validation Accuracy: 49.98%\n",
      "Epoch: 20\t100.00% complete. 946.75 seconds elapsed in epoch.\n",
      "Epoch: 20 \tTraining Loss: 2.0980 \tValidation Loss: 1.9670\n",
      "\t\tTraining Accuracy: 48.43%\t Validation Accuracy: 50.63%\n",
      "Epoch: 21\t100.00% complete. 947.01 seconds elapsed in epoch.\n",
      "Epoch: 21 \tTraining Loss: 2.1065 \tValidation Loss: 1.9822\n",
      "\t\tTraining Accuracy: 48.24%\t Validation Accuracy: 50.45%\n",
      "Epoch: 22\t100.00% complete. 947.10 seconds elapsed in epoch.\n",
      "Epoch: 22 \tTraining Loss: 2.0902 \tValidation Loss: 1.9633\n",
      "\t\tTraining Accuracy: 48.32%\t Validation Accuracy: 50.66%\n",
      "Epoch: 23\t100.00% complete. 947.55 seconds elapsed in epoch.\n",
      "Epoch: 23 \tTraining Loss: 2.0939 \tValidation Loss: 1.9773\n",
      "\t\tTraining Accuracy: 48.55%\t Validation Accuracy: 50.21%\n",
      "Epoch: 24\t100.00% complete. 947.42 seconds elapsed in epoch.\n",
      "Epoch: 24 \tTraining Loss: 2.0910 \tValidation Loss: 1.9905\n",
      "\t\tTraining Accuracy: 48.42%\t Validation Accuracy: 50.01%\n",
      "Epoch: 25\t100.00% complete. 947.11 seconds elapsed in epoch.\n",
      "Epoch: 25 \tTraining Loss: 2.0948 \tValidation Loss: 1.9775\n",
      "\t\tTraining Accuracy: 48.38%\t Validation Accuracy: 50.25%\n",
      "Epoch: 26\t100.00% complete. 947.42 seconds elapsed in epoch.\n",
      "Epoch: 26 \tTraining Loss: 2.0857 \tValidation Loss: 1.9773\n",
      "\t\tTraining Accuracy: 48.75%\t Validation Accuracy: 50.67%\n",
      "Epoch: 27\t100.00% complete. 947.07 seconds elapsed in epoch.\n",
      "Epoch: 27 \tTraining Loss: 2.0847 \tValidation Loss: 1.9811\n",
      "\t\tTraining Accuracy: 48.68%\t Validation Accuracy: 50.12%\n",
      "Epoch: 28\t100.00% complete. 947.79 seconds elapsed in epoch.\n",
      "Epoch: 28 \tTraining Loss: 2.0963 \tValidation Loss: 1.9916\n",
      "\t\tTraining Accuracy: 48.25%\t Validation Accuracy: 50.14%\n",
      "Epoch: 29\t100.00% complete. 949.15 seconds elapsed in epoch.\n",
      "Epoch: 29 \tTraining Loss: 2.0546 \tValidation Loss: 1.9810\n",
      "\t\tTraining Accuracy: 49.38%\t Validation Accuracy: 50.39%\n",
      "Epoch: 30\t100.00% complete. 961.31 seconds elapsed in epoch.\n",
      "Epoch: 30 \tTraining Loss: 2.0630 \tValidation Loss: 1.9638\n",
      "\t\tTraining Accuracy: 49.24%\t Validation Accuracy: 50.40%\n",
      "Epoch: 31\t100.00% complete. 951.82 seconds elapsed in epoch.\n",
      "Epoch: 31 \tTraining Loss: 2.0624 \tValidation Loss: 1.9615\n",
      "\t\tTraining Accuracy: 49.49%\t Validation Accuracy: 50.71%\n",
      "Epoch: 32\t100.00% complete. 956.03 seconds elapsed in epoch.\n",
      "Epoch: 32 \tTraining Loss: 2.0650 \tValidation Loss: 1.9760\n",
      "\t\tTraining Accuracy: 49.27%\t Validation Accuracy: 50.19%\n",
      "Epoch: 33\t100.00% complete. 954.97 seconds elapsed in epoch.\n",
      "Epoch: 33 \tTraining Loss: 2.0551 \tValidation Loss: 1.9601\n",
      "\t\tTraining Accuracy: 49.45%\t Validation Accuracy: 50.42%\n",
      "Epoch: 34\t100.00% complete. 960.71 seconds elapsed in epoch.\n",
      "Epoch: 34 \tTraining Loss: 2.0621 \tValidation Loss: 1.9484\n",
      "\t\tTraining Accuracy: 49.32%\t Validation Accuracy: 50.81%\n",
      "Epoch: 35\t100.00% complete. 953.47 seconds elapsed in epoch.\n",
      "Epoch: 35 \tTraining Loss: 2.0578 \tValidation Loss: 1.9620\n",
      "\t\tTraining Accuracy: 49.25%\t Validation Accuracy: 50.84%\n",
      "Epoch: 36\t100.00% complete. 955.29 seconds elapsed in epoch.\n",
      "Epoch: 36 \tTraining Loss: 2.0597 \tValidation Loss: 1.9530\n",
      "\t\tTraining Accuracy: 49.23%\t Validation Accuracy: 50.62%\n",
      "Epoch: 37\t100.00% complete. 955.35 seconds elapsed in epoch.\n",
      "Epoch: 37 \tTraining Loss: 2.0585 \tValidation Loss: 1.9732\n",
      "\t\tTraining Accuracy: 49.46%\t Validation Accuracy: 50.54%\n",
      "Epoch: 38\t100.00% complete. 958.07 seconds elapsed in epoch.\n",
      "Epoch: 38 \tTraining Loss: 2.0536 \tValidation Loss: 1.9651\n",
      "\t\tTraining Accuracy: 49.44%\t Validation Accuracy: 50.73%\n",
      "Epoch: 39\t100.00% complete. 952.97 seconds elapsed in epoch.\n",
      "Epoch: 39 \tTraining Loss: 2.0574 \tValidation Loss: 1.9423\n",
      "\t\tTraining Accuracy: 49.45%\t Validation Accuracy: 50.81%\n",
      "Epoch: 40\t100.00% complete. 952.48 seconds elapsed in epoch.\n",
      "Epoch: 40 \tTraining Loss: 2.0501 \tValidation Loss: 1.9533\n",
      "\t\tTraining Accuracy: 49.38%\t Validation Accuracy: 51.00%\n",
      "Epoch: 41\t100.00% complete. 949.09 seconds elapsed in epoch.\n",
      "Epoch: 41 \tTraining Loss: 2.0497 \tValidation Loss: 1.9867\n",
      "\t\tTraining Accuracy: 49.54%\t Validation Accuracy: 50.54%\n",
      "Epoch: 42\t100.00% complete. 700.19 seconds elapsed in epoch.\n",
      "Epoch: 42 \tTraining Loss: 2.0546 \tValidation Loss: 1.9901\n",
      "\t\tTraining Accuracy: 49.66%\t Validation Accuracy: 50.02%\n",
      "Epoch: 43\t100.00% complete. 448.69 seconds elapsed in epoch.\n",
      "Epoch: 43 \tTraining Loss: 2.0475 \tValidation Loss: 1.9684\n",
      "\t\tTraining Accuracy: 49.50%\t Validation Accuracy: 50.24%\n",
      "Epoch: 44\t100.00% complete. 448.76 seconds elapsed in epoch.\n",
      "Epoch: 44 \tTraining Loss: 2.0571 \tValidation Loss: 1.9682\n",
      "\t\tTraining Accuracy: 49.04%\t Validation Accuracy: 50.32%\n",
      "Epoch: 45\t100.00% complete. 450.54 seconds elapsed in epoch.\n",
      "Epoch: 45 \tTraining Loss: 2.0600 \tValidation Loss: 1.9696\n",
      "\t\tTraining Accuracy: 49.23%\t Validation Accuracy: 51.13%\n",
      "Epoch: 46\t100.00% complete. 452.27 seconds elapsed in epoch.\n"
     ]
    },
    {
     "name": "stdout",
     "output_type": "stream",
     "text": [
      "Epoch: 46 \tTraining Loss: 2.0434 \tValidation Loss: 1.9789\n",
      "\t\tTraining Accuracy: 49.60%\t Validation Accuracy: 50.38%\n",
      "Epoch: 47\t100.00% complete. 449.63 seconds elapsed in epoch.\n",
      "Epoch: 47 \tTraining Loss: 2.0440 \tValidation Loss: 1.9528\n",
      "\t\tTraining Accuracy: 49.46%\t Validation Accuracy: 50.89%\n",
      "Epoch: 48\t100.00% complete. 450.00 seconds elapsed in epoch.\n",
      "Epoch: 48 \tTraining Loss: 2.0599 \tValidation Loss: 1.9843\n",
      "\t\tTraining Accuracy: 49.24%\t Validation Accuracy: 50.22%\n",
      "Epoch: 49\t100.00% complete. 958.21 seconds elapsed in epoch.\n",
      "Epoch: 49 \tTraining Loss: 2.0402 \tValidation Loss: 1.9515\n",
      "\t\tTraining Accuracy: 49.91%\t Validation Accuracy: 50.72%\n",
      "\n",
      "Early Stopping! Total epochs: 49. Best epoch: 39 with loss: 1.94 and acc: 50.72%\n",
      "44681.06 total seconds elapsed. 893.62 seconds per epoch.\n"
=======
      "Epoch: 0\t100.00% complete. 710.69 seconds elapsed in epoch.\n",
      "Epoch: 0 \tTraining Loss: 2.3517 \tValidation Loss: 2.0705\n",
      "\t\tTraining Accuracy: 42.86%\t Validation Accuracy: 47.96%\n",
      "Epoch: 1\t100.00% complete. 711.35 seconds elapsed in epoch.\n",
      "Epoch: 1 \tTraining Loss: 2.3446 \tValidation Loss: 2.0143\n",
      "\t\tTraining Accuracy: 42.86%\t Validation Accuracy: 49.35%\n",
      "Epoch: 2\t100.00% complete. 710.92 seconds elapsed in epoch.\n",
      "Epoch: 2 \tTraining Loss: 2.3430 \tValidation Loss: 1.9931\n",
      "\t\tTraining Accuracy: 43.31%\t Validation Accuracy: 49.69%\n",
      "Epoch: 3\t100.00% complete. 710.98 seconds elapsed in epoch.\n",
      "Epoch: 3 \tTraining Loss: 2.3430 \tValidation Loss: 2.0065\n",
      "\t\tTraining Accuracy: 43.24%\t Validation Accuracy: 49.24%\n",
      "Epoch: 4\t100.00% complete. 711.91 seconds elapsed in epoch.\n",
      "Epoch: 4 \tTraining Loss: 2.3380 \tValidation Loss: 2.0279\n",
      "\t\tTraining Accuracy: 43.12%\t Validation Accuracy: 48.70%\n",
      "Epoch: 5\t100.00% complete. 712.26 seconds elapsed in epoch.\n",
      "Epoch: 5 \tTraining Loss: 2.3252 \tValidation Loss: 1.9740\n",
      "\t\tTraining Accuracy: 43.40%\t Validation Accuracy: 50.35%\n",
      "Epoch: 6\t100.00% complete. 714.04 seconds elapsed in epoch.\n",
      "Epoch: 6 \tTraining Loss: 2.3199 \tValidation Loss: 2.0435\n",
      "\t\tTraining Accuracy: 43.84%\t Validation Accuracy: 48.44%\n",
      "Epoch: 7\t100.00% complete. 714.51 seconds elapsed in epoch.\n",
      "Epoch: 7 \tTraining Loss: 2.3343 \tValidation Loss: 2.0645\n",
      "\t\tTraining Accuracy: 43.28%\t Validation Accuracy: 48.30%\n",
      "Epoch: 8\t100.00% complete. 714.86 seconds elapsed in epoch.\n",
      "Epoch: 8 \tTraining Loss: 2.3149 \tValidation Loss: 2.0380\n",
      "\t\tTraining Accuracy: 43.64%\t Validation Accuracy: 48.63%\n",
      "Epoch: 9\t100.00% complete. 714.28 seconds elapsed in epoch.\n",
      "Epoch: 9 \tTraining Loss: 2.3163 \tValidation Loss: 2.0591\n",
      "\t\tTraining Accuracy: 43.81%\t Validation Accuracy: 48.25%\n",
      "Epoch: 10\t100.00% complete. 713.21 seconds elapsed in epoch.\n",
      "Epoch: 10 \tTraining Loss: 2.3000 \tValidation Loss: 2.0468\n",
      "\t\tTraining Accuracy: 44.10%\t Validation Accuracy: 48.53%\n",
      "Epoch: 11\t100.00% complete. 745.25 seconds elapsed in epoch.\n",
      "Epoch: 11 \tTraining Loss: 2.3021 \tValidation Loss: 1.9886\n",
      "\t\tTraining Accuracy: 43.93%\t Validation Accuracy: 49.87%\n",
      "Epoch: 12\t100.00% complete. 734.99 seconds elapsed in epoch.\n",
      "Epoch: 12 \tTraining Loss: 2.1257 \tValidation Loss: 1.8634\n",
      "\t\tTraining Accuracy: 47.97%\t Validation Accuracy: 52.65%\n",
      "Epoch: 13\t100.00% complete. 720.60 seconds elapsed in epoch.\n",
      "Epoch: 13 \tTraining Loss: 2.0797 \tValidation Loss: 1.8458\n",
      "\t\tTraining Accuracy: 48.99%\t Validation Accuracy: 53.37%\n",
      "Epoch: 14\t100.00% complete. 722.19 seconds elapsed in epoch.\n",
      "Epoch: 14 \tTraining Loss: 2.0708 \tValidation Loss: 1.8356\n",
      "\t\tTraining Accuracy: 49.08%\t Validation Accuracy: 53.25%\n",
      "Epoch: 15\t100.00% complete. 728.58 seconds elapsed in epoch.\n",
      "Epoch: 15 \tTraining Loss: 2.0540 \tValidation Loss: 1.8184\n",
      "\t\tTraining Accuracy: 49.42%\t Validation Accuracy: 54.04%\n",
      "Epoch: 16\t100.00% complete. 749.56 seconds elapsed in epoch.\n",
      "Epoch: 16 \tTraining Loss: 2.0536 \tValidation Loss: 1.8241\n",
      "\t\tTraining Accuracy: 49.46%\t Validation Accuracy: 53.35%\n",
      "Epoch: 17\t100.00% complete. 782.58 seconds elapsed in epoch.\n",
      "Epoch: 17 \tTraining Loss: 2.0442 \tValidation Loss: 1.8390\n",
      "\t\tTraining Accuracy: 49.68%\t Validation Accuracy: 53.08%\n",
      "Epoch: 18\t100.00% complete. 744.07 seconds elapsed in epoch.\n",
      "Epoch: 18 \tTraining Loss: 2.0414 \tValidation Loss: 1.8409\n",
      "\t\tTraining Accuracy: 49.80%\t Validation Accuracy: 53.47%\n",
      "Epoch: 19\t100.00% complete. 750.92 seconds elapsed in epoch.\n",
      "Epoch: 19 \tTraining Loss: 2.0515 \tValidation Loss: 1.8070\n",
      "\t\tTraining Accuracy: 49.80%\t Validation Accuracy: 54.16%\n",
      "Epoch: 20\t100.00% complete. 743.93 seconds elapsed in epoch.\n",
      "Epoch: 20 \tTraining Loss: 2.0422 \tValidation Loss: 1.8158\n",
      "\t\tTraining Accuracy: 49.71%\t Validation Accuracy: 54.06%\n",
      "Epoch: 21\t100.00% complete. 744.09 seconds elapsed in epoch.\n",
      "Epoch: 21 \tTraining Loss: 2.0409 \tValidation Loss: 1.8374\n",
      "\t\tTraining Accuracy: 49.95%\t Validation Accuracy: 53.70%\n",
      "Epoch: 22\t100.00% complete. 743.47 seconds elapsed in epoch.\n",
      "Epoch: 22 \tTraining Loss: 2.0344 \tValidation Loss: 1.8341\n",
      "\t\tTraining Accuracy: 49.88%\t Validation Accuracy: 53.60%\n",
      "Epoch: 23\t100.00% complete. 729.15 seconds elapsed in epoch.\n",
      "Epoch: 23 \tTraining Loss: 2.0336 \tValidation Loss: 1.8284\n",
      "\t\tTraining Accuracy: 49.85%\t Validation Accuracy: 53.84%\n",
      "Epoch: 24\t100.00% complete. 729.94 seconds elapsed in epoch.\n",
      "Epoch: 24 \tTraining Loss: 2.0355 \tValidation Loss: 1.8245\n",
      "\t\tTraining Accuracy: 49.90%\t Validation Accuracy: 53.76%\n",
      "Epoch: 25\t100.00% complete. 729.43 seconds elapsed in epoch.\n",
      "Epoch: 25 \tTraining Loss: 2.0358 \tValidation Loss: 1.8375\n",
      "\t\tTraining Accuracy: 49.94%\t Validation Accuracy: 53.61%\n",
      "Epoch: 26\t100.00% complete. 744.51 seconds elapsed in epoch.\n",
      "Epoch: 26 \tTraining Loss: 2.0070 \tValidation Loss: 1.8111\n",
      "\t\tTraining Accuracy: 50.68%\t Validation Accuracy: 54.16%\n",
      "Epoch: 27\t100.00% complete. 752.07 seconds elapsed in epoch.\n",
      "Epoch: 27 \tTraining Loss: 2.0083 \tValidation Loss: 1.8239\n",
      "\t\tTraining Accuracy: 50.55%\t Validation Accuracy: 53.71%\n",
      "Epoch: 28\t100.00% complete. 752.57 seconds elapsed in epoch.\n",
      "Epoch: 28 \tTraining Loss: 2.0098 \tValidation Loss: 1.8066\n",
      "\t\tTraining Accuracy: 50.63%\t Validation Accuracy: 54.21%\n",
      "Epoch: 29\t100.00% complete. 751.12 seconds elapsed in epoch.\n",
      "Epoch: 29 \tTraining Loss: 2.0024 \tValidation Loss: 1.8181\n",
      "\t\tTraining Accuracy: 50.72%\t Validation Accuracy: 54.28%\n",
      "Epoch: 30\t100.00% complete. 759.22 seconds elapsed in epoch.\n",
      "Epoch: 30 \tTraining Loss: 2.0099 \tValidation Loss: 1.8058\n",
      "\t\tTraining Accuracy: 50.71%\t Validation Accuracy: 54.47%\n",
      "Epoch: 31\t100.00% complete. 733.43 seconds elapsed in epoch.\n",
      "Epoch: 31 \tTraining Loss: 2.0043 \tValidation Loss: 1.8014\n",
      "\t\tTraining Accuracy: 50.68%\t Validation Accuracy: 54.19%\n",
      "Epoch: 32\t100.00% complete. 748.52 seconds elapsed in epoch.\n",
      "Epoch: 32 \tTraining Loss: 2.0037 \tValidation Loss: 1.7785\n",
      "\t\tTraining Accuracy: 50.47%\t Validation Accuracy: 54.92%\n",
      "Epoch: 33\t100.00% complete. 751.60 seconds elapsed in epoch.\n",
      "Epoch: 33 \tTraining Loss: 2.0096 \tValidation Loss: 1.7907\n",
      "\t\tTraining Accuracy: 50.68%\t Validation Accuracy: 54.76%\n",
      "Epoch: 34\t100.00% complete. 752.85 seconds elapsed in epoch.\n",
      "Epoch: 34 \tTraining Loss: 2.0011 \tValidation Loss: 1.7827\n",
      "\t\tTraining Accuracy: 50.76%\t Validation Accuracy: 54.74%\n",
      "Epoch: 35\t100.00% complete. 747.80 seconds elapsed in epoch.\n",
      "Epoch: 35 \tTraining Loss: 2.0116 \tValidation Loss: 1.8002\n",
      "\t\tTraining Accuracy: 50.53%\t Validation Accuracy: 54.30%\n",
      "Epoch: 36\t100.00% complete. 725.39 seconds elapsed in epoch.\n",
      "Epoch: 36 \tTraining Loss: 2.0088 \tValidation Loss: 1.7938\n",
      "\t\tTraining Accuracy: 50.47%\t Validation Accuracy: 54.34%\n",
      "Epoch: 37\t100.00% complete. 730.67 seconds elapsed in epoch.\n",
      "Epoch: 37 \tTraining Loss: 2.0010 \tValidation Loss: 1.7945\n",
      "\t\tTraining Accuracy: 50.86%\t Validation Accuracy: 54.42%\n",
      "Epoch: 38\t100.00% complete. 750.16 seconds elapsed in epoch.\n",
      "Epoch: 38 \tTraining Loss: 2.0016 \tValidation Loss: 1.7948\n",
      "\t\tTraining Accuracy: 50.64%\t Validation Accuracy: 54.72%\n",
      "Epoch: 39\t100.00% complete. 748.81 seconds elapsed in epoch.\n",
      "Epoch: 39 \tTraining Loss: 2.0020 \tValidation Loss: 1.8024\n",
      "\t\tTraining Accuracy: 50.71%\t Validation Accuracy: 54.46%\n",
      "Epoch: 40\t100.00% complete. 752.31 seconds elapsed in epoch.\n",
      "Epoch: 40 \tTraining Loss: 1.9934 \tValidation Loss: 1.8116\n",
      "\t\tTraining Accuracy: 51.01%\t Validation Accuracy: 54.33%\n",
      "Epoch: 41\t100.00% complete. 745.99 seconds elapsed in epoch.\n",
      "Epoch: 41 \tTraining Loss: 2.0065 \tValidation Loss: 1.7873\n",
      "\t\tTraining Accuracy: 50.60%\t Validation Accuracy: 54.70%\n",
      "Epoch: 42\t100.00% complete. 732.19 seconds elapsed in epoch.\n",
      "Epoch: 42 \tTraining Loss: 2.0056 \tValidation Loss: 1.8043\n",
      "\t\tTraining Accuracy: 50.39%\t Validation Accuracy: 53.98%\n",
      "\n",
      "Early Stopping! Total epochs: 42. Best epoch: 32 with loss: 1.78 and acc: 53.98%\n",
      "41488.53 total seconds elapsed. 964.85 seconds per epoch.\n"
>>>>>>> 4ba713ef2e6cdb14575a8c33a410ab03df9155fb
     ]
    }
   ],
   "source": [
    "model, history = train_model(\n",
    "    model,\n",
    "    criterion,\n",
    "    optimizer,\n",
    "    scheduler,\n",
    "    dataloaders['train'],\n",
    "    dataloaders['val'],\n",
    "    save_file_name=save_file_name,\n",
    "    checkpoint_file_name=checkpoint_file_name,\n",
    "    max_epochs_stop=10,\n",
    "    n_epochs=150,\n",
    "    print_every=1\n",
    "    )"
   ]
  },
  {
   "cell_type": "code",
   "execution_count": 17,
   "metadata": {
    "scrolled": true
   },
   "outputs": [
    {
     "data": {
      "text/plain": [
<<<<<<< HEAD
       "[<matplotlib.lines.Line2D at 0x1b5d3c72d88>]"
=======
       "[<matplotlib.lines.Line2D at 0x15f108ea0f0>]"
>>>>>>> 4ba713ef2e6cdb14575a8c33a410ab03df9155fb
      ]
     },
     "execution_count": 17,
     "metadata": {},
     "output_type": "execute_result"
    },
    {
     "data": {
      "text/plain": [
<<<<<<< HEAD
       "[<matplotlib.lines.Line2D at 0x1b5d3c84d88>]"
=======
       "[<matplotlib.lines.Line2D at 0x15f108ea400>]"
>>>>>>> 4ba713ef2e6cdb14575a8c33a410ab03df9155fb
      ]
     },
     "execution_count": 17,
     "metadata": {},
     "output_type": "execute_result"
    },
    {
     "data": {
      "text/plain": [
       "Text(0.5, 1.0, 'model accuracy')"
      ]
     },
     "execution_count": 17,
     "metadata": {},
     "output_type": "execute_result"
    },
    {
     "data": {
      "text/plain": [
       "Text(0, 0.5, 'accuracy')"
      ]
     },
     "execution_count": 17,
     "metadata": {},
     "output_type": "execute_result"
    },
    {
     "data": {
      "text/plain": [
       "Text(0.5, 0, 'epoch')"
      ]
     },
     "execution_count": 17,
     "metadata": {},
     "output_type": "execute_result"
    },
    {
     "data": {
      "text/plain": [
<<<<<<< HEAD
       "<matplotlib.legend.Legend at 0x1b5d3c840c8>"
=======
       "<matplotlib.legend.Legend at 0x15f10b6d978>"
>>>>>>> 4ba713ef2e6cdb14575a8c33a410ab03df9155fb
      ]
     },
     "execution_count": 17,
     "metadata": {},
     "output_type": "execute_result"
    },
    {
     "data": {
<<<<<<< HEAD
      "image/png": "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\n",
=======
      "image/png": "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\n",
>>>>>>> 4ba713ef2e6cdb14575a8c33a410ab03df9155fb
      "text/plain": [
       "<Figure size 432x288 with 1 Axes>"
      ]
     },
     "metadata": {
      "needs_background": "light"
     },
     "output_type": "display_data"
    },
    {
     "data": {
      "text/plain": [
<<<<<<< HEAD
       "[<matplotlib.lines.Line2D at 0x1b5d3d34788>]"
=======
       "[<matplotlib.lines.Line2D at 0x15f109bf518>]"
>>>>>>> 4ba713ef2e6cdb14575a8c33a410ab03df9155fb
      ]
     },
     "execution_count": 17,
     "metadata": {},
     "output_type": "execute_result"
    },
    {
     "data": {
      "text/plain": [
<<<<<<< HEAD
       "[<matplotlib.lines.Line2D at 0x1b5d3d43b08>]"
=======
       "[<matplotlib.lines.Line2D at 0x15f109bf668>]"
>>>>>>> 4ba713ef2e6cdb14575a8c33a410ab03df9155fb
      ]
     },
     "execution_count": 17,
     "metadata": {},
     "output_type": "execute_result"
    },
    {
     "data": {
      "text/plain": [
       "Text(0.5, 1.0, 'model loss')"
      ]
     },
     "execution_count": 17,
     "metadata": {},
     "output_type": "execute_result"
    },
    {
     "data": {
      "text/plain": [
       "Text(0, 0.5, 'loss')"
      ]
     },
     "execution_count": 17,
     "metadata": {},
     "output_type": "execute_result"
    },
    {
     "data": {
      "text/plain": [
       "Text(0.5, 0, 'epoch')"
      ]
     },
     "execution_count": 17,
     "metadata": {},
     "output_type": "execute_result"
    },
    {
     "data": {
      "text/plain": [
<<<<<<< HEAD
       "<matplotlib.legend.Legend at 0x1b5d3d1e4c8>"
=======
       "<matplotlib.legend.Legend at 0x15f109bfb00>"
>>>>>>> 4ba713ef2e6cdb14575a8c33a410ab03df9155fb
      ]
     },
     "execution_count": 17,
     "metadata": {},
     "output_type": "execute_result"
    },
    {
     "data": {
<<<<<<< HEAD
      "image/png": "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\n",
=======
      "image/png": "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\n",
>>>>>>> 4ba713ef2e6cdb14575a8c33a410ab03df9155fb
      "text/plain": [
       "<Figure size 432x288 with 1 Axes>"
      ]
     },
     "metadata": {
      "needs_background": "light"
     },
     "output_type": "display_data"
    }
   ],
   "source": [
    "# summarize history for accuracy\n",
    "plt.plot(history['train_acc'])\n",
    "plt.plot(history['valid_acc'])\n",
    "plt.title('model accuracy')\n",
    "plt.ylabel('accuracy')\n",
    "plt.xlabel('epoch')\n",
    "plt.legend(['train', 'test'], loc='upper left')\n",
    "plt.show()\n",
    "# summarize history for loss\n",
    "plt.plot(history['train_loss'])\n",
    "plt.plot(history['valid_loss'])\n",
    "plt.title('model loss')\n",
    "plt.ylabel('loss')\n",
    "plt.xlabel('epoch')\n",
    "plt.legend(['train', 'test'], loc='upper left')\n",
    "plt.show()"
   ]
  },
  {
   "cell_type": "code",
<<<<<<< HEAD
   "execution_count": 19,
   "metadata": {},
   "outputs": [],
   "source": [
    "# Location of data\n",
    "datadir = '../data/'\n",
    "traindir = datadir + 'train/'\n",
    "validdir = datadir + 'valid/'\n",
    "testdir = datadir + 'test/'"
   ]
  },
  {
   "cell_type": "code",
   "execution_count": 20,
   "metadata": {},
   "outputs": [],
   "source": [
    "# Datasets from each folder\n",
    "data = {\n",
    "    'train':\n",
    "    datasets.ImageFolder(root=traindir, transform=image_transforms['train']),\n",
    "    'val':\n",
    "    datasets.ImageFolder(root=validdir, transform=image_transforms['val'])\n",
    "}\n",
    "\n",
    "# Dataloader iterators\n",
    "dataloaders = {\n",
    "    'train': DataLoader(data['train'], batch_size=batch_size, shuffle=True),\n",
    "    'val': DataLoader(data['val'], batch_size=batch_size, shuffle=True)\n",
    "}"
   ]
  },
  {
   "cell_type": "code",
   "execution_count": 21,
   "metadata": {},
   "outputs": [],
   "source": [
=======
   "execution_count": 28,
   "metadata": {},
   "outputs": [],
   "source": [
    "# unfreeze all layers of network\n",
    "for param in model.parameters():\n",
    "    param.required_grad = False\n",
    "    \n",
>>>>>>> 4ba713ef2e6cdb14575a8c33a410ab03df9155fb
    "# we will be using negative log likelihood as the loss function\n",
    "criterion = nn.CrossEntropyLoss()\n",
    "# we will be using the SGD optimizer as our optimizer, update parameters to include entire network\n",
    "optimizer = optim.SGD(model.parameters(), lr=0.01, momentum=0.9)\n",
    "\n",
    "# secify learning rate scheduler (if there is no further decrease in loss for next 5 epochs \n",
    "# then lower the learning rate by 0.1)\n",
    "scheduler = torch.optim.lr_scheduler.ReduceLROnPlateau(optimizer, 'min', patience = 5)\n"
   ]
  },
  {
   "cell_type": "code",
<<<<<<< HEAD
   "execution_count": 23,
=======
   "execution_count": null,
>>>>>>> 4ba713ef2e6cdb14575a8c33a410ab03df9155fb
   "metadata": {},
   "outputs": [
    {
     "name": "stdout",
     "output_type": "stream",
     "text": [
<<<<<<< HEAD
      "Model has been trained for: 70 epochs.\n",
      "\n",
      "Epoch: 0\t100.00% complete. 1274.52 seconds elapsed in epoch.\n",
      "Epoch: 0 \tTraining Loss: 2.3997 \tValidation Loss: 2.1219\n",
      "\t\tTraining Accuracy: 41.99%\t Validation Accuracy: 46.86%\n",
      "Epoch: 1\t100.00% complete. 862.85 seconds elapsed in epoch.\n",
      "Epoch: 1 \tTraining Loss: 2.4024 \tValidation Loss: 2.2294\n",
      "\t\tTraining Accuracy: 41.71%\t Validation Accuracy: 44.36%\n",
      "Epoch: 2\t100.00% complete. 847.48 seconds elapsed in epoch.\n",
      "Epoch: 2 \tTraining Loss: 2.3958 \tValidation Loss: 2.1345\n",
      "\t\tTraining Accuracy: 42.05%\t Validation Accuracy: 46.78%\n",
      "Epoch: 3\t100.00% complete. 848.04 seconds elapsed in epoch.\n",
      "Epoch: 3 \tTraining Loss: 2.3801 \tValidation Loss: 2.2175\n",
      "\t\tTraining Accuracy: 42.37%\t Validation Accuracy: 44.74%\n",
      "Epoch: 4\t100.00% complete. 849.60 seconds elapsed in epoch.\n",
      "Epoch: 4 \tTraining Loss: 2.3767 \tValidation Loss: 2.1041\n",
      "\t\tTraining Accuracy: 42.66%\t Validation Accuracy: 47.41%\n",
      "Epoch: 5\t100.00% complete. 849.20 seconds elapsed in epoch.\n",
      "Epoch: 5 \tTraining Loss: 2.3725 \tValidation Loss: 2.1089\n",
      "\t\tTraining Accuracy: 42.41%\t Validation Accuracy: 47.30%\n",
      "Epoch: 6\t100.00% complete. 850.64 seconds elapsed in epoch.\n",
      "Epoch: 6 \tTraining Loss: 2.3546 \tValidation Loss: 2.0733\n",
      "\t\tTraining Accuracy: 42.84%\t Validation Accuracy: 48.40%\n",
      "Epoch: 7\t100.00% complete. 1890.82 seconds elapsed in epoch.\n",
      "Epoch: 7 \tTraining Loss: 2.3649 \tValidation Loss: 2.1016\n",
      "\t\tTraining Accuracy: 42.64%\t Validation Accuracy: 47.96%\n",
      "Epoch: 8\t41.64% complete. 82698.54 seconds elapsed in epoch.\r"
     ]
    },
    {
     "ename": "KeyboardInterrupt",
     "evalue": "",
     "output_type": "error",
     "traceback": [
      "\u001b[1;31m-----------------------------------------------------\u001b[0m",
      "\u001b[1;31mKeyboardInterrupt\u001b[0m   Traceback (most recent call last)",
      "\u001b[1;32m<ipython-input-23-141fa340ef60>\u001b[0m in \u001b[0;36m<module>\u001b[1;34m\u001b[0m\n\u001b[0;32m      9\u001b[0m     \u001b[0mmax_epochs_stop\u001b[0m\u001b[1;33m=\u001b[0m\u001b[1;36m15\u001b[0m\u001b[1;33m,\u001b[0m\u001b[1;33m\u001b[0m\u001b[1;33m\u001b[0m\u001b[0m\n\u001b[0;32m     10\u001b[0m     \u001b[0mn_epochs\u001b[0m\u001b[1;33m=\u001b[0m\u001b[1;36m150\u001b[0m\u001b[1;33m,\u001b[0m\u001b[1;33m\u001b[0m\u001b[1;33m\u001b[0m\u001b[0m\n\u001b[1;32m---> 11\u001b[1;33m     \u001b[0mprint_every\u001b[0m\u001b[1;33m=\u001b[0m\u001b[1;36m1\u001b[0m\u001b[1;33m\u001b[0m\u001b[1;33m\u001b[0m\u001b[0m\n\u001b[0m\u001b[0;32m     12\u001b[0m     )\n",
      "\u001b[1;32m<ipython-input-12-ba74d4edf1ff>\u001b[0m in \u001b[0;36mtrain_model\u001b[1;34m(model, criterion, optimizer, scheduler, train_loader, valid_loader, save_file_name, max_epochs_stop, n_epochs, print_every)\u001b[0m\n\u001b[0;32m     60\u001b[0m \u001b[1;33m\u001b[0m\u001b[0m\n\u001b[0;32m     61\u001b[0m         \u001b[1;31m# training loop\u001b[0m\u001b[1;33m\u001b[0m\u001b[1;33m\u001b[0m\u001b[1;33m\u001b[0m\u001b[0m\n\u001b[1;32m---> 62\u001b[1;33m         \u001b[1;32mfor\u001b[0m \u001b[0mii\u001b[0m\u001b[1;33m,\u001b[0m \u001b[1;33m(\u001b[0m\u001b[0mdata\u001b[0m\u001b[1;33m,\u001b[0m \u001b[0mtarget\u001b[0m\u001b[1;33m)\u001b[0m \u001b[1;32min\u001b[0m \u001b[0menumerate\u001b[0m\u001b[1;33m(\u001b[0m\u001b[0mtrain_loader\u001b[0m\u001b[1;33m)\u001b[0m\u001b[1;33m:\u001b[0m\u001b[1;33m\u001b[0m\u001b[1;33m\u001b[0m\u001b[0m\n\u001b[0m\u001b[0;32m     63\u001b[0m             \u001b[1;31m#tensors to gpu\u001b[0m\u001b[1;33m\u001b[0m\u001b[1;33m\u001b[0m\u001b[1;33m\u001b[0m\u001b[0m\n\u001b[0;32m     64\u001b[0m             \u001b[1;32mif\u001b[0m \u001b[0mtrain_on_gpu\u001b[0m\u001b[1;33m:\u001b[0m\u001b[1;33m\u001b[0m\u001b[1;33m\u001b[0m\u001b[0m\n",
      "\u001b[1;32m~\\Anaconda3\\lib\\site-packages\\torch\\utils\\data\\dataloader.py\u001b[0m in \u001b[0;36m__next__\u001b[1;34m(self)\u001b[0m\n\u001b[0;32m    343\u001b[0m \u001b[1;33m\u001b[0m\u001b[0m\n\u001b[0;32m    344\u001b[0m     \u001b[1;32mdef\u001b[0m \u001b[0m__next__\u001b[0m\u001b[1;33m(\u001b[0m\u001b[0mself\u001b[0m\u001b[1;33m)\u001b[0m\u001b[1;33m:\u001b[0m\u001b[1;33m\u001b[0m\u001b[1;33m\u001b[0m\u001b[0m\n\u001b[1;32m--> 345\u001b[1;33m         \u001b[0mdata\u001b[0m \u001b[1;33m=\u001b[0m \u001b[0mself\u001b[0m\u001b[1;33m.\u001b[0m\u001b[0m_next_data\u001b[0m\u001b[1;33m(\u001b[0m\u001b[1;33m)\u001b[0m\u001b[1;33m\u001b[0m\u001b[1;33m\u001b[0m\u001b[0m\n\u001b[0m\u001b[0;32m    346\u001b[0m         \u001b[0mself\u001b[0m\u001b[1;33m.\u001b[0m\u001b[0m_num_yielded\u001b[0m \u001b[1;33m+=\u001b[0m \u001b[1;36m1\u001b[0m\u001b[1;33m\u001b[0m\u001b[1;33m\u001b[0m\u001b[0m\n\u001b[0;32m    347\u001b[0m         \u001b[1;32mif\u001b[0m \u001b[0mself\u001b[0m\u001b[1;33m.\u001b[0m\u001b[0m_dataset_kind\u001b[0m \u001b[1;33m==\u001b[0m \u001b[0m_DatasetKind\u001b[0m\u001b[1;33m.\u001b[0m\u001b[0mIterable\u001b[0m \u001b[1;32mand\u001b[0m\u001b[0;31m \u001b[0m\u001b[0;31m\\\u001b[0m\u001b[1;33m\u001b[0m\u001b[1;33m\u001b[0m\u001b[0m\n",
      "\u001b[1;32m~\\Anaconda3\\lib\\site-packages\\torch\\utils\\data\\dataloader.py\u001b[0m in \u001b[0;36m_next_data\u001b[1;34m(self)\u001b[0m\n\u001b[0;32m    383\u001b[0m     \u001b[1;32mdef\u001b[0m \u001b[0m_next_data\u001b[0m\u001b[1;33m(\u001b[0m\u001b[0mself\u001b[0m\u001b[1;33m)\u001b[0m\u001b[1;33m:\u001b[0m\u001b[1;33m\u001b[0m\u001b[1;33m\u001b[0m\u001b[0m\n\u001b[0;32m    384\u001b[0m         \u001b[0mindex\u001b[0m \u001b[1;33m=\u001b[0m \u001b[0mself\u001b[0m\u001b[1;33m.\u001b[0m\u001b[0m_next_index\u001b[0m\u001b[1;33m(\u001b[0m\u001b[1;33m)\u001b[0m  \u001b[1;31m# may raise StopIteration\u001b[0m\u001b[1;33m\u001b[0m\u001b[1;33m\u001b[0m\u001b[0m\n\u001b[1;32m--> 385\u001b[1;33m         \u001b[0mdata\u001b[0m \u001b[1;33m=\u001b[0m \u001b[0mself\u001b[0m\u001b[1;33m.\u001b[0m\u001b[0m_dataset_fetcher\u001b[0m\u001b[1;33m.\u001b[0m\u001b[0mfetch\u001b[0m\u001b[1;33m(\u001b[0m\u001b[0mindex\u001b[0m\u001b[1;33m)\u001b[0m  \u001b[1;31m# may raise StopIteration\u001b[0m\u001b[1;33m\u001b[0m\u001b[1;33m\u001b[0m\u001b[0m\n\u001b[0m\u001b[0;32m    386\u001b[0m         \u001b[1;32mif\u001b[0m \u001b[0mself\u001b[0m\u001b[1;33m.\u001b[0m\u001b[0m_pin_memory\u001b[0m\u001b[1;33m:\u001b[0m\u001b[1;33m\u001b[0m\u001b[1;33m\u001b[0m\u001b[0m\n\u001b[0;32m    387\u001b[0m             \u001b[0mdata\u001b[0m \u001b[1;33m=\u001b[0m \u001b[0m_utils\u001b[0m\u001b[1;33m.\u001b[0m\u001b[0mpin_memory\u001b[0m\u001b[1;33m.\u001b[0m\u001b[0mpin_memory\u001b[0m\u001b[1;33m(\u001b[0m\u001b[0mdata\u001b[0m\u001b[1;33m)\u001b[0m\u001b[1;33m\u001b[0m\u001b[1;33m\u001b[0m\u001b[0m\n",
      "\u001b[1;32m~\\Anaconda3\\lib\\site-packages\\torch\\utils\\data\\_utils\\fetch.py\u001b[0m in \u001b[0;36mfetch\u001b[1;34m(self, possibly_batched_index)\u001b[0m\n\u001b[0;32m     42\u001b[0m     \u001b[1;32mdef\u001b[0m \u001b[0mfetch\u001b[0m\u001b[1;33m(\u001b[0m\u001b[0mself\u001b[0m\u001b[1;33m,\u001b[0m \u001b[0mpossibly_batched_index\u001b[0m\u001b[1;33m)\u001b[0m\u001b[1;33m:\u001b[0m\u001b[1;33m\u001b[0m\u001b[1;33m\u001b[0m\u001b[0m\n\u001b[0;32m     43\u001b[0m         \u001b[1;32mif\u001b[0m \u001b[0mself\u001b[0m\u001b[1;33m.\u001b[0m\u001b[0mauto_collation\u001b[0m\u001b[1;33m:\u001b[0m\u001b[1;33m\u001b[0m\u001b[1;33m\u001b[0m\u001b[0m\n\u001b[1;32m---> 44\u001b[1;33m             \u001b[0mdata\u001b[0m \u001b[1;33m=\u001b[0m \u001b[1;33m[\u001b[0m\u001b[0mself\u001b[0m\u001b[1;33m.\u001b[0m\u001b[0mdataset\u001b[0m\u001b[1;33m[\u001b[0m\u001b[0midx\u001b[0m\u001b[1;33m]\u001b[0m \u001b[1;32mfor\u001b[0m \u001b[0midx\u001b[0m \u001b[1;32min\u001b[0m \u001b[0mpossibly_batched_index\u001b[0m\u001b[1;33m]\u001b[0m\u001b[1;33m\u001b[0m\u001b[1;33m\u001b[0m\u001b[0m\n\u001b[0m\u001b[0;32m     45\u001b[0m         \u001b[1;32melse\u001b[0m\u001b[1;33m:\u001b[0m\u001b[1;33m\u001b[0m\u001b[1;33m\u001b[0m\u001b[0m\n\u001b[0;32m     46\u001b[0m             \u001b[0mdata\u001b[0m \u001b[1;33m=\u001b[0m \u001b[0mself\u001b[0m\u001b[1;33m.\u001b[0m\u001b[0mdataset\u001b[0m\u001b[1;33m[\u001b[0m\u001b[0mpossibly_batched_index\u001b[0m\u001b[1;33m]\u001b[0m\u001b[1;33m\u001b[0m\u001b[1;33m\u001b[0m\u001b[0m\n",
      "\u001b[1;32m~\\Anaconda3\\lib\\site-packages\\torch\\utils\\data\\_utils\\fetch.py\u001b[0m in \u001b[0;36m<listcomp>\u001b[1;34m(.0)\u001b[0m\n\u001b[0;32m     42\u001b[0m     \u001b[1;32mdef\u001b[0m \u001b[0mfetch\u001b[0m\u001b[1;33m(\u001b[0m\u001b[0mself\u001b[0m\u001b[1;33m,\u001b[0m \u001b[0mpossibly_batched_index\u001b[0m\u001b[1;33m)\u001b[0m\u001b[1;33m:\u001b[0m\u001b[1;33m\u001b[0m\u001b[1;33m\u001b[0m\u001b[0m\n\u001b[0;32m     43\u001b[0m         \u001b[1;32mif\u001b[0m \u001b[0mself\u001b[0m\u001b[1;33m.\u001b[0m\u001b[0mauto_collation\u001b[0m\u001b[1;33m:\u001b[0m\u001b[1;33m\u001b[0m\u001b[1;33m\u001b[0m\u001b[0m\n\u001b[1;32m---> 44\u001b[1;33m             \u001b[0mdata\u001b[0m \u001b[1;33m=\u001b[0m \u001b[1;33m[\u001b[0m\u001b[0mself\u001b[0m\u001b[1;33m.\u001b[0m\u001b[0mdataset\u001b[0m\u001b[1;33m[\u001b[0m\u001b[0midx\u001b[0m\u001b[1;33m]\u001b[0m \u001b[1;32mfor\u001b[0m \u001b[0midx\u001b[0m \u001b[1;32min\u001b[0m \u001b[0mpossibly_batched_index\u001b[0m\u001b[1;33m]\u001b[0m\u001b[1;33m\u001b[0m\u001b[1;33m\u001b[0m\u001b[0m\n\u001b[0m\u001b[0;32m     45\u001b[0m         \u001b[1;32melse\u001b[0m\u001b[1;33m:\u001b[0m\u001b[1;33m\u001b[0m\u001b[1;33m\u001b[0m\u001b[0m\n\u001b[0;32m     46\u001b[0m             \u001b[0mdata\u001b[0m \u001b[1;33m=\u001b[0m \u001b[0mself\u001b[0m\u001b[1;33m.\u001b[0m\u001b[0mdataset\u001b[0m\u001b[1;33m[\u001b[0m\u001b[0mpossibly_batched_index\u001b[0m\u001b[1;33m]\u001b[0m\u001b[1;33m\u001b[0m\u001b[1;33m\u001b[0m\u001b[0m\n",
      "\u001b[1;32m~\\Anaconda3\\lib\\site-packages\\torchvision\\datasets\\folder.py\u001b[0m in \u001b[0;36m__getitem__\u001b[1;34m(self, index)\u001b[0m\n\u001b[0;32m    136\u001b[0m         \"\"\"\n\u001b[0;32m    137\u001b[0m         \u001b[0mpath\u001b[0m\u001b[1;33m,\u001b[0m \u001b[0mtarget\u001b[0m \u001b[1;33m=\u001b[0m \u001b[0mself\u001b[0m\u001b[1;33m.\u001b[0m\u001b[0msamples\u001b[0m\u001b[1;33m[\u001b[0m\u001b[0mindex\u001b[0m\u001b[1;33m]\u001b[0m\u001b[1;33m\u001b[0m\u001b[1;33m\u001b[0m\u001b[0m\n\u001b[1;32m--> 138\u001b[1;33m         \u001b[0msample\u001b[0m \u001b[1;33m=\u001b[0m \u001b[0mself\u001b[0m\u001b[1;33m.\u001b[0m\u001b[0mloader\u001b[0m\u001b[1;33m(\u001b[0m\u001b[0mpath\u001b[0m\u001b[1;33m)\u001b[0m\u001b[1;33m\u001b[0m\u001b[1;33m\u001b[0m\u001b[0m\n\u001b[0m\u001b[0;32m    139\u001b[0m         \u001b[1;32mif\u001b[0m \u001b[0mself\u001b[0m\u001b[1;33m.\u001b[0m\u001b[0mtransform\u001b[0m \u001b[1;32mis\u001b[0m \u001b[1;32mnot\u001b[0m \u001b[1;32mNone\u001b[0m\u001b[1;33m:\u001b[0m\u001b[1;33m\u001b[0m\u001b[1;33m\u001b[0m\u001b[0m\n\u001b[0;32m    140\u001b[0m             \u001b[0msample\u001b[0m \u001b[1;33m=\u001b[0m \u001b[0mself\u001b[0m\u001b[1;33m.\u001b[0m\u001b[0mtransform\u001b[0m\u001b[1;33m(\u001b[0m\u001b[0msample\u001b[0m\u001b[1;33m)\u001b[0m\u001b[1;33m\u001b[0m\u001b[1;33m\u001b[0m\u001b[0m\n",
      "\u001b[1;32m~\\Anaconda3\\lib\\site-packages\\torchvision\\datasets\\folder.py\u001b[0m in \u001b[0;36mdefault_loader\u001b[1;34m(path)\u001b[0m\n\u001b[0;32m    172\u001b[0m         \u001b[1;32mreturn\u001b[0m \u001b[0maccimage_loader\u001b[0m\u001b[1;33m(\u001b[0m\u001b[0mpath\u001b[0m\u001b[1;33m)\u001b[0m\u001b[1;33m\u001b[0m\u001b[1;33m\u001b[0m\u001b[0m\n\u001b[0;32m    173\u001b[0m     \u001b[1;32melse\u001b[0m\u001b[1;33m:\u001b[0m\u001b[1;33m\u001b[0m\u001b[1;33m\u001b[0m\u001b[0m\n\u001b[1;32m--> 174\u001b[1;33m         \u001b[1;32mreturn\u001b[0m \u001b[0mpil_loader\u001b[0m\u001b[1;33m(\u001b[0m\u001b[0mpath\u001b[0m\u001b[1;33m)\u001b[0m\u001b[1;33m\u001b[0m\u001b[1;33m\u001b[0m\u001b[0m\n\u001b[0m\u001b[0;32m    175\u001b[0m \u001b[1;33m\u001b[0m\u001b[0m\n\u001b[0;32m    176\u001b[0m \u001b[1;33m\u001b[0m\u001b[0m\n",
      "\u001b[1;32m~\\Anaconda3\\lib\\site-packages\\torchvision\\datasets\\folder.py\u001b[0m in \u001b[0;36mpil_loader\u001b[1;34m(path)\u001b[0m\n\u001b[0;32m    155\u001b[0m     \u001b[1;32mwith\u001b[0m \u001b[0mopen\u001b[0m\u001b[1;33m(\u001b[0m\u001b[0mpath\u001b[0m\u001b[1;33m,\u001b[0m \u001b[1;34m'rb'\u001b[0m\u001b[1;33m)\u001b[0m \u001b[1;32mas\u001b[0m \u001b[0mf\u001b[0m\u001b[1;33m:\u001b[0m\u001b[1;33m\u001b[0m\u001b[1;33m\u001b[0m\u001b[0m\n\u001b[0;32m    156\u001b[0m         \u001b[0mimg\u001b[0m \u001b[1;33m=\u001b[0m \u001b[0mImage\u001b[0m\u001b[1;33m.\u001b[0m\u001b[0mopen\u001b[0m\u001b[1;33m(\u001b[0m\u001b[0mf\u001b[0m\u001b[1;33m)\u001b[0m\u001b[1;33m\u001b[0m\u001b[1;33m\u001b[0m\u001b[0m\n\u001b[1;32m--> 157\u001b[1;33m         \u001b[1;32mreturn\u001b[0m \u001b[0mimg\u001b[0m\u001b[1;33m.\u001b[0m\u001b[0mconvert\u001b[0m\u001b[1;33m(\u001b[0m\u001b[1;34m'RGB'\u001b[0m\u001b[1;33m)\u001b[0m\u001b[1;33m\u001b[0m\u001b[1;33m\u001b[0m\u001b[0m\n\u001b[0m\u001b[0;32m    158\u001b[0m \u001b[1;33m\u001b[0m\u001b[0m\n\u001b[0;32m    159\u001b[0m \u001b[1;33m\u001b[0m\u001b[0m\n",
      "\u001b[1;32m~\\Anaconda3\\lib\\site-packages\\PIL\\Image.py\u001b[0m in \u001b[0;36mconvert\u001b[1;34m(self, mode, matrix, dither, palette, colors)\u001b[0m\n\u001b[0;32m    928\u001b[0m         \"\"\"\n\u001b[0;32m    929\u001b[0m \u001b[1;33m\u001b[0m\u001b[0m\n\u001b[1;32m--> 930\u001b[1;33m         \u001b[0mself\u001b[0m\u001b[1;33m.\u001b[0m\u001b[0mload\u001b[0m\u001b[1;33m(\u001b[0m\u001b[1;33m)\u001b[0m\u001b[1;33m\u001b[0m\u001b[1;33m\u001b[0m\u001b[0m\n\u001b[0m\u001b[0;32m    931\u001b[0m \u001b[1;33m\u001b[0m\u001b[0m\n\u001b[0;32m    932\u001b[0m         \u001b[1;32mif\u001b[0m \u001b[1;32mnot\u001b[0m \u001b[0mmode\u001b[0m \u001b[1;32mand\u001b[0m \u001b[0mself\u001b[0m\u001b[1;33m.\u001b[0m\u001b[0mmode\u001b[0m \u001b[1;33m==\u001b[0m \u001b[1;34m\"P\"\u001b[0m\u001b[1;33m:\u001b[0m\u001b[1;33m\u001b[0m\u001b[1;33m\u001b[0m\u001b[0m\n",
      "\u001b[1;32m~\\Anaconda3\\lib\\site-packages\\PIL\\ImageFile.py\u001b[0m in \u001b[0;36mload\u001b[1;34m(self)\u001b[0m\n\u001b[0;32m    251\u001b[0m \u001b[1;33m\u001b[0m\u001b[0m\n\u001b[0;32m    252\u001b[0m                             \u001b[0mb\u001b[0m \u001b[1;33m=\u001b[0m \u001b[0mb\u001b[0m \u001b[1;33m+\u001b[0m \u001b[0ms\u001b[0m\u001b[1;33m\u001b[0m\u001b[1;33m\u001b[0m\u001b[0m\n\u001b[1;32m--> 253\u001b[1;33m                             \u001b[0mn\u001b[0m\u001b[1;33m,\u001b[0m \u001b[0merr_code\u001b[0m \u001b[1;33m=\u001b[0m \u001b[0mdecoder\u001b[0m\u001b[1;33m.\u001b[0m\u001b[0mdecode\u001b[0m\u001b[1;33m(\u001b[0m\u001b[0mb\u001b[0m\u001b[1;33m)\u001b[0m\u001b[1;33m\u001b[0m\u001b[1;33m\u001b[0m\u001b[0m\n\u001b[0m\u001b[0;32m    254\u001b[0m                             \u001b[1;32mif\u001b[0m \u001b[0mn\u001b[0m \u001b[1;33m<\u001b[0m \u001b[1;36m0\u001b[0m\u001b[1;33m:\u001b[0m\u001b[1;33m\u001b[0m\u001b[1;33m\u001b[0m\u001b[0m\n\u001b[0;32m    255\u001b[0m                                 \u001b[1;32mbreak\u001b[0m\u001b[1;33m\u001b[0m\u001b[1;33m\u001b[0m\u001b[0m\n",
      "\u001b[1;31mKeyboardInterrupt\u001b[0m: "
=======
      "Model has been trained for: 66 epochs.\n",
      "\n",
      "Epoch: 0\t100.00% complete. 755.41 seconds elapsed in epoch.\n",
      "Epoch: 0 \tTraining Loss: 2.2965 \tValidation Loss: 2.0333\n",
      "\t\tTraining Accuracy: 44.34%\t Validation Accuracy: 49.35%\n",
      "Valid loss decreased (inf --> 2.033298). Saving model...\n"
     ]
    },
    {
     "name": "stderr",
     "output_type": "stream",
     "text": [
      "C:\\ProgramData\\Anaconda3\\lib\\site-packages\\torch\\serialization.py:292: UserWarning: Couldn't retrieve source code for container of type ResNet. It won't be checked for correctness upon loading.\n",
      "  \"type \" + obj.__name__ + \". It won't be checked \"\n",
      "C:\\ProgramData\\Anaconda3\\lib\\site-packages\\torch\\serialization.py:292: UserWarning: Couldn't retrieve source code for container of type Conv2d. It won't be checked for correctness upon loading.\n",
      "  \"type \" + obj.__name__ + \". It won't be checked \"\n",
      "C:\\ProgramData\\Anaconda3\\lib\\site-packages\\torch\\serialization.py:292: UserWarning: Couldn't retrieve source code for container of type BatchNorm2d. It won't be checked for correctness upon loading.\n",
      "  \"type \" + obj.__name__ + \". It won't be checked \"\n",
      "C:\\ProgramData\\Anaconda3\\lib\\site-packages\\torch\\serialization.py:292: UserWarning: Couldn't retrieve source code for container of type ReLU. It won't be checked for correctness upon loading.\n",
      "  \"type \" + obj.__name__ + \". It won't be checked \"\n",
      "C:\\ProgramData\\Anaconda3\\lib\\site-packages\\torch\\serialization.py:292: UserWarning: Couldn't retrieve source code for container of type MaxPool2d. It won't be checked for correctness upon loading.\n",
      "  \"type \" + obj.__name__ + \". It won't be checked \"\n",
      "C:\\ProgramData\\Anaconda3\\lib\\site-packages\\torch\\serialization.py:292: UserWarning: Couldn't retrieve source code for container of type Sequential. It won't be checked for correctness upon loading.\n",
      "  \"type \" + obj.__name__ + \". It won't be checked \"\n",
      "C:\\ProgramData\\Anaconda3\\lib\\site-packages\\torch\\serialization.py:292: UserWarning: Couldn't retrieve source code for container of type Bottleneck. It won't be checked for correctness upon loading.\n",
      "  \"type \" + obj.__name__ + \". It won't be checked \"\n",
      "C:\\ProgramData\\Anaconda3\\lib\\site-packages\\torch\\serialization.py:292: UserWarning: Couldn't retrieve source code for container of type AdaptiveAvgPool2d. It won't be checked for correctness upon loading.\n",
      "  \"type \" + obj.__name__ + \". It won't be checked \"\n",
      "C:\\ProgramData\\Anaconda3\\lib\\site-packages\\torch\\serialization.py:292: UserWarning: Couldn't retrieve source code for container of type Linear. It won't be checked for correctness upon loading.\n",
      "  \"type \" + obj.__name__ + \". It won't be checked \"\n",
      "C:\\ProgramData\\Anaconda3\\lib\\site-packages\\torch\\serialization.py:292: UserWarning: Couldn't retrieve source code for container of type CrossEntropyLoss. It won't be checked for correctness upon loading.\n",
      "  \"type \" + obj.__name__ + \". It won't be checked \"\n"
     ]
    },
    {
     "name": "stdout",
     "output_type": "stream",
     "text": [
      "Epoch: 1\t100.00% complete. 752.49 seconds elapsed in epoch.\n",
      "Epoch: 1 \tTraining Loss: 2.2933 \tValidation Loss: 2.0427\n",
      "\t\tTraining Accuracy: 44.19%\t Validation Accuracy: 49.05%\n",
      "Epoch: 2\t100.00% complete. 752.24 seconds elapsed in epoch.\n",
      "Epoch: 2 \tTraining Loss: 2.2910 \tValidation Loss: 2.0033\n",
      "\t\tTraining Accuracy: 44.21%\t Validation Accuracy: 49.47%\n",
      "Valid loss decreased (2.033298 --> 2.003335). Saving model...\n"
     ]
    },
    {
     "name": "stderr",
     "output_type": "stream",
     "text": [
      "C:\\ProgramData\\Anaconda3\\lib\\site-packages\\torch\\serialization.py:292: UserWarning: Couldn't retrieve source code for container of type ResNet. It won't be checked for correctness upon loading.\n",
      "  \"type \" + obj.__name__ + \". It won't be checked \"\n",
      "C:\\ProgramData\\Anaconda3\\lib\\site-packages\\torch\\serialization.py:292: UserWarning: Couldn't retrieve source code for container of type Conv2d. It won't be checked for correctness upon loading.\n",
      "  \"type \" + obj.__name__ + \". It won't be checked \"\n",
      "C:\\ProgramData\\Anaconda3\\lib\\site-packages\\torch\\serialization.py:292: UserWarning: Couldn't retrieve source code for container of type BatchNorm2d. It won't be checked for correctness upon loading.\n",
      "  \"type \" + obj.__name__ + \". It won't be checked \"\n",
      "C:\\ProgramData\\Anaconda3\\lib\\site-packages\\torch\\serialization.py:292: UserWarning: Couldn't retrieve source code for container of type ReLU. It won't be checked for correctness upon loading.\n",
      "  \"type \" + obj.__name__ + \". It won't be checked \"\n",
      "C:\\ProgramData\\Anaconda3\\lib\\site-packages\\torch\\serialization.py:292: UserWarning: Couldn't retrieve source code for container of type MaxPool2d. It won't be checked for correctness upon loading.\n",
      "  \"type \" + obj.__name__ + \". It won't be checked \"\n",
      "C:\\ProgramData\\Anaconda3\\lib\\site-packages\\torch\\serialization.py:292: UserWarning: Couldn't retrieve source code for container of type Sequential. It won't be checked for correctness upon loading.\n",
      "  \"type \" + obj.__name__ + \". It won't be checked \"\n",
      "C:\\ProgramData\\Anaconda3\\lib\\site-packages\\torch\\serialization.py:292: UserWarning: Couldn't retrieve source code for container of type Bottleneck. It won't be checked for correctness upon loading.\n",
      "  \"type \" + obj.__name__ + \". It won't be checked \"\n",
      "C:\\ProgramData\\Anaconda3\\lib\\site-packages\\torch\\serialization.py:292: UserWarning: Couldn't retrieve source code for container of type AdaptiveAvgPool2d. It won't be checked for correctness upon loading.\n",
      "  \"type \" + obj.__name__ + \". It won't be checked \"\n",
      "C:\\ProgramData\\Anaconda3\\lib\\site-packages\\torch\\serialization.py:292: UserWarning: Couldn't retrieve source code for container of type Linear. It won't be checked for correctness upon loading.\n",
      "  \"type \" + obj.__name__ + \". It won't be checked \"\n",
      "C:\\ProgramData\\Anaconda3\\lib\\site-packages\\torch\\serialization.py:292: UserWarning: Couldn't retrieve source code for container of type CrossEntropyLoss. It won't be checked for correctness upon loading.\n",
      "  \"type \" + obj.__name__ + \". It won't be checked \"\n"
     ]
    },
    {
     "name": "stdout",
     "output_type": "stream",
     "text": [
      "Epoch: 3\t100.00% complete. 751.18 seconds elapsed in epoch.\n",
      "Epoch: 3 \tTraining Loss: 2.2881 \tValidation Loss: 2.0303\n",
      "\t\tTraining Accuracy: 44.31%\t Validation Accuracy: 48.89%\n",
      "Epoch: 4\t100.00% complete. 734.95 seconds elapsed in epoch.\n",
      "Epoch: 4 \tTraining Loss: 2.2825 \tValidation Loss: 1.9804\n",
      "\t\tTraining Accuracy: 44.35%\t Validation Accuracy: 50.34%\n",
      "Valid loss decreased (2.003335 --> 1.980425). Saving model...\n"
     ]
    },
    {
     "name": "stderr",
     "output_type": "stream",
     "text": [
      "C:\\ProgramData\\Anaconda3\\lib\\site-packages\\torch\\serialization.py:292: UserWarning: Couldn't retrieve source code for container of type ResNet. It won't be checked for correctness upon loading.\n",
      "  \"type \" + obj.__name__ + \". It won't be checked \"\n",
      "C:\\ProgramData\\Anaconda3\\lib\\site-packages\\torch\\serialization.py:292: UserWarning: Couldn't retrieve source code for container of type Conv2d. It won't be checked for correctness upon loading.\n",
      "  \"type \" + obj.__name__ + \". It won't be checked \"\n",
      "C:\\ProgramData\\Anaconda3\\lib\\site-packages\\torch\\serialization.py:292: UserWarning: Couldn't retrieve source code for container of type BatchNorm2d. It won't be checked for correctness upon loading.\n",
      "  \"type \" + obj.__name__ + \". It won't be checked \"\n",
      "C:\\ProgramData\\Anaconda3\\lib\\site-packages\\torch\\serialization.py:292: UserWarning: Couldn't retrieve source code for container of type ReLU. It won't be checked for correctness upon loading.\n",
      "  \"type \" + obj.__name__ + \". It won't be checked \"\n",
      "C:\\ProgramData\\Anaconda3\\lib\\site-packages\\torch\\serialization.py:292: UserWarning: Couldn't retrieve source code for container of type MaxPool2d. It won't be checked for correctness upon loading.\n",
      "  \"type \" + obj.__name__ + \". It won't be checked \"\n",
      "C:\\ProgramData\\Anaconda3\\lib\\site-packages\\torch\\serialization.py:292: UserWarning: Couldn't retrieve source code for container of type Sequential. It won't be checked for correctness upon loading.\n",
      "  \"type \" + obj.__name__ + \". It won't be checked \"\n",
      "C:\\ProgramData\\Anaconda3\\lib\\site-packages\\torch\\serialization.py:292: UserWarning: Couldn't retrieve source code for container of type Bottleneck. It won't be checked for correctness upon loading.\n",
      "  \"type \" + obj.__name__ + \". It won't be checked \"\n",
      "C:\\ProgramData\\Anaconda3\\lib\\site-packages\\torch\\serialization.py:292: UserWarning: Couldn't retrieve source code for container of type AdaptiveAvgPool2d. It won't be checked for correctness upon loading.\n",
      "  \"type \" + obj.__name__ + \". It won't be checked \"\n",
      "C:\\ProgramData\\Anaconda3\\lib\\site-packages\\torch\\serialization.py:292: UserWarning: Couldn't retrieve source code for container of type Linear. It won't be checked for correctness upon loading.\n",
      "  \"type \" + obj.__name__ + \". It won't be checked \"\n",
      "C:\\ProgramData\\Anaconda3\\lib\\site-packages\\torch\\serialization.py:292: UserWarning: Couldn't retrieve source code for container of type CrossEntropyLoss. It won't be checked for correctness upon loading.\n",
      "  \"type \" + obj.__name__ + \". It won't be checked \"\n"
     ]
    },
    {
     "name": "stdout",
     "output_type": "stream",
     "text": [
      "Epoch: 5\t100.00% complete. 737.78 seconds elapsed in epoch.\n",
      "Epoch: 5 \tTraining Loss: 2.2924 \tValidation Loss: 2.0480\n",
      "\t\tTraining Accuracy: 44.22%\t Validation Accuracy: 48.81%\n",
      "Epoch: 6\t100.00% complete. 738.80 seconds elapsed in epoch.\n",
      "Epoch: 6 \tTraining Loss: 2.2755 \tValidation Loss: 2.0790\n",
      "\t\tTraining Accuracy: 44.43%\t Validation Accuracy: 47.81%\n",
      "Epoch: 7\t100.00% complete. 739.30 seconds elapsed in epoch.\n",
      "Epoch: 7 \tTraining Loss: 2.2780 \tValidation Loss: 2.0635\n",
      "\t\tTraining Accuracy: 44.47%\t Validation Accuracy: 48.65%\n",
      "Epoch: 8\t100.00% complete. 738.36 seconds elapsed in epoch.\n",
      "Epoch: 8 \tTraining Loss: 2.2791 \tValidation Loss: 1.9994\n",
      "\t\tTraining Accuracy: 44.45%\t Validation Accuracy: 49.43%\n",
      "Epoch: 9\t100.00% complete. 737.38 seconds elapsed in epoch.\n",
      "Epoch: 9 \tTraining Loss: 2.2809 \tValidation Loss: 2.0141\n",
      "\t\tTraining Accuracy: 44.47%\t Validation Accuracy: 50.07%\n",
      "Epoch: 10\t100.00% complete. 736.09 seconds elapsed in epoch.\n",
      "Epoch: 10 \tTraining Loss: 2.2652 \tValidation Loss: 2.0380\n",
      "\t\tTraining Accuracy: 44.84%\t Validation Accuracy: 48.32%\n",
      "Epoch: 11\t100.00% complete. 735.23 seconds elapsed in epoch.\n",
      "Epoch: 11 \tTraining Loss: 2.0884 \tValidation Loss: 1.8107\n",
      "\t\tTraining Accuracy: 48.79%\t Validation Accuracy: 54.07%\n",
      "Valid loss decreased (1.980425 --> 1.810666). Saving model...\n"
     ]
    },
    {
     "name": "stderr",
     "output_type": "stream",
     "text": [
      "C:\\ProgramData\\Anaconda3\\lib\\site-packages\\torch\\serialization.py:292: UserWarning: Couldn't retrieve source code for container of type ResNet. It won't be checked for correctness upon loading.\n",
      "  \"type \" + obj.__name__ + \". It won't be checked \"\n",
      "C:\\ProgramData\\Anaconda3\\lib\\site-packages\\torch\\serialization.py:292: UserWarning: Couldn't retrieve source code for container of type Conv2d. It won't be checked for correctness upon loading.\n",
      "  \"type \" + obj.__name__ + \". It won't be checked \"\n",
      "C:\\ProgramData\\Anaconda3\\lib\\site-packages\\torch\\serialization.py:292: UserWarning: Couldn't retrieve source code for container of type BatchNorm2d. It won't be checked for correctness upon loading.\n",
      "  \"type \" + obj.__name__ + \". It won't be checked \"\n",
      "C:\\ProgramData\\Anaconda3\\lib\\site-packages\\torch\\serialization.py:292: UserWarning: Couldn't retrieve source code for container of type ReLU. It won't be checked for correctness upon loading.\n",
      "  \"type \" + obj.__name__ + \". It won't be checked \"\n",
      "C:\\ProgramData\\Anaconda3\\lib\\site-packages\\torch\\serialization.py:292: UserWarning: Couldn't retrieve source code for container of type MaxPool2d. It won't be checked for correctness upon loading.\n",
      "  \"type \" + obj.__name__ + \". It won't be checked \"\n",
      "C:\\ProgramData\\Anaconda3\\lib\\site-packages\\torch\\serialization.py:292: UserWarning: Couldn't retrieve source code for container of type Sequential. It won't be checked for correctness upon loading.\n",
      "  \"type \" + obj.__name__ + \". It won't be checked \"\n",
      "C:\\ProgramData\\Anaconda3\\lib\\site-packages\\torch\\serialization.py:292: UserWarning: Couldn't retrieve source code for container of type Bottleneck. It won't be checked for correctness upon loading.\n",
      "  \"type \" + obj.__name__ + \". It won't be checked \"\n",
      "C:\\ProgramData\\Anaconda3\\lib\\site-packages\\torch\\serialization.py:292: UserWarning: Couldn't retrieve source code for container of type AdaptiveAvgPool2d. It won't be checked for correctness upon loading.\n",
      "  \"type \" + obj.__name__ + \". It won't be checked \"\n",
      "C:\\ProgramData\\Anaconda3\\lib\\site-packages\\torch\\serialization.py:292: UserWarning: Couldn't retrieve source code for container of type Linear. It won't be checked for correctness upon loading.\n",
      "  \"type \" + obj.__name__ + \". It won't be checked \"\n",
      "C:\\ProgramData\\Anaconda3\\lib\\site-packages\\torch\\serialization.py:292: UserWarning: Couldn't retrieve source code for container of type CrossEntropyLoss. It won't be checked for correctness upon loading.\n",
      "  \"type \" + obj.__name__ + \". It won't be checked \"\n"
     ]
    },
    {
     "name": "stdout",
     "output_type": "stream",
     "text": [
      "Epoch: 12\t100.00% complete. 736.85 seconds elapsed in epoch.\n",
      "Epoch: 12 \tTraining Loss: 2.0436 \tValidation Loss: 1.8342\n",
      "\t\tTraining Accuracy: 49.68%\t Validation Accuracy: 53.52%\n",
      "Epoch: 13\t100.00% complete. 734.26 seconds elapsed in epoch.\n",
      "Epoch: 13 \tTraining Loss: 2.0318 \tValidation Loss: 1.8019\n",
      "\t\tTraining Accuracy: 50.22%\t Validation Accuracy: 54.56%\n",
      "Valid loss decreased (1.810666 --> 1.801892). Saving model...\n"
     ]
    },
    {
     "name": "stderr",
     "output_type": "stream",
     "text": [
      "C:\\ProgramData\\Anaconda3\\lib\\site-packages\\torch\\serialization.py:292: UserWarning: Couldn't retrieve source code for container of type ResNet. It won't be checked for correctness upon loading.\n",
      "  \"type \" + obj.__name__ + \". It won't be checked \"\n",
      "C:\\ProgramData\\Anaconda3\\lib\\site-packages\\torch\\serialization.py:292: UserWarning: Couldn't retrieve source code for container of type Conv2d. It won't be checked for correctness upon loading.\n",
      "  \"type \" + obj.__name__ + \". It won't be checked \"\n",
      "C:\\ProgramData\\Anaconda3\\lib\\site-packages\\torch\\serialization.py:292: UserWarning: Couldn't retrieve source code for container of type BatchNorm2d. It won't be checked for correctness upon loading.\n",
      "  \"type \" + obj.__name__ + \". It won't be checked \"\n",
      "C:\\ProgramData\\Anaconda3\\lib\\site-packages\\torch\\serialization.py:292: UserWarning: Couldn't retrieve source code for container of type ReLU. It won't be checked for correctness upon loading.\n",
      "  \"type \" + obj.__name__ + \". It won't be checked \"\n",
      "C:\\ProgramData\\Anaconda3\\lib\\site-packages\\torch\\serialization.py:292: UserWarning: Couldn't retrieve source code for container of type MaxPool2d. It won't be checked for correctness upon loading.\n",
      "  \"type \" + obj.__name__ + \". It won't be checked \"\n",
      "C:\\ProgramData\\Anaconda3\\lib\\site-packages\\torch\\serialization.py:292: UserWarning: Couldn't retrieve source code for container of type Sequential. It won't be checked for correctness upon loading.\n",
      "  \"type \" + obj.__name__ + \". It won't be checked \"\n",
      "C:\\ProgramData\\Anaconda3\\lib\\site-packages\\torch\\serialization.py:292: UserWarning: Couldn't retrieve source code for container of type Bottleneck. It won't be checked for correctness upon loading.\n",
      "  \"type \" + obj.__name__ + \". It won't be checked \"\n",
      "C:\\ProgramData\\Anaconda3\\lib\\site-packages\\torch\\serialization.py:292: UserWarning: Couldn't retrieve source code for container of type AdaptiveAvgPool2d. It won't be checked for correctness upon loading.\n",
      "  \"type \" + obj.__name__ + \". It won't be checked \"\n",
      "C:\\ProgramData\\Anaconda3\\lib\\site-packages\\torch\\serialization.py:292: UserWarning: Couldn't retrieve source code for container of type Linear. It won't be checked for correctness upon loading.\n",
      "  \"type \" + obj.__name__ + \". It won't be checked \"\n",
      "C:\\ProgramData\\Anaconda3\\lib\\site-packages\\torch\\serialization.py:292: UserWarning: Couldn't retrieve source code for container of type CrossEntropyLoss. It won't be checked for correctness upon loading.\n",
      "  \"type \" + obj.__name__ + \". It won't be checked \"\n"
     ]
    },
    {
     "name": "stdout",
     "output_type": "stream",
     "text": [
      "Epoch: 14\t100.00% complete. 735.01 seconds elapsed in epoch.\n",
      "Epoch: 14 \tTraining Loss: 2.0226 \tValidation Loss: 1.7935\n",
      "\t\tTraining Accuracy: 50.16%\t Validation Accuracy: 54.76%\n",
      "Valid loss decreased (1.801892 --> 1.793496). Saving model...\n"
     ]
    },
    {
     "name": "stderr",
     "output_type": "stream",
     "text": [
      "C:\\ProgramData\\Anaconda3\\lib\\site-packages\\torch\\serialization.py:292: UserWarning: Couldn't retrieve source code for container of type ResNet. It won't be checked for correctness upon loading.\n",
      "  \"type \" + obj.__name__ + \". It won't be checked \"\n",
      "C:\\ProgramData\\Anaconda3\\lib\\site-packages\\torch\\serialization.py:292: UserWarning: Couldn't retrieve source code for container of type Conv2d. It won't be checked for correctness upon loading.\n",
      "  \"type \" + obj.__name__ + \". It won't be checked \"\n",
      "C:\\ProgramData\\Anaconda3\\lib\\site-packages\\torch\\serialization.py:292: UserWarning: Couldn't retrieve source code for container of type BatchNorm2d. It won't be checked for correctness upon loading.\n",
      "  \"type \" + obj.__name__ + \". It won't be checked \"\n",
      "C:\\ProgramData\\Anaconda3\\lib\\site-packages\\torch\\serialization.py:292: UserWarning: Couldn't retrieve source code for container of type ReLU. It won't be checked for correctness upon loading.\n",
      "  \"type \" + obj.__name__ + \". It won't be checked \"\n",
      "C:\\ProgramData\\Anaconda3\\lib\\site-packages\\torch\\serialization.py:292: UserWarning: Couldn't retrieve source code for container of type MaxPool2d. It won't be checked for correctness upon loading.\n",
      "  \"type \" + obj.__name__ + \". It won't be checked \"\n",
      "C:\\ProgramData\\Anaconda3\\lib\\site-packages\\torch\\serialization.py:292: UserWarning: Couldn't retrieve source code for container of type Sequential. It won't be checked for correctness upon loading.\n",
      "  \"type \" + obj.__name__ + \". It won't be checked \"\n",
      "C:\\ProgramData\\Anaconda3\\lib\\site-packages\\torch\\serialization.py:292: UserWarning: Couldn't retrieve source code for container of type Bottleneck. It won't be checked for correctness upon loading.\n",
      "  \"type \" + obj.__name__ + \". It won't be checked \"\n",
      "C:\\ProgramData\\Anaconda3\\lib\\site-packages\\torch\\serialization.py:292: UserWarning: Couldn't retrieve source code for container of type AdaptiveAvgPool2d. It won't be checked for correctness upon loading.\n",
      "  \"type \" + obj.__name__ + \". It won't be checked \"\n",
      "C:\\ProgramData\\Anaconda3\\lib\\site-packages\\torch\\serialization.py:292: UserWarning: Couldn't retrieve source code for container of type Linear. It won't be checked for correctness upon loading.\n",
      "  \"type \" + obj.__name__ + \". It won't be checked \"\n",
      "C:\\ProgramData\\Anaconda3\\lib\\site-packages\\torch\\serialization.py:292: UserWarning: Couldn't retrieve source code for container of type CrossEntropyLoss. It won't be checked for correctness upon loading.\n",
      "  \"type \" + obj.__name__ + \". It won't be checked \"\n"
     ]
    },
    {
     "name": "stdout",
     "output_type": "stream",
     "text": [
      "Epoch: 15\t100.00% complete. 734.92 seconds elapsed in epoch.\n",
      "Epoch: 15 \tTraining Loss: 2.0155 \tValidation Loss: 1.8129\n",
      "\t\tTraining Accuracy: 50.27%\t Validation Accuracy: 53.81%\n",
      "Epoch: 16\t100.00% complete. 734.16 seconds elapsed in epoch.\n",
      "Epoch: 16 \tTraining Loss: 2.0128 \tValidation Loss: 1.8105\n",
      "\t\tTraining Accuracy: 50.50%\t Validation Accuracy: 54.08%\n",
      "Epoch: 17\t100.00% complete. 734.29 seconds elapsed in epoch.\n",
      "Epoch: 17 \tTraining Loss: 2.0155 \tValidation Loss: 1.7996\n",
      "\t\tTraining Accuracy: 50.36%\t Validation Accuracy: 54.12%\n",
      "Epoch: 18\t100.00% complete. 734.67 seconds elapsed in epoch.\n",
      "Epoch: 18 \tTraining Loss: 1.9975 \tValidation Loss: 1.8171\n",
      "\t\tTraining Accuracy: 50.64%\t Validation Accuracy: 54.02%\n",
      "Epoch: 19\t100.00% complete. 745.99 seconds elapsed in epoch.\n",
      "Epoch: 19 \tTraining Loss: 2.0062 \tValidation Loss: 1.7930\n",
      "\t\tTraining Accuracy: 50.52%\t Validation Accuracy: 54.73%\n",
      "Valid loss decreased (1.793496 --> 1.793043). Saving model...\n"
     ]
    },
    {
     "name": "stderr",
     "output_type": "stream",
     "text": [
      "C:\\ProgramData\\Anaconda3\\lib\\site-packages\\torch\\serialization.py:292: UserWarning: Couldn't retrieve source code for container of type ResNet. It won't be checked for correctness upon loading.\n",
      "  \"type \" + obj.__name__ + \". It won't be checked \"\n",
      "C:\\ProgramData\\Anaconda3\\lib\\site-packages\\torch\\serialization.py:292: UserWarning: Couldn't retrieve source code for container of type Conv2d. It won't be checked for correctness upon loading.\n",
      "  \"type \" + obj.__name__ + \". It won't be checked \"\n",
      "C:\\ProgramData\\Anaconda3\\lib\\site-packages\\torch\\serialization.py:292: UserWarning: Couldn't retrieve source code for container of type BatchNorm2d. It won't be checked for correctness upon loading.\n",
      "  \"type \" + obj.__name__ + \". It won't be checked \"\n",
      "C:\\ProgramData\\Anaconda3\\lib\\site-packages\\torch\\serialization.py:292: UserWarning: Couldn't retrieve source code for container of type ReLU. It won't be checked for correctness upon loading.\n",
      "  \"type \" + obj.__name__ + \". It won't be checked \"\n",
      "C:\\ProgramData\\Anaconda3\\lib\\site-packages\\torch\\serialization.py:292: UserWarning: Couldn't retrieve source code for container of type MaxPool2d. It won't be checked for correctness upon loading.\n",
      "  \"type \" + obj.__name__ + \". It won't be checked \"\n",
      "C:\\ProgramData\\Anaconda3\\lib\\site-packages\\torch\\serialization.py:292: UserWarning: Couldn't retrieve source code for container of type Sequential. It won't be checked for correctness upon loading.\n",
      "  \"type \" + obj.__name__ + \". It won't be checked \"\n",
      "C:\\ProgramData\\Anaconda3\\lib\\site-packages\\torch\\serialization.py:292: UserWarning: Couldn't retrieve source code for container of type Bottleneck. It won't be checked for correctness upon loading.\n",
      "  \"type \" + obj.__name__ + \". It won't be checked \"\n",
      "C:\\ProgramData\\Anaconda3\\lib\\site-packages\\torch\\serialization.py:292: UserWarning: Couldn't retrieve source code for container of type AdaptiveAvgPool2d. It won't be checked for correctness upon loading.\n",
      "  \"type \" + obj.__name__ + \". It won't be checked \"\n",
      "C:\\ProgramData\\Anaconda3\\lib\\site-packages\\torch\\serialization.py:292: UserWarning: Couldn't retrieve source code for container of type Linear. It won't be checked for correctness upon loading.\n",
      "  \"type \" + obj.__name__ + \". It won't be checked \"\n",
      "C:\\ProgramData\\Anaconda3\\lib\\site-packages\\torch\\serialization.py:292: UserWarning: Couldn't retrieve source code for container of type CrossEntropyLoss. It won't be checked for correctness upon loading.\n",
      "  \"type \" + obj.__name__ + \". It won't be checked \"\n"
     ]
    },
    {
     "name": "stdout",
     "output_type": "stream",
     "text": [
      "Epoch: 20\t100.00% complete. 739.72 seconds elapsed in epoch.\n",
      "Epoch: 20 \tTraining Loss: 2.0028 \tValidation Loss: 1.7675\n",
      "\t\tTraining Accuracy: 50.55%\t Validation Accuracy: 55.13%\n",
      "Valid loss decreased (1.793043 --> 1.767523). Saving model...\n"
     ]
    },
    {
     "name": "stderr",
     "output_type": "stream",
     "text": [
      "C:\\ProgramData\\Anaconda3\\lib\\site-packages\\torch\\serialization.py:292: UserWarning: Couldn't retrieve source code for container of type ResNet. It won't be checked for correctness upon loading.\n",
      "  \"type \" + obj.__name__ + \". It won't be checked \"\n",
      "C:\\ProgramData\\Anaconda3\\lib\\site-packages\\torch\\serialization.py:292: UserWarning: Couldn't retrieve source code for container of type Conv2d. It won't be checked for correctness upon loading.\n",
      "  \"type \" + obj.__name__ + \". It won't be checked \"\n",
      "C:\\ProgramData\\Anaconda3\\lib\\site-packages\\torch\\serialization.py:292: UserWarning: Couldn't retrieve source code for container of type BatchNorm2d. It won't be checked for correctness upon loading.\n",
      "  \"type \" + obj.__name__ + \". It won't be checked \"\n",
      "C:\\ProgramData\\Anaconda3\\lib\\site-packages\\torch\\serialization.py:292: UserWarning: Couldn't retrieve source code for container of type ReLU. It won't be checked for correctness upon loading.\n",
      "  \"type \" + obj.__name__ + \". It won't be checked \"\n",
      "C:\\ProgramData\\Anaconda3\\lib\\site-packages\\torch\\serialization.py:292: UserWarning: Couldn't retrieve source code for container of type MaxPool2d. It won't be checked for correctness upon loading.\n",
      "  \"type \" + obj.__name__ + \". It won't be checked \"\n",
      "C:\\ProgramData\\Anaconda3\\lib\\site-packages\\torch\\serialization.py:292: UserWarning: Couldn't retrieve source code for container of type Sequential. It won't be checked for correctness upon loading.\n",
      "  \"type \" + obj.__name__ + \". It won't be checked \"\n",
      "C:\\ProgramData\\Anaconda3\\lib\\site-packages\\torch\\serialization.py:292: UserWarning: Couldn't retrieve source code for container of type Bottleneck. It won't be checked for correctness upon loading.\n",
      "  \"type \" + obj.__name__ + \". It won't be checked \"\n",
      "C:\\ProgramData\\Anaconda3\\lib\\site-packages\\torch\\serialization.py:292: UserWarning: Couldn't retrieve source code for container of type AdaptiveAvgPool2d. It won't be checked for correctness upon loading.\n",
      "  \"type \" + obj.__name__ + \". It won't be checked \"\n",
      "C:\\ProgramData\\Anaconda3\\lib\\site-packages\\torch\\serialization.py:292: UserWarning: Couldn't retrieve source code for container of type Linear. It won't be checked for correctness upon loading.\n",
      "  \"type \" + obj.__name__ + \". It won't be checked \"\n",
      "C:\\ProgramData\\Anaconda3\\lib\\site-packages\\torch\\serialization.py:292: UserWarning: Couldn't retrieve source code for container of type CrossEntropyLoss. It won't be checked for correctness upon loading.\n",
      "  \"type \" + obj.__name__ + \". It won't be checked \"\n"
     ]
    },
    {
     "name": "stdout",
     "output_type": "stream",
     "text": [
      "Epoch: 21\t100.00% complete. 740.19 seconds elapsed in epoch.\n",
      "Epoch: 21 \tTraining Loss: 2.0026 \tValidation Loss: 1.7686\n",
      "\t\tTraining Accuracy: 50.74%\t Validation Accuracy: 54.87%\n",
      "Epoch: 22\t100.00% complete. 740.01 seconds elapsed in epoch.\n",
      "Epoch: 22 \tTraining Loss: 1.9991 \tValidation Loss: 1.7918\n",
      "\t\tTraining Accuracy: 50.81%\t Validation Accuracy: 54.39%\n",
      "Epoch: 23\t100.00% complete. 739.71 seconds elapsed in epoch.\n",
      "Epoch: 23 \tTraining Loss: 2.0010 \tValidation Loss: 1.7861\n",
      "\t\tTraining Accuracy: 50.65%\t Validation Accuracy: 54.89%\n",
      "Epoch: 24\t100.00% complete. 739.58 seconds elapsed in epoch.\n",
      "Epoch: 24 \tTraining Loss: 1.9953 \tValidation Loss: 1.7906\n",
      "\t\tTraining Accuracy: 50.88%\t Validation Accuracy: 54.85%\n",
      "Epoch: 25\t100.00% complete. 740.67 seconds elapsed in epoch.\n",
      "Epoch: 25 \tTraining Loss: 1.9947 \tValidation Loss: 1.7961\n",
      "\t\tTraining Accuracy: 51.01%\t Validation Accuracy: 54.28%\n",
      "Epoch: 26\t100.00% complete. 739.97 seconds elapsed in epoch.\n",
      "Epoch: 26 \tTraining Loss: 1.9949 \tValidation Loss: 1.7821\n",
      "\t\tTraining Accuracy: 50.74%\t Validation Accuracy: 55.08%\n",
      "Epoch: 27\t100.00% complete. 739.22 seconds elapsed in epoch.\n",
      "Epoch: 27 \tTraining Loss: 1.9839 \tValidation Loss: 1.7673\n",
      "\t\tTraining Accuracy: 51.05%\t Validation Accuracy: 55.01%\n",
      "Valid loss decreased (1.767523 --> 1.767327). Saving model...\n"
     ]
    },
    {
     "name": "stderr",
     "output_type": "stream",
     "text": [
      "C:\\ProgramData\\Anaconda3\\lib\\site-packages\\torch\\serialization.py:292: UserWarning: Couldn't retrieve source code for container of type ResNet. It won't be checked for correctness upon loading.\n",
      "  \"type \" + obj.__name__ + \". It won't be checked \"\n",
      "C:\\ProgramData\\Anaconda3\\lib\\site-packages\\torch\\serialization.py:292: UserWarning: Couldn't retrieve source code for container of type Conv2d. It won't be checked for correctness upon loading.\n",
      "  \"type \" + obj.__name__ + \". It won't be checked \"\n",
      "C:\\ProgramData\\Anaconda3\\lib\\site-packages\\torch\\serialization.py:292: UserWarning: Couldn't retrieve source code for container of type BatchNorm2d. It won't be checked for correctness upon loading.\n",
      "  \"type \" + obj.__name__ + \". It won't be checked \"\n",
      "C:\\ProgramData\\Anaconda3\\lib\\site-packages\\torch\\serialization.py:292: UserWarning: Couldn't retrieve source code for container of type ReLU. It won't be checked for correctness upon loading.\n",
      "  \"type \" + obj.__name__ + \". It won't be checked \"\n",
      "C:\\ProgramData\\Anaconda3\\lib\\site-packages\\torch\\serialization.py:292: UserWarning: Couldn't retrieve source code for container of type MaxPool2d. It won't be checked for correctness upon loading.\n",
      "  \"type \" + obj.__name__ + \". It won't be checked \"\n",
      "C:\\ProgramData\\Anaconda3\\lib\\site-packages\\torch\\serialization.py:292: UserWarning: Couldn't retrieve source code for container of type Sequential. It won't be checked for correctness upon loading.\n",
      "  \"type \" + obj.__name__ + \". It won't be checked \"\n",
      "C:\\ProgramData\\Anaconda3\\lib\\site-packages\\torch\\serialization.py:292: UserWarning: Couldn't retrieve source code for container of type Bottleneck. It won't be checked for correctness upon loading.\n",
      "  \"type \" + obj.__name__ + \". It won't be checked \"\n",
      "C:\\ProgramData\\Anaconda3\\lib\\site-packages\\torch\\serialization.py:292: UserWarning: Couldn't retrieve source code for container of type AdaptiveAvgPool2d. It won't be checked for correctness upon loading.\n",
      "  \"type \" + obj.__name__ + \". It won't be checked \"\n",
      "C:\\ProgramData\\Anaconda3\\lib\\site-packages\\torch\\serialization.py:292: UserWarning: Couldn't retrieve source code for container of type Linear. It won't be checked for correctness upon loading.\n",
      "  \"type \" + obj.__name__ + \". It won't be checked \"\n",
      "C:\\ProgramData\\Anaconda3\\lib\\site-packages\\torch\\serialization.py:292: UserWarning: Couldn't retrieve source code for container of type CrossEntropyLoss. It won't be checked for correctness upon loading.\n",
      "  \"type \" + obj.__name__ + \". It won't be checked \"\n"
     ]
    },
    {
     "name": "stdout",
     "output_type": "stream",
     "text": [
      "Epoch: 28\t100.00% complete. 741.31 seconds elapsed in epoch.\n",
      "Epoch: 28 \tTraining Loss: 1.9731 \tValidation Loss: 1.7588\n",
      "\t\tTraining Accuracy: 51.28%\t Validation Accuracy: 55.39%\n",
      "Valid loss decreased (1.767327 --> 1.758840). Saving model...\n"
     ]
    },
    {
     "name": "stderr",
     "output_type": "stream",
     "text": [
      "C:\\ProgramData\\Anaconda3\\lib\\site-packages\\torch\\serialization.py:292: UserWarning: Couldn't retrieve source code for container of type ResNet. It won't be checked for correctness upon loading.\n",
      "  \"type \" + obj.__name__ + \". It won't be checked \"\n",
      "C:\\ProgramData\\Anaconda3\\lib\\site-packages\\torch\\serialization.py:292: UserWarning: Couldn't retrieve source code for container of type Conv2d. It won't be checked for correctness upon loading.\n",
      "  \"type \" + obj.__name__ + \". It won't be checked \"\n",
      "C:\\ProgramData\\Anaconda3\\lib\\site-packages\\torch\\serialization.py:292: UserWarning: Couldn't retrieve source code for container of type BatchNorm2d. It won't be checked for correctness upon loading.\n",
      "  \"type \" + obj.__name__ + \". It won't be checked \"\n",
      "C:\\ProgramData\\Anaconda3\\lib\\site-packages\\torch\\serialization.py:292: UserWarning: Couldn't retrieve source code for container of type ReLU. It won't be checked for correctness upon loading.\n",
      "  \"type \" + obj.__name__ + \". It won't be checked \"\n",
      "C:\\ProgramData\\Anaconda3\\lib\\site-packages\\torch\\serialization.py:292: UserWarning: Couldn't retrieve source code for container of type MaxPool2d. It won't be checked for correctness upon loading.\n",
      "  \"type \" + obj.__name__ + \". It won't be checked \"\n",
      "C:\\ProgramData\\Anaconda3\\lib\\site-packages\\torch\\serialization.py:292: UserWarning: Couldn't retrieve source code for container of type Sequential. It won't be checked for correctness upon loading.\n",
      "  \"type \" + obj.__name__ + \". It won't be checked \"\n",
      "C:\\ProgramData\\Anaconda3\\lib\\site-packages\\torch\\serialization.py:292: UserWarning: Couldn't retrieve source code for container of type Bottleneck. It won't be checked for correctness upon loading.\n",
      "  \"type \" + obj.__name__ + \". It won't be checked \"\n",
      "C:\\ProgramData\\Anaconda3\\lib\\site-packages\\torch\\serialization.py:292: UserWarning: Couldn't retrieve source code for container of type AdaptiveAvgPool2d. It won't be checked for correctness upon loading.\n",
      "  \"type \" + obj.__name__ + \". It won't be checked \"\n",
      "C:\\ProgramData\\Anaconda3\\lib\\site-packages\\torch\\serialization.py:292: UserWarning: Couldn't retrieve source code for container of type Linear. It won't be checked for correctness upon loading.\n",
      "  \"type \" + obj.__name__ + \". It won't be checked \"\n",
      "C:\\ProgramData\\Anaconda3\\lib\\site-packages\\torch\\serialization.py:292: UserWarning: Couldn't retrieve source code for container of type CrossEntropyLoss. It won't be checked for correctness upon loading.\n",
      "  \"type \" + obj.__name__ + \". It won't be checked \"\n"
     ]
    },
    {
     "name": "stdout",
     "output_type": "stream",
     "text": [
      "Epoch: 29\t100.00% complete. 741.17 seconds elapsed in epoch.\n",
      "Epoch: 29 \tTraining Loss: 1.9679 \tValidation Loss: 1.7888\n",
      "\t\tTraining Accuracy: 51.56%\t Validation Accuracy: 54.61%\n",
      "Epoch: 30\t100.00% complete. 740.73 seconds elapsed in epoch.\n",
      "Epoch: 30 \tTraining Loss: 1.9702 \tValidation Loss: 1.7837\n",
      "\t\tTraining Accuracy: 51.30%\t Validation Accuracy: 54.80%\n",
      "Epoch: 31\t100.00% complete. 743.55 seconds elapsed in epoch.\n",
      "Epoch: 31 \tTraining Loss: 1.9639 \tValidation Loss: 1.7646\n",
      "\t\tTraining Accuracy: 51.60%\t Validation Accuracy: 55.01%\n",
      "Epoch: 32\t100.00% complete. 742.24 seconds elapsed in epoch.\n",
      "Epoch: 32 \tTraining Loss: 1.9715 \tValidation Loss: 1.7626\n",
      "\t\tTraining Accuracy: 51.50%\t Validation Accuracy: 55.28%\n",
      "Epoch: 33\t100.00% complete. 744.02 seconds elapsed in epoch.\n",
      "Epoch: 33 \tTraining Loss: 1.9711 \tValidation Loss: 1.7600\n",
      "\t\tTraining Accuracy: 51.40%\t Validation Accuracy: 55.14%\n",
      "Epoch: 34\t100.00% complete. 743.00 seconds elapsed in epoch.\n",
      "Epoch: 34 \tTraining Loss: 1.9644 \tValidation Loss: 1.7809\n",
      "\t\tTraining Accuracy: 51.66%\t Validation Accuracy: 54.82%\n",
      "Epoch: 35\t100.00% complete. 742.54 seconds elapsed in epoch.\n",
      "Epoch: 35 \tTraining Loss: 1.9603 \tValidation Loss: 1.7733\n",
      "\t\tTraining Accuracy: 51.72%\t Validation Accuracy: 55.05%\n",
      "Epoch: 36\t100.00% complete. 742.84 seconds elapsed in epoch.\n",
      "Epoch: 36 \tTraining Loss: 1.9624 \tValidation Loss: 1.7713\n",
      "\t\tTraining Accuracy: 51.52%\t Validation Accuracy: 54.86%\n",
      "Epoch: 37\t76.69% complete. 572.89 seconds elapsed in epoch.\r"
>>>>>>> 4ba713ef2e6cdb14575a8c33a410ab03df9155fb
     ]
    }
   ],
   "source": [
    "model, history = train_model(\n",
    "    model,\n",
    "    criterion,\n",
    "    optimizer,\n",
    "    scheduler,\n",
    "    dataloaders['train'],\n",
    "    dataloaders['val'],\n",
    "    save_file_name=save_file_name,\n",
    "    checkpoint_file_name=checkpoint_file_name,\n",
    "    max_epochs_stop=15,\n",
    "    n_epochs=150,\n",
    "    print_every=1\n",
    "    )"
   ]
  }
 ],
 "metadata": {
  "kernelspec": {
   "display_name": "Python 3",
   "language": "python",
   "name": "python3"
  },
  "language_info": {
   "codemirror_mode": {
    "name": "ipython",
    "version": 3
   },
   "file_extension": ".py",
   "mimetype": "text/x-python",
   "name": "python",
   "nbconvert_exporter": "python",
   "pygments_lexer": "ipython3",
   "version": "3.7.4"
  }
 },
 "nbformat": 4,
 "nbformat_minor": 2
}
