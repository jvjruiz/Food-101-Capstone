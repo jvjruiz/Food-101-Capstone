{
 "cells": [
  {
   "cell_type": "markdown",
   "metadata": {},
   "source": [
    "### Food Image Classification With a CNN"
   ]
  },
  {
   "cell_type": "code",
   "execution_count": 1,
   "metadata": {},
   "outputs": [],
   "source": [
    "# load the necessary packages\n",
    "from __future__ import absolute_import, division, print_function, unicode_literals\n",
    "import tensorflow as tf\n",
    "from tensorflow.keras.models import Sequential\n",
    "from tensorflow.keras.layers import Dense, Conv2D, Flatten, Dropout, MaxPooling2D, BatchNormalization\n",
    "from tensorflow.keras.preprocessing.image import ImageDataGenerator\n",
    "import pandas as pd\n",
    "\n",
    "import os\n",
    "import numpy as np\n",
    "import matplotlib.pyplot as plt"
   ]
  },
  {
   "cell_type": "markdown",
   "metadata": {},
   "source": [
    "### Load and Preprocess Data for Model"
   ]
  },
  {
   "cell_type": "code",
   "execution_count": 2,
   "metadata": {},
   "outputs": [],
   "source": [
    "batch_size = 150\n",
    "epochs = 15\n",
    "IMG_HEIGHT = 180\n",
    "IMG_WIDTH = 180\n",
    "train_dir = 'data/resized/train'\n",
    "test_dir = 'data/resized/test'\n",
    "dropout_rate = 0.15"
   ]
  },
  {
   "cell_type": "code",
   "execution_count": 3,
   "metadata": {},
   "outputs": [],
   "source": [
    "train_image_generator = ImageDataGenerator(rescale=1./255)\n",
    "test_image_generator = ImageDataGenerator(rescale=1./255)"
   ]
  },
  {
   "cell_type": "code",
   "execution_count": 4,
   "metadata": {},
   "outputs": [
    {
     "name": "stdout",
     "output_type": "stream",
     "text": [
      "Found 75750 images belonging to 101 classes.\n"
     ]
    }
   ],
   "source": [
    "train_data_gen = train_image_generator.flow_from_directory(batch_size=batch_size,\n",
    "                                                          directory=train_dir,\n",
    "                                                          shuffle=True,\n",
    "                                                          target_size=(IMG_HEIGHT,IMG_WIDTH))"
   ]
  },
  {
   "cell_type": "code",
   "execution_count": 5,
   "metadata": {},
   "outputs": [
    {
     "name": "stdout",
     "output_type": "stream",
     "text": [
      "Found 25250 images belonging to 101 classes.\n"
     ]
    }
   ],
   "source": [
    "test_data_gen = test_image_generator.flow_from_directory(batch_size=batch_size,\n",
    "                                                          directory=test_dir,\n",
    "                                                          shuffle=True,\n",
    "                                                          target_size=(IMG_HEIGHT,IMG_WIDTH))"
   ]
  },
  {
   "cell_type": "code",
   "execution_count": 6,
   "metadata": {},
   "outputs": [],
   "source": [
    "model = Sequential([\n",
    "    Conv2D(64, 3, padding='same', activation='relu', input_shape=(IMG_HEIGHT, IMG_WIDTH ,3)),\n",
    "    MaxPooling2D(),\n",
    "    BatchNormalization(),\n",
    "    Dropout(rate=dropout_rate),\n",
    "    Conv2D(128, 3, padding='same', activation='relu'),\n",
    "    MaxPooling2D(),\n",
    "    BatchNormalization(),\n",
    "    Dropout(rate=dropout_rate),\n",
    "    Conv2D(256, 5, padding='same', activation='relu'),\n",
    "    MaxPooling2D(),\n",
    "    BatchNormalization(),\n",
    "    Dropout(rate=dropout_rate),\n",
    "    Conv2D(512, 5, padding='same', activation='relu'),\n",
    "    MaxPooling2D(),\n",
    "    BatchNormalization(),\n",
    "    Dropout(rate=dropout_rate),\n",
    "    Flatten(),\n",
    "    Dense(128, activation='relu'),\n",
    "    BatchNormalization(),\n",
    "    Dense(256, activation='relu'),\n",
    "    BatchNormalization(),\n",
    "    Dense(512, activation='relu'),\n",
    "    BatchNormalization(),\n",
    "    Dense(1024, activation='relu'),\n",
    "    BatchNormalization(),\n",
    "    Dense(101,activation=None)\n",
    "])"
   ]
  },
  {
   "cell_type": "code",
   "execution_count": 7,
   "metadata": {},
   "outputs": [],
   "source": [
    "model.compile(optimizer='adam',\n",
    "              loss='cosine_similarity',\n",
    "              metrics=['accuracy'])"
   ]
  },
  {
   "cell_type": "code",
   "execution_count": 8,
   "metadata": {},
   "outputs": [
    {
     "name": "stdout",
     "output_type": "stream",
     "text": [
      "Model: \"sequential\"\n",
      "_________________________________________________________________\n",
      "Layer (type)                 Output Shape              Param #   \n",
      "=================================================================\n",
      "conv2d (Conv2D)              (None, 180, 180, 64)      1792      \n",
      "_________________________________________________________________\n",
      "max_pooling2d (MaxPooling2D) (None, 90, 90, 64)        0         \n",
      "_________________________________________________________________\n",
      "batch_normalization (BatchNo (None, 90, 90, 64)        256       \n",
      "_________________________________________________________________\n",
      "dropout (Dropout)            (None, 90, 90, 64)        0         \n",
      "_________________________________________________________________\n",
      "conv2d_1 (Conv2D)            (None, 90, 90, 128)       73856     \n",
      "_________________________________________________________________\n",
      "max_pooling2d_1 (MaxPooling2 (None, 45, 45, 128)       0         \n",
      "_________________________________________________________________\n",
      "batch_normalization_1 (Batch (None, 45, 45, 128)       512       \n",
      "_________________________________________________________________\n",
      "dropout_1 (Dropout)          (None, 45, 45, 128)       0         \n",
      "_________________________________________________________________\n",
      "conv2d_2 (Conv2D)            (None, 45, 45, 256)       819456    \n",
      "_________________________________________________________________\n",
      "max_pooling2d_2 (MaxPooling2 (None, 22, 22, 256)       0         \n",
      "_________________________________________________________________\n",
      "batch_normalization_2 (Batch (None, 22, 22, 256)       1024      \n",
      "_________________________________________________________________\n",
      "dropout_2 (Dropout)          (None, 22, 22, 256)       0         \n",
      "_________________________________________________________________\n",
      "conv2d_3 (Conv2D)            (None, 22, 22, 512)       3277312   \n",
      "_________________________________________________________________\n",
      "max_pooling2d_3 (MaxPooling2 (None, 11, 11, 512)       0         \n",
      "_________________________________________________________________\n",
      "batch_normalization_3 (Batch (None, 11, 11, 512)       2048      \n",
      "_________________________________________________________________\n",
      "dropout_3 (Dropout)          (None, 11, 11, 512)       0         \n",
      "_________________________________________________________________\n",
      "flatten (Flatten)            (None, 61952)             0         \n",
      "_________________________________________________________________\n",
      "dense (Dense)                (None, 128)               7929984   \n",
      "_________________________________________________________________\n",
      "batch_normalization_4 (Batch (None, 128)               512       \n",
      "_________________________________________________________________\n",
      "dense_1 (Dense)              (None, 256)               33024     \n",
      "_________________________________________________________________\n",
      "batch_normalization_5 (Batch (None, 256)               1024      \n",
      "_________________________________________________________________\n",
      "dense_2 (Dense)              (None, 512)               131584    \n",
      "_________________________________________________________________\n",
      "batch_normalization_6 (Batch (None, 512)               2048      \n",
      "_________________________________________________________________\n",
      "dense_3 (Dense)              (None, 1024)              525312    \n",
      "_________________________________________________________________\n",
      "batch_normalization_7 (Batch (None, 1024)              4096      \n",
      "_________________________________________________________________\n",
      "dense_4 (Dense)              (None, 101)               103525    \n",
      "=================================================================\n",
      "Total params: 12,907,365\n",
      "Trainable params: 12,901,605\n",
      "Non-trainable params: 5,760\n",
      "_________________________________________________________________\n"
     ]
    }
   ],
   "source": [
    "model.summary()"
   ]
  },
  {
   "cell_type": "code",
   "execution_count": 9,
   "metadata": {
    "scrolled": true
   },
   "outputs": [
    {
     "name": "stdout",
     "output_type": "stream",
     "text": [
      "Epoch 1/15\n",
      "505/505 [==============================] - 753s 1s/step - loss: -0.1509 - accuracy: 0.0899 - val_loss: -0.0435 - val_accuracy: 0.0197\n",
      "Epoch 2/15\n",
      "505/505 [==============================] - 746s 1s/step - loss: -0.2410 - accuracy: 0.1785 - val_loss: -0.2585 - val_accuracy: 0.1937\n",
      "Epoch 3/15\n",
      "505/505 [==============================] - 745s 1s/step - loss: -0.3122 - accuracy: 0.2601 - val_loss: -0.3322 - val_accuracy: 0.2745\n",
      "Epoch 4/15\n",
      "505/505 [==============================] - 744s 1s/step - loss: -0.3865 - accuracy: 0.3441 - val_loss: -0.3582 - val_accuracy: 0.3031\n",
      "Epoch 5/15\n",
      "505/505 [==============================] - 742s 1s/step - loss: -0.4674 - accuracy: 0.4376 - val_loss: -0.3932 - val_accuracy: 0.3433\n",
      "Epoch 6/15\n",
      "505/505 [==============================] - 741s 1s/step - loss: -0.5554 - accuracy: 0.5397 - val_loss: -0.3745 - val_accuracy: 0.3223\n",
      "Epoch 7/15\n",
      "505/505 [==============================] - 739s 1s/step - loss: -0.6357 - accuracy: 0.6291 - val_loss: -0.4136 - val_accuracy: 0.3653\n",
      "Epoch 8/15\n",
      "505/505 [==============================] - 738s 1s/step - loss: -0.6997 - accuracy: 0.6979 - val_loss: -0.3807 - val_accuracy: 0.3309\n",
      "Epoch 9/15\n",
      "505/505 [==============================] - 738s 1s/step - loss: -0.7501 - accuracy: 0.7519 - val_loss: -0.3686 - val_accuracy: 0.3241\n",
      "Epoch 10/15\n",
      "505/505 [==============================] - 739s 1s/step - loss: -0.7866 - accuracy: 0.7903 - val_loss: -0.4346 - val_accuracy: 0.3915\n",
      "Epoch 11/15\n",
      "505/505 [==============================] - 739s 1s/step - loss: -0.8154 - accuracy: 0.8208 - val_loss: -0.4228 - val_accuracy: 0.3796\n",
      "Epoch 12/15\n",
      "505/505 [==============================] - 739s 1s/step - loss: -0.8356 - accuracy: 0.8411 - val_loss: -0.4359 - val_accuracy: 0.3954\n",
      "Epoch 13/15\n",
      "505/505 [==============================] - 739s 1s/step - loss: -0.8517 - accuracy: 0.8572 - val_loss: -0.4275 - val_accuracy: 0.3856\n",
      "Epoch 14/15\n",
      "505/505 [==============================] - 739s 1s/step - loss: -0.8633 - accuracy: 0.8687 - val_loss: -0.4087 - val_accuracy: 0.3684\n",
      "Epoch 15/15\n",
      "505/505 [==============================] - 738s 1s/step - loss: -0.8747 - accuracy: 0.8804 - val_loss: -0.4286 - val_accuracy: 0.3886\n"
     ]
    }
   ],
   "source": [
    "history = model.fit_generator(\n",
    "    train_data_gen,\n",
    "    steps_per_epoch=75750//batch_size,\n",
    "    epochs=epochs,\n",
    "    validation_data=test_data_gen,\n",
    "    validation_steps=25250//batch_size,\n",
    "    workers=1,\n",
    "    use_multiprocessing=False\n",
    ")"
   ]
  },
  {
   "cell_type": "code",
   "execution_count": 11,
   "metadata": {},
   "outputs": [],
   "source": [
    "if not os.path.isdir('./tmp/models'):\n",
    "    os.makedirs('./tmp/models')\n",
    "model.save('tmp/models/CNN_MODEL_V1.h5')"
   ]
  }
 ],
 "metadata": {
  "kernelspec": {
   "display_name": "Python 3",
   "language": "python",
   "name": "python3"
  },
  "language_info": {
   "codemirror_mode": {
    "name": "ipython",
    "version": 3
   },
   "file_extension": ".py",
   "mimetype": "text/x-python",
   "name": "python",
   "nbconvert_exporter": "python",
   "pygments_lexer": "ipython3",
   "version": "3.7.3"
  }
 },
 "nbformat": 4,
 "nbformat_minor": 2
}
