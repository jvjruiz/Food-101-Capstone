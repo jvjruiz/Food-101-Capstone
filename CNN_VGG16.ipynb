{
 "cells": [
  {
   "cell_type": "markdown",
   "metadata": {},
   "source": [
    "### Food Image Classification With a CNN w/ Transfer Learning via VGG16"
   ]
  },
  {
   "cell_type": "code",
   "execution_count": 1,
   "metadata": {},
   "outputs": [],
   "source": [
    "# load the necessary packages\n",
    "from __future__ import absolute_import, division, print_function, unicode_literals\n",
    "import tensorflow as tf\n",
    "from tensorflow.keras.layers import Input, AveragePooling2D, Dense, Dropout, Flatten\n",
    "from tensorflow.keras.preprocessing.image import ImageDataGenerator\n",
    "from tensorflow.keras.applications import VGG16\n",
    "from tensorflow.keras.callbacks import EarlyStopping\n",
    "from tensorflow.keras.models import Model\n",
    "import pandas as pd\n",
    "\n",
    "import os\n",
    "import numpy as np\n",
    "import matplotlib.pyplot as plt"
   ]
  },
  {
   "cell_type": "markdown",
   "metadata": {},
   "source": [
    "### Load and Preprocess Data for Model"
   ]
  },
  {
   "cell_type": "code",
   "execution_count": 2,
   "metadata": {
    "scrolled": true
   },
   "outputs": [
    {
     "name": "stdout",
     "output_type": "stream",
     "text": [
      "Model: \"vgg16\"\n",
      "_________________________________________________________________\n",
      "Layer (type)                 Output Shape              Param #   \n",
      "=================================================================\n",
      "input_1 (InputLayer)         [(None, 180, 180, 3)]     0         \n",
      "_________________________________________________________________\n",
      "block1_conv1 (Conv2D)        (None, 180, 180, 64)      1792      \n",
      "_________________________________________________________________\n",
      "block1_conv2 (Conv2D)        (None, 180, 180, 64)      36928     \n",
      "_________________________________________________________________\n",
      "block1_pool (MaxPooling2D)   (None, 90, 90, 64)        0         \n",
      "_________________________________________________________________\n",
      "block2_conv1 (Conv2D)        (None, 90, 90, 128)       73856     \n",
      "_________________________________________________________________\n",
      "block2_conv2 (Conv2D)        (None, 90, 90, 128)       147584    \n",
      "_________________________________________________________________\n",
      "block2_pool (MaxPooling2D)   (None, 45, 45, 128)       0         \n",
      "_________________________________________________________________\n",
      "block3_conv1 (Conv2D)        (None, 45, 45, 256)       295168    \n",
      "_________________________________________________________________\n",
      "block3_conv2 (Conv2D)        (None, 45, 45, 256)       590080    \n",
      "_________________________________________________________________\n",
      "block3_conv3 (Conv2D)        (None, 45, 45, 256)       590080    \n",
      "_________________________________________________________________\n",
      "block3_pool (MaxPooling2D)   (None, 22, 22, 256)       0         \n",
      "_________________________________________________________________\n",
      "block4_conv1 (Conv2D)        (None, 22, 22, 512)       1180160   \n",
      "_________________________________________________________________\n",
      "block4_conv2 (Conv2D)        (None, 22, 22, 512)       2359808   \n",
      "_________________________________________________________________\n",
      "block4_conv3 (Conv2D)        (None, 22, 22, 512)       2359808   \n",
      "_________________________________________________________________\n",
      "block4_pool (MaxPooling2D)   (None, 11, 11, 512)       0         \n",
      "_________________________________________________________________\n",
      "block5_conv1 (Conv2D)        (None, 11, 11, 512)       2359808   \n",
      "_________________________________________________________________\n",
      "block5_conv2 (Conv2D)        (None, 11, 11, 512)       2359808   \n",
      "_________________________________________________________________\n",
      "block5_conv3 (Conv2D)        (None, 11, 11, 512)       2359808   \n",
      "_________________________________________________________________\n",
      "block5_pool (MaxPooling2D)   (None, 5, 5, 512)         0         \n",
      "=================================================================\n",
      "Total params: 14,714,688\n",
      "Trainable params: 14,714,688\n",
      "Non-trainable params: 0\n",
      "_________________________________________________________________\n"
     ]
    }
   ],
   "source": [
    "# setup model architechture\n",
    "# remove dense top layers from pre-trained model\n",
    "base_model = VGG16(weights='imagenet', \n",
    "              include_top=False, \n",
    "              input_tensor=(Input(shape=(180,180,3)))\n",
    "             )\n",
    "base_model.summary()"
   ]
  },
  {
   "cell_type": "code",
   "execution_count": 3,
   "metadata": {},
   "outputs": [],
   "source": [
    "#add in final layers of model\n",
    "head_model = base_model.output\n",
    "head_model = AveragePooling2D(pool_size=(4,4))(head_model)\n",
    "head_model = Flatten(name='flatten')(head_model)\n",
    "head_model = Dense(180, activation='relu')(head_model)\n",
    "head_model = Dropout(0.5)(head_model)\n",
    "head_model = Dense(101, activation='softmax')(head_model)\n",
    "\n",
    "#place new head model on top of pre-trained network\n",
    "model = Model(inputs=base_model.input, outputs=head_model)\n",
    "\n",
    "#freeze training in pre-trained layers\n",
    "for layer in base_model.layers:\n",
    "    layer.trainable = False"
   ]
  },
  {
   "cell_type": "code",
   "execution_count": 4,
   "metadata": {},
   "outputs": [],
   "source": [
    "# compile model\n",
    "model.compile(optimizer='adam',\n",
    "              loss='cosine_similarity',\n",
    "              metrics=['accuracy'])"
   ]
  },
  {
   "cell_type": "code",
   "execution_count": 5,
   "metadata": {},
   "outputs": [],
   "source": [
    "# Include the epoch in the file name (uses `str.format`)\n",
    "checkpoint_path = \"checkpoints/cp-{epoch:04d}.ckpt\"\n",
    "checkpoint_dir = os.path.dirname(checkpoint_path)\n",
    "\n",
    "# Create a callback that saves the model's weights every 5 epochs\n",
    "cp_callback = tf.keras.callbacks.ModelCheckpoint(\n",
    "    filepath=checkpoint_path, \n",
    "    save_weights_only=True,\n",
    "    save_freq=5)\n",
    "\n",
    "# initialize early stopping callback\n",
    "es_callback = EarlyStopping(monitor=\"val_loss\", patience=3)"
   ]
  },
  {
   "cell_type": "code",
   "execution_count": 6,
   "metadata": {
    "scrolled": true
   },
   "outputs": [
    {
     "name": "stdout",
     "output_type": "stream",
     "text": [
      "Model: \"model\"\n",
      "_________________________________________________________________\n",
      "Layer (type)                 Output Shape              Param #   \n",
      "=================================================================\n",
      "input_1 (InputLayer)         [(None, 180, 180, 3)]     0         \n",
      "_________________________________________________________________\n",
      "block1_conv1 (Conv2D)        (None, 180, 180, 64)      1792      \n",
      "_________________________________________________________________\n",
      "block1_conv2 (Conv2D)        (None, 180, 180, 64)      36928     \n",
      "_________________________________________________________________\n",
      "block1_pool (MaxPooling2D)   (None, 90, 90, 64)        0         \n",
      "_________________________________________________________________\n",
      "block2_conv1 (Conv2D)        (None, 90, 90, 128)       73856     \n",
      "_________________________________________________________________\n",
      "block2_conv2 (Conv2D)        (None, 90, 90, 128)       147584    \n",
      "_________________________________________________________________\n",
      "block2_pool (MaxPooling2D)   (None, 45, 45, 128)       0         \n",
      "_________________________________________________________________\n",
      "block3_conv1 (Conv2D)        (None, 45, 45, 256)       295168    \n",
      "_________________________________________________________________\n",
      "block3_conv2 (Conv2D)        (None, 45, 45, 256)       590080    \n",
      "_________________________________________________________________\n",
      "block3_conv3 (Conv2D)        (None, 45, 45, 256)       590080    \n",
      "_________________________________________________________________\n",
      "block3_pool (MaxPooling2D)   (None, 22, 22, 256)       0         \n",
      "_________________________________________________________________\n",
      "block4_conv1 (Conv2D)        (None, 22, 22, 512)       1180160   \n",
      "_________________________________________________________________\n",
      "block4_conv2 (Conv2D)        (None, 22, 22, 512)       2359808   \n",
      "_________________________________________________________________\n",
      "block4_conv3 (Conv2D)        (None, 22, 22, 512)       2359808   \n",
      "_________________________________________________________________\n",
      "block4_pool (MaxPooling2D)   (None, 11, 11, 512)       0         \n",
      "_________________________________________________________________\n",
      "block5_conv1 (Conv2D)        (None, 11, 11, 512)       2359808   \n",
      "_________________________________________________________________\n",
      "block5_conv2 (Conv2D)        (None, 11, 11, 512)       2359808   \n",
      "_________________________________________________________________\n",
      "block5_conv3 (Conv2D)        (None, 11, 11, 512)       2359808   \n",
      "_________________________________________________________________\n",
      "block5_pool (MaxPooling2D)   (None, 5, 5, 512)         0         \n",
      "_________________________________________________________________\n",
      "average_pooling2d (AveragePo (None, 1, 1, 512)         0         \n",
      "_________________________________________________________________\n",
      "flatten (Flatten)            (None, 512)               0         \n",
      "_________________________________________________________________\n",
      "dense (Dense)                (None, 180)               92340     \n",
      "_________________________________________________________________\n",
      "dropout (Dropout)            (None, 180)               0         \n",
      "_________________________________________________________________\n",
      "dense_1 (Dense)              (None, 101)               18281     \n",
      "=================================================================\n",
      "Total params: 14,825,309\n",
      "Trainable params: 110,621\n",
      "Non-trainable params: 14,714,688\n",
      "_________________________________________________________________\n"
     ]
    }
   ],
   "source": [
    "model.summary()"
   ]
  },
  {
   "cell_type": "code",
   "execution_count": 7,
   "metadata": {},
   "outputs": [],
   "source": [
    "batch_size = 50\n",
    "epochs = 15\n",
    "IMG_HEIGHT = 180\n",
    "IMG_WIDTH = 180\n",
    "train_dir = 'data/resized/train'\n",
    "test_dir = 'data/resized/test'\n",
    "dropout_rate = 0.15"
   ]
  },
  {
   "cell_type": "code",
   "execution_count": 8,
   "metadata": {},
   "outputs": [],
   "source": [
    "train_image_generator = ImageDataGenerator(rescale=1./255)\n",
    "test_image_generator = ImageDataGenerator(rescale=1./255)"
   ]
  },
  {
   "cell_type": "code",
   "execution_count": 9,
   "metadata": {},
   "outputs": [
    {
     "name": "stdout",
     "output_type": "stream",
     "text": [
      "Found 75750 images belonging to 101 classes.\n"
     ]
    }
   ],
   "source": [
    "# initialize training image iterator\n",
    "train_data_gen = train_image_generator.flow_from_directory(batch_size=batch_size,\n",
    "                                                          directory=train_dir,\n",
    "                                                          shuffle=True,\n",
    "                                                          target_size=(IMG_HEIGHT,IMG_WIDTH))"
   ]
  },
  {
   "cell_type": "code",
   "execution_count": 10,
   "metadata": {},
   "outputs": [
    {
     "name": "stdout",
     "output_type": "stream",
     "text": [
      "Found 25250 images belonging to 101 classes.\n"
     ]
    }
   ],
   "source": [
    "# initialize test image iterator\n",
    "test_data_gen = test_image_generator.flow_from_directory(batch_size=batch_size,\n",
    "                                                          directory=test_dir,\n",
    "                                                          shuffle=True,\n",
    "                                                          target_size=(IMG_HEIGHT,IMG_WIDTH))"
   ]
  },
  {
   "cell_type": "code",
   "execution_count": 11,
   "metadata": {
    "scrolled": true
   },
   "outputs": [
    {
     "name": "stdout",
     "output_type": "stream",
     "text": [
      "Epoch 1/15\n",
      "1515/1515 [==============================] - 1070s 706ms/step - loss: -0.1746 - accuracy: 0.1012 - val_loss: -0.2722 - val_accuracy: 0.2172\n",
      "Epoch 2/15\n",
      "1515/1515 [==============================] - 1062s 701ms/step - loss: -0.2408 - accuracy: 0.1685 - val_loss: -0.3183 - val_accuracy: 0.2600\n",
      "Epoch 3/15\n",
      "1515/1515 [==============================] - 1059s 699ms/step - loss: -0.2626 - accuracy: 0.1920 - val_loss: -0.3372 - val_accuracy: 0.2768\n",
      "Epoch 4/15\n",
      "1515/1515 [==============================] - 1053s 695ms/step - loss: -0.2760 - accuracy: 0.2058 - val_loss: -0.3487 - val_accuracy: 0.2891\n",
      "Epoch 5/15\n",
      "1515/1515 [==============================] - 1063s 702ms/step - loss: -0.2845 - accuracy: 0.2152 - val_loss: -0.3580 - val_accuracy: 0.2987\n",
      "Epoch 6/15\n",
      "1515/1515 [==============================] - 1091s 720ms/step - loss: -0.2895 - accuracy: 0.2204 - val_loss: -0.3593 - val_accuracy: 0.2992\n",
      "Epoch 7/15\n",
      "1515/1515 [==============================] - 1070s 706ms/step - loss: -0.2949 - accuracy: 0.2271 - val_loss: -0.3663 - val_accuracy: 0.3053\n",
      "Epoch 8/15\n",
      "1515/1515 [==============================] - 1070s 706ms/step - loss: -0.2998 - accuracy: 0.2326 - val_loss: -0.3698 - val_accuracy: 0.3047\n",
      "Epoch 9/15\n",
      "1515/1515 [==============================] - 1070s 706ms/step - loss: -0.3025 - accuracy: 0.2356 - val_loss: -0.3726 - val_accuracy: 0.3083\n",
      "Epoch 10/15\n",
      "1515/1515 [==============================] - 1060s 700ms/step - loss: -0.3061 - accuracy: 0.2407 - val_loss: -0.3770 - val_accuracy: 0.3149\n",
      "Epoch 11/15\n",
      "1515/1515 [==============================] - 1050s 693ms/step - loss: -0.3079 - accuracy: 0.2424 - val_loss: -0.3811 - val_accuracy: 0.3177\n",
      "Epoch 12/15\n",
      "1515/1515 [==============================] - 1047s 691ms/step - loss: -0.3093 - accuracy: 0.2448 - val_loss: -0.3853 - val_accuracy: 0.3225\n",
      "Epoch 13/15\n",
      "1515/1515 [==============================] - 1055s 696ms/step - loss: -0.3115 - accuracy: 0.2474 - val_loss: -0.3851 - val_accuracy: 0.3199\n",
      "Epoch 14/15\n",
      "1515/1515 [==============================] - 1056s 697ms/step - loss: -0.3146 - accuracy: 0.2495 - val_loss: -0.3819 - val_accuracy: 0.3180\n",
      "Epoch 15/15\n",
      "1515/1515 [==============================] - 1053s 695ms/step - loss: -0.3148 - accuracy: 0.2497 - val_loss: -0.3846 - val_accuracy: 0.3198\n"
     ]
    }
   ],
   "source": [
    "# train model\n",
    "history = model.fit_generator(\n",
    "    train_data_gen,\n",
    "    steps_per_epoch=75750//batch_size,\n",
    "    epochs=epochs,\n",
    "    validation_data=test_data_gen,\n",
    "    validation_steps=25250//batch_size,\n",
    "    workers=1,\n",
    "    use_multiprocessing=False,\n",
    "    callbacks=[es_callback]\n",
    ")"
   ]
  },
  {
   "cell_type": "code",
   "execution_count": 12,
   "metadata": {},
   "outputs": [],
   "source": [
    "# if there is not a saved model, save model for future use\n",
    "if not os.path.isdir('./tmp/models'):\n",
    "    os.makedirs('./tmp/models')\n",
    "model.save('tmp/models/CNN_VGG16_MODEL_V1.h5')"
   ]
  },
  {
   "cell_type": "code",
   "execution_count": 13,
   "metadata": {},
   "outputs": [
    {
     "name": "stdout",
     "output_type": "stream",
     "text": [
      "dict_keys(['loss', 'accuracy', 'val_loss', 'val_accuracy'])\n"
     ]
    },
    {
     "data": {
      "image/png": "[encoded data removed]",
      "text/plain": [
       "<Figure size 432x288 with 1 Axes>"
      ]
     },
     "metadata": {
      "needs_background": "light"
     },
     "output_type": "display_data"
    },
    {
     "data": {
      "image/png": "[encoded data removed]",
      "text/plain": [
       "<Figure size 432x288 with 1 Axes>"
      ]
     },
     "metadata": {
      "needs_background": "light"
     },
     "output_type": "display_data"
    }
   ],
   "source": [
    "# list all data in history\n",
    "print(history.history.keys())\n",
    "# summarize history for accuracy\n",
    "plt.plot(history.history['accuracy'])\n",
    "plt.plot(history.history['val_accuracy'])\n",
    "plt.title('model accuracy')\n",
    "plt.ylabel('accuracy')\n",
    "plt.xlabel('epoch')\n",
    "plt.legend(['train', 'test'], loc='upper left')\n",
    "plt.show()\n",
    "# summarize history for loss\n",
    "plt.plot(history.history['loss'])\n",
    "plt.plot(history.history['val_loss'])\n",
    "plt.title('model loss')\n",
    "plt.ylabel('loss')\n",
    "plt.xlabel('epoch')\n",
    "plt.legend(['train', 'test'], loc='upper left')\n",
    "plt.show()"
   ]
  },
  {
   "cell_type": "code",
   "execution_count": 14,
   "metadata": {},
   "outputs": [
    {
     "name": "stdout",
     "output_type": "stream",
     "text": [
      "Epoch 1/35\n",
      "1515/1515 [==============================] - 1055s 696ms/step - loss: -0.3174 - accuracy: 0.2530 - val_loss: -0.3829 - val_accuracy: 0.3200\n",
      "Epoch 2/35\n",
      "1515/1515 [==============================] - 1049s 693ms/step - loss: -0.3188 - accuracy: 0.2538 - val_loss: -0.3872 - val_accuracy: 0.3224\n",
      "Epoch 3/35\n",
      "1515/1515 [==============================] - 1047s 691ms/step - loss: -0.3210 - accuracy: 0.2580 - val_loss: -0.3884 - val_accuracy: 0.3241\n",
      "Epoch 4/35\n",
      "1515/1515 [==============================] - 1044s 689ms/step - loss: -0.3209 - accuracy: 0.2585 - val_loss: -0.3878 - val_accuracy: 0.3235\n",
      "Epoch 5/35\n",
      "1515/1515 [==============================] - 1041s 687ms/step - loss: -0.3218 - accuracy: 0.2585 - val_loss: -0.3911 - val_accuracy: 0.3264\n",
      "Epoch 6/35\n",
      "1515/1515 [==============================] - 1041s 687ms/step - loss: -0.3233 - accuracy: 0.2593 - val_loss: -0.3900 - val_accuracy: 0.3251\n",
      "Epoch 7/35\n",
      "1515/1515 [==============================] - 1041s 687ms/step - loss: -0.3242 - accuracy: 0.2609 - val_loss: -0.3913 - val_accuracy: 0.3249\n",
      "Epoch 8/35\n",
      "1515/1515 [==============================] - 1040s 686ms/step - loss: -0.3244 - accuracy: 0.2618 - val_loss: -0.3868 - val_accuracy: 0.3204\n",
      "Epoch 9/35\n",
      "1515/1515 [==============================] - 1041s 687ms/step - loss: -0.3250 - accuracy: 0.2625 - val_loss: -0.3924 - val_accuracy: 0.3259\n",
      "Epoch 10/35\n",
      "1515/1515 [==============================] - 1041s 687ms/step - loss: -0.3265 - accuracy: 0.2644 - val_loss: -0.3906 - val_accuracy: 0.3251\n",
      "Epoch 11/35\n",
      "1515/1515 [==============================] - 1041s 687ms/step - loss: -0.3271 - accuracy: 0.2644 - val_loss: -0.3931 - val_accuracy: 0.3271\n",
      "Epoch 12/35\n",
      "1515/1515 [==============================] - 1056s 697ms/step - loss: -0.3279 - accuracy: 0.2654 - val_loss: -0.3936 - val_accuracy: 0.3288\n",
      "Epoch 13/35\n",
      "1515/1515 [==============================] - 1058s 699ms/step - loss: -0.3287 - accuracy: 0.2665 - val_loss: -0.3899 - val_accuracy: 0.3240\n",
      "Epoch 14/35\n",
      "1515/1515 [==============================] - 1073s 709ms/step - loss: -0.3304 - accuracy: 0.2684 - val_loss: -0.3916 - val_accuracy: 0.3264\n",
      "Epoch 15/35\n",
      "1515/1515 [==============================] - 1075s 710ms/step - loss: -0.3307 - accuracy: 0.2678 - val_loss: -0.3919 - val_accuracy: 0.3260\n"
     ]
    }
   ],
   "source": [
    "# train model\n",
    "history = model.fit_generator(\n",
    "    train_data_gen,\n",
    "    steps_per_epoch=75750//batch_size,\n",
    "    epochs=35,\n",
    "    validation_data=test_data_gen,\n",
    "    validation_steps=25250//batch_size,\n",
    "    workers=1,\n",
    "    use_multiprocessing=False,\n",
    "    callbacks=[es_callback]\n",
    ")"
   ]
  },
  {
   "cell_type": "code",
   "execution_count": 15,
   "metadata": {},
   "outputs": [
    {
     "name": "stdout",
     "output_type": "stream",
     "text": [
      "dict_keys(['loss', 'accuracy', 'val_loss', 'val_accuracy'])\n"
     ]
    },
    {
     "data": {
      "image/png": "[encoded data removed]",
      "text/plain": [
       "<Figure size 432x288 with 1 Axes>"
      ]
     },
     "metadata": {
      "needs_background": "light"
     },
     "output_type": "display_data"
    },
    {
     "data": {
      "image/png": "[encoded data removed]",
      "text/plain": [
       "<Figure size 432x288 with 1 Axes>"
      ]
     },
     "metadata": {
      "needs_background": "light"
     },
     "output_type": "display_data"
    }
   ],
   "source": [
    "# list all data in history\n",
    "print(history.history.keys())\n",
    "# summarize history for accuracy\n",
    "plt.plot(history.history['accuracy'])\n",
    "plt.plot(history.history['val_accuracy'])\n",
    "plt.title('model accuracy')\n",
    "plt.ylabel('accuracy')\n",
    "plt.xlabel('epoch')\n",
    "plt.legend(['train', 'test'], loc='upper left')\n",
    "plt.show()\n",
    "# summarize history for loss\n",
    "plt.plot(history.history['loss'])\n",
    "plt.plot(history.history['val_loss'])\n",
    "plt.title('model loss')\n",
    "plt.ylabel('loss')\n",
    "plt.xlabel('epoch')\n",
    "plt.legend(['train', 'test'], loc='upper left')\n",
    "plt.show()"
   ]
  }
 ],
 "metadata": {
  "kernelspec": {
   "display_name": "Python 3",
   "language": "python",
   "name": "python3"
  },
  "language_info": {
   "codemirror_mode": {
    "name": "ipython",
    "version": 3
   },
   "file_extension": ".py",
   "mimetype": "text/x-python",
   "name": "python",
   "nbconvert_exporter": "python",
   "pygments_lexer": "ipython3",
   "version": "3.7.3"
  }
 },
 "nbformat": 4,
 "nbformat_minor": 2
}
