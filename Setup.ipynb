{
 "cells": [
  {
   "cell_type": "markdown",
   "metadata": {},
   "source": [
    "## Setup for project\n",
    "\n",
    "This notebook will serve as a quick setup-guide for the project. \n",
    "\n",
    "This includes downloading the dataset and installing the necessary packages."
   ]
  },
  {
   "cell_type": "markdown",
   "metadata": {},
   "source": [
    "### Downloading the Data\n",
    "\n",
    "Download the dataset from the following link:\n",
    "http://data.vision.ee.ethz.ch/cvl/food-101.tar.gz\n",
    "\n",
    "\n",
    "Unzip the content's of the downloaded file into the data folder of the root of this project.\n"
   ]
  },
  {
   "cell_type": "markdown",
   "metadata": {},
   "source": [
    "### Install the correct packages\n",
    "\n",
    "To run the project you need the following packages:\n",
    "* scikit-learn\n",
    "* numpy\n",
    "* Pandas\n",
    "* matplotlib\n",
    "* imutils\n",
    "* cv2 (to be removed for a lighter package)\n"
   ]
  },
  {
   "cell_type": "markdown",
   "metadata": {},
   "source": [
    "### Steps to getting setup\n",
    "1. Download the data\n",
    "2. Extract Contents from tar file into root of project folder\n",
    "3. Run the cells in Data_Wrangling.ipynb to organize the files.\n",
    "\n",
    "TODO: Add rest of steps when model is working"
   ]
  }
 ],
 "metadata": {
  "kernelspec": {
   "display_name": "Python 3",
   "language": "python",
   "name": "python3"
  },
  "language_info": {
   "codemirror_mode": {
    "name": "ipython",
    "version": 3
   },
   "file_extension": ".py",
   "mimetype": "text/x-python",
   "name": "python",
   "nbconvert_exporter": "python",
   "pygments_lexer": "ipython3",
   "version": "3.7.3"
  }
 },
 "nbformat": 4,
 "nbformat_minor": 2
}
