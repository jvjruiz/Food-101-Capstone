{
 "cells": [
  {
   "cell_type": "markdown",
   "metadata": {},
   "source": [
    "## Setup for project\n",
    "\n",
    "This notebook will serve as a quick setup-guide for the project. \n",
    "\n",
    "This includes downloading the dataset and installing the necessary packages."
   ]
  },
  {
   "cell_type": "markdown",
   "metadata": {},
   "source": [
    "### Downloading the Data\n",
    "\n",
    "Download the dataset from the following link:\n",
    "http://data.vision.ee.ethz.ch/cvl/food-101.tar.gz\n",
    "\n",
    "\n",
    "Unzip the content's of the downloaded file into the data folder of the root of this project.\n"
   ]
  }
 ],
 "metadata": {
  "kernelspec": {
   "display_name": "Python 3",
   "language": "python",
   "name": "python3"
  },
  "language_info": {
   "codemirror_mode": {
    "name": "ipython",
    "version": 3
   },
   "file_extension": ".py",
   "mimetype": "text/x-python",
   "name": "python",
   "nbconvert_exporter": "python",
   "pygments_lexer": "ipython3",
   "version": "3.7.3"
  }
 },
 "nbformat": 4,
 "nbformat_minor": 2
}
